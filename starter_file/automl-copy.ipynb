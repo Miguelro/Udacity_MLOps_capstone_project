{
  "cells": [
    {
      "cell_type": "markdown",
      "source": [
        "# Automated ML\n",
        "\n",
        "TODO: Import Dependencies. In the cell below, import all the dependencies that you will need to complete the project."
      ],
      "metadata": {}
    },
    {
      "cell_type": "code",
      "source": [
        "import logging\n",
        "import os\n",
        "import csv\n",
        "\n",
        "from matplotlib import pyplot as plt\n",
        "import numpy as np\n",
        "import pandas as pd\n",
        "from sklearn import datasets\n",
        "import pkg_resources\n",
        "\n",
        "import azureml.core\n",
        "from azureml.core import Model\n",
        "from azureml.core.experiment import Experiment\n",
        "from azureml.core.workspace import Workspace\n",
        "from azureml.train.automl import AutoMLConfig\n",
        "from azureml.core.dataset import Dataset\n",
        "\n",
        "from azureml.pipeline.steps import AutoMLStep\n",
        "\n",
        "# Check core SDK version number\n",
        "print(\"SDK version:\", azureml.core.VERSION)"
      ],
      "outputs": [
        {
          "output_type": "stream",
          "name": "stdout",
          "text": "SDK version: 1.51.0\n"
        }
      ],
      "execution_count": 1,
      "metadata": {
        "gather": {
          "logged": 1696090076195
        },
        "jupyter": {
          "outputs_hidden": false,
          "source_hidden": false
        },
        "nteract": {
          "transient": {
            "deleting": false
          }
        }
      }
    },
    {
      "cell_type": "markdown",
      "source": [
        "## Dataset\n",
        "\n",
        "### Overview\n",
        "TODO: In this markdown cell, give an overview of the dataset you are using. Also mention the task you will be performing.\n",
        "\n",
        "\n",
        "TODO: Get data. In the cell below, write code to access the data you will be using in this project. Remember that the dataset needs to be external."
      ],
      "metadata": {}
    },
    {
      "cell_type": "code",
      "source": [
        "ws = Workspace.from_config()\n",
        "\n",
        "# choose a name for experiment\n",
        "experiment_name = 'automl_experiment'\n",
        "project_folder = './pipeline-project'\n",
        "\n",
        "experiment=Experiment(ws, experiment_name)"
      ],
      "outputs": [],
      "execution_count": 2,
      "metadata": {
        "gather": {
          "logged": 1696090077593
        },
        "jupyter": {
          "outputs_hidden": false,
          "source_hidden": false
        },
        "nteract": {
          "transient": {
            "deleting": false
          }
        }
      }
    },
    {
      "cell_type": "code",
      "source": [
        "#Source of the data: https://raw.githubusercontent.com/aiplanethub/Datasets/master/HR_comma_sep.csv\n",
        "\n",
        "# We first check if the data is already loaded inthe Workspace. Otherwise, create it from the file\n",
        "\n",
        "found = False\n",
        "key = \"HR Dataset\"\n",
        "description_text = \"HR Dataset for capstone project\"\n",
        "\n",
        "if key in ws.datasets.keys(): \n",
        "        found = True\n",
        "        dataset = ws.datasets[key] \n",
        "\n",
        "if not found:\n",
        "        # Create AML Dataset and register it into Workspace\n",
        "        example_data = 'https://raw.githubusercontent.com/aiplanethub/Datasets/master/HR_comma_sep.csv'\n",
        "        dataset = Dataset.Tabular.from_delimited_files(example_data)        \n",
        "        #Register Dataset in Workspace\n",
        "        dataset = dataset.register(workspace=ws,\n",
        "                                   name=key,\n",
        "                                   description=description_text)\n",
        "\n",
        "\n",
        "df = dataset.to_pandas_dataframe()\n",
        "df.describe()"
      ],
      "outputs": [
        {
          "output_type": "execute_result",
          "execution_count": 3,
          "data": {
            "text/plain": "       satisfaction_level  last_evaluation  number_project  \\\ncount        14999.000000     14999.000000    14999.000000   \nmean             0.612834         0.716102        3.803054   \nstd              0.248631         0.171169        1.232592   \nmin              0.090000         0.360000        2.000000   \n25%              0.440000         0.560000        3.000000   \n50%              0.640000         0.720000        4.000000   \n75%              0.820000         0.870000        5.000000   \nmax              1.000000         1.000000        7.000000   \n\n       average_montly_hours  time_spend_company  Work_accident          left  \\\ncount          14999.000000        14999.000000   14999.000000  14999.000000   \nmean             201.050337            3.498233       0.144610      0.238083   \nstd               49.943099            1.460136       0.351719      0.425924   \nmin               96.000000            2.000000       0.000000      0.000000   \n25%              156.000000            3.000000       0.000000      0.000000   \n50%              200.000000            3.000000       0.000000      0.000000   \n75%              245.000000            4.000000       0.000000      0.000000   \nmax              310.000000           10.000000       1.000000      1.000000   \n\n       promotion_last_5years  \ncount           14999.000000  \nmean                0.021268  \nstd                 0.144281  \nmin                 0.000000  \n25%                 0.000000  \n50%                 0.000000  \n75%                 0.000000  \nmax                 1.000000  ",
            "text/html": "<div>\n<style scoped>\n    .dataframe tbody tr th:only-of-type {\n        vertical-align: middle;\n    }\n\n    .dataframe tbody tr th {\n        vertical-align: top;\n    }\n\n    .dataframe thead th {\n        text-align: right;\n    }\n</style>\n<table border=\"1\" class=\"dataframe\">\n  <thead>\n    <tr style=\"text-align: right;\">\n      <th></th>\n      <th>satisfaction_level</th>\n      <th>last_evaluation</th>\n      <th>number_project</th>\n      <th>average_montly_hours</th>\n      <th>time_spend_company</th>\n      <th>Work_accident</th>\n      <th>left</th>\n      <th>promotion_last_5years</th>\n    </tr>\n  </thead>\n  <tbody>\n    <tr>\n      <th>count</th>\n      <td>14999.000000</td>\n      <td>14999.000000</td>\n      <td>14999.000000</td>\n      <td>14999.000000</td>\n      <td>14999.000000</td>\n      <td>14999.000000</td>\n      <td>14999.000000</td>\n      <td>14999.000000</td>\n    </tr>\n    <tr>\n      <th>mean</th>\n      <td>0.612834</td>\n      <td>0.716102</td>\n      <td>3.803054</td>\n      <td>201.050337</td>\n      <td>3.498233</td>\n      <td>0.144610</td>\n      <td>0.238083</td>\n      <td>0.021268</td>\n    </tr>\n    <tr>\n      <th>std</th>\n      <td>0.248631</td>\n      <td>0.171169</td>\n      <td>1.232592</td>\n      <td>49.943099</td>\n      <td>1.460136</td>\n      <td>0.351719</td>\n      <td>0.425924</td>\n      <td>0.144281</td>\n    </tr>\n    <tr>\n      <th>min</th>\n      <td>0.090000</td>\n      <td>0.360000</td>\n      <td>2.000000</td>\n      <td>96.000000</td>\n      <td>2.000000</td>\n      <td>0.000000</td>\n      <td>0.000000</td>\n      <td>0.000000</td>\n    </tr>\n    <tr>\n      <th>25%</th>\n      <td>0.440000</td>\n      <td>0.560000</td>\n      <td>3.000000</td>\n      <td>156.000000</td>\n      <td>3.000000</td>\n      <td>0.000000</td>\n      <td>0.000000</td>\n      <td>0.000000</td>\n    </tr>\n    <tr>\n      <th>50%</th>\n      <td>0.640000</td>\n      <td>0.720000</td>\n      <td>4.000000</td>\n      <td>200.000000</td>\n      <td>3.000000</td>\n      <td>0.000000</td>\n      <td>0.000000</td>\n      <td>0.000000</td>\n    </tr>\n    <tr>\n      <th>75%</th>\n      <td>0.820000</td>\n      <td>0.870000</td>\n      <td>5.000000</td>\n      <td>245.000000</td>\n      <td>4.000000</td>\n      <td>0.000000</td>\n      <td>0.000000</td>\n      <td>0.000000</td>\n    </tr>\n    <tr>\n      <th>max</th>\n      <td>1.000000</td>\n      <td>1.000000</td>\n      <td>7.000000</td>\n      <td>310.000000</td>\n      <td>10.000000</td>\n      <td>1.000000</td>\n      <td>1.000000</td>\n      <td>1.000000</td>\n    </tr>\n  </tbody>\n</table>\n</div>"
          },
          "metadata": {}
        }
      ],
      "execution_count": 3,
      "metadata": {
        "gather": {
          "logged": 1696090085793
        }
      }
    },
    {
      "cell_type": "code",
      "source": [
        "df.head()"
      ],
      "outputs": [
        {
          "output_type": "execute_result",
          "execution_count": 5,
          "data": {
            "text/plain": "   satisfaction_level  last_evaluation  number_project  average_montly_hours  \\\n0                0.38             0.53               2                   157   \n1                0.80             0.86               5                   262   \n2                0.11             0.88               7                   272   \n3                0.72             0.87               5                   223   \n4                0.37             0.52               2                   159   \n\n   time_spend_company  Work_accident  left  promotion_last_5years Department  \\\n0                   3              0     1                      0      sales   \n1                   6              0     1                      0      sales   \n2                   4              0     1                      0      sales   \n3                   5              0     1                      0      sales   \n4                   3              0     1                      0      sales   \n\n   salary  \n0     low  \n1  medium  \n2  medium  \n3     low  \n4     low  ",
            "text/html": "<div>\n<style scoped>\n    .dataframe tbody tr th:only-of-type {\n        vertical-align: middle;\n    }\n\n    .dataframe tbody tr th {\n        vertical-align: top;\n    }\n\n    .dataframe thead th {\n        text-align: right;\n    }\n</style>\n<table border=\"1\" class=\"dataframe\">\n  <thead>\n    <tr style=\"text-align: right;\">\n      <th></th>\n      <th>satisfaction_level</th>\n      <th>last_evaluation</th>\n      <th>number_project</th>\n      <th>average_montly_hours</th>\n      <th>time_spend_company</th>\n      <th>Work_accident</th>\n      <th>left</th>\n      <th>promotion_last_5years</th>\n      <th>Department</th>\n      <th>salary</th>\n    </tr>\n  </thead>\n  <tbody>\n    <tr>\n      <th>0</th>\n      <td>0.38</td>\n      <td>0.53</td>\n      <td>2</td>\n      <td>157</td>\n      <td>3</td>\n      <td>0</td>\n      <td>1</td>\n      <td>0</td>\n      <td>sales</td>\n      <td>low</td>\n    </tr>\n    <tr>\n      <th>1</th>\n      <td>0.80</td>\n      <td>0.86</td>\n      <td>5</td>\n      <td>262</td>\n      <td>6</td>\n      <td>0</td>\n      <td>1</td>\n      <td>0</td>\n      <td>sales</td>\n      <td>medium</td>\n    </tr>\n    <tr>\n      <th>2</th>\n      <td>0.11</td>\n      <td>0.88</td>\n      <td>7</td>\n      <td>272</td>\n      <td>4</td>\n      <td>0</td>\n      <td>1</td>\n      <td>0</td>\n      <td>sales</td>\n      <td>medium</td>\n    </tr>\n    <tr>\n      <th>3</th>\n      <td>0.72</td>\n      <td>0.87</td>\n      <td>5</td>\n      <td>223</td>\n      <td>5</td>\n      <td>0</td>\n      <td>1</td>\n      <td>0</td>\n      <td>sales</td>\n      <td>low</td>\n    </tr>\n    <tr>\n      <th>4</th>\n      <td>0.37</td>\n      <td>0.52</td>\n      <td>2</td>\n      <td>159</td>\n      <td>3</td>\n      <td>0</td>\n      <td>1</td>\n      <td>0</td>\n      <td>sales</td>\n      <td>low</td>\n    </tr>\n  </tbody>\n</table>\n</div>"
          },
          "metadata": {}
        }
      ],
      "execution_count": 5,
      "metadata": {
        "gather": {
          "logged": 1696090125796
        }
      }
    },
    {
      "cell_type": "code",
      "source": [
        "dataset.take(5).to_pandas_dataframe()"
      ],
      "outputs": [
        {
          "output_type": "execute_result",
          "execution_count": 6,
          "data": {
            "text/plain": "   satisfaction_level  last_evaluation  number_project  average_montly_hours  \\\n0                0.38             0.53               2                   157   \n1                0.80             0.86               5                   262   \n2                0.11             0.88               7                   272   \n3                0.72             0.87               5                   223   \n4                0.37             0.52               2                   159   \n\n   time_spend_company  Work_accident  left  promotion_last_5years Department  \\\n0                   3              0     1                      0      sales   \n1                   6              0     1                      0      sales   \n2                   4              0     1                      0      sales   \n3                   5              0     1                      0      sales   \n4                   3              0     1                      0      sales   \n\n   salary  \n0     low  \n1  medium  \n2  medium  \n3     low  \n4     low  ",
            "text/html": "<div>\n<style scoped>\n    .dataframe tbody tr th:only-of-type {\n        vertical-align: middle;\n    }\n\n    .dataframe tbody tr th {\n        vertical-align: top;\n    }\n\n    .dataframe thead th {\n        text-align: right;\n    }\n</style>\n<table border=\"1\" class=\"dataframe\">\n  <thead>\n    <tr style=\"text-align: right;\">\n      <th></th>\n      <th>satisfaction_level</th>\n      <th>last_evaluation</th>\n      <th>number_project</th>\n      <th>average_montly_hours</th>\n      <th>time_spend_company</th>\n      <th>Work_accident</th>\n      <th>left</th>\n      <th>promotion_last_5years</th>\n      <th>Department</th>\n      <th>salary</th>\n    </tr>\n  </thead>\n  <tbody>\n    <tr>\n      <th>0</th>\n      <td>0.38</td>\n      <td>0.53</td>\n      <td>2</td>\n      <td>157</td>\n      <td>3</td>\n      <td>0</td>\n      <td>1</td>\n      <td>0</td>\n      <td>sales</td>\n      <td>low</td>\n    </tr>\n    <tr>\n      <th>1</th>\n      <td>0.80</td>\n      <td>0.86</td>\n      <td>5</td>\n      <td>262</td>\n      <td>6</td>\n      <td>0</td>\n      <td>1</td>\n      <td>0</td>\n      <td>sales</td>\n      <td>medium</td>\n    </tr>\n    <tr>\n      <th>2</th>\n      <td>0.11</td>\n      <td>0.88</td>\n      <td>7</td>\n      <td>272</td>\n      <td>4</td>\n      <td>0</td>\n      <td>1</td>\n      <td>0</td>\n      <td>sales</td>\n      <td>medium</td>\n    </tr>\n    <tr>\n      <th>3</th>\n      <td>0.72</td>\n      <td>0.87</td>\n      <td>5</td>\n      <td>223</td>\n      <td>5</td>\n      <td>0</td>\n      <td>1</td>\n      <td>0</td>\n      <td>sales</td>\n      <td>low</td>\n    </tr>\n    <tr>\n      <th>4</th>\n      <td>0.37</td>\n      <td>0.52</td>\n      <td>2</td>\n      <td>159</td>\n      <td>3</td>\n      <td>0</td>\n      <td>1</td>\n      <td>0</td>\n      <td>sales</td>\n      <td>low</td>\n    </tr>\n  </tbody>\n</table>\n</div>"
          },
          "metadata": {}
        }
      ],
      "execution_count": 6,
      "metadata": {
        "jupyter": {
          "source_hidden": false,
          "outputs_hidden": false
        },
        "nteract": {
          "transient": {
            "deleting": false
          }
        },
        "gather": {
          "logged": 1696090150076
        }
      }
    },
    {
      "cell_type": "markdown",
      "source": [
        " ## Cluster creation"
      ],
      "metadata": {}
    },
    {
      "cell_type": "code",
      "source": [
        "from azureml.core.compute import ComputeTarget, AmlCompute\n",
        "from azureml.core.compute_target import ComputeTargetException\n",
        "\n",
        "cluster_name = \"cluster-udacity\"\n",
        "\n",
        "try:\n",
        "    cpu_cluster = ComputeTarget(workspace=ws, name=cluster_name)\n",
        "    print('Found existing cluster in the provided workspace, so we use it.')\n",
        "except ComputeTargetException:\n",
        "    comp_config = AmlCompute.provisioning_configuration(vm_size='STANDARD_D2_V2',\n",
        "                                                           max_nodes=3)\n",
        "    cpu_cluster = ComputeTarget.create(ws, cluster_name, comp_config)\n",
        "\n",
        "cpu_cluster.wait_for_completion(show_output=True)"
      ],
      "outputs": [
        {
          "output_type": "stream",
          "name": "stdout",
          "text": "InProgress..\nSucceededProvisioning operation finished, operation \"Succeeded\"\nSucceeded\nAmlCompute wait for completion finished\n\nMinimum number of nodes requested have been provisioned\n"
        }
      ],
      "execution_count": 7,
      "metadata": {
        "gather": {
          "logged": 1696090168573
        }
      }
    },
    {
      "cell_type": "markdown",
      "source": [
        "## AutoML Configuration\n",
        "\n",
        "TODO: Explain why you chose the automl settings and cofiguration you used below."
      ],
      "metadata": {}
    },
    {
      "cell_type": "code",
      "source": [
        "# TODO: Put your automl settings here\n",
        "automl_settings = {\n",
        "    \"experiment_timeout_minutes\": 20,\n",
        "    \"max_concurrent_iterations\": 5,\n",
        "    \"primary_metric\" : 'AUC_weighted'\n",
        "}\n",
        "\n",
        "# TODO: Put your automl config here\n",
        "automl_config = AutoMLConfig(compute_target=cpu_cluster,\n",
        "                             task = \"classification\",\n",
        "                             training_data=dataset,\n",
        "                             label_column_name=\"left\",   \n",
        "                             path = project_folder,\n",
        "                             enable_early_stopping= True,\n",
        "                             featurization= 'auto',\n",
        "                             debug_log = \"automl_errors.log\",\n",
        "                             **automl_settings\n",
        "                            )"
      ],
      "outputs": [],
      "execution_count": 8,
      "metadata": {
        "gather": {
          "logged": 1696090189422
        },
        "jupyter": {
          "outputs_hidden": false,
          "source_hidden": false
        },
        "nteract": {
          "transient": {
            "deleting": false
          }
        }
      }
    },
    {
      "cell_type": "code",
      "source": [
        "# TODO: Submit your experiment\n",
        "remote_run = experiment.submit(automl_config)"
      ],
      "outputs": [
        {
          "output_type": "stream",
          "name": "stdout",
          "text": "Submitting remote run.\n"
        },
        {
          "output_type": "display_data",
          "data": {
            "text/html": "<table style=\"width:100%\"><tr><th>Experiment</th><th>Id</th><th>Type</th><th>Status</th><th>Details Page</th><th>Docs Page</th></tr><tr><td>automl_experiment</td><td>AutoML_979f9db3-ed3f-4ab4-8b4a-532c929e983a</td><td>automl</td><td>NotStarted</td><td><a href=\"https://ml.azure.com/runs/AutoML_979f9db3-ed3f-4ab4-8b4a-532c929e983a?wsid=/subscriptions/d7f39349-a66b-446e-aba6-0053c2cf1c11/resourcegroups/aml-quickstarts-242066/workspaces/quick-starts-ws-242066&amp;tid=660b3398-b80e-49d2-bc5b-ac1dc93b5254\" target=\"_blank\" rel=\"noopener\">Link to Azure Machine Learning studio</a></td><td><a href=\"https://docs.microsoft.com/en-us/python/api/overview/azure/ml/intro?view=azure-ml-py\" target=\"_blank\" rel=\"noopener\">Link to Documentation</a></td></tr></table>"
          },
          "metadata": {}
        }
      ],
      "execution_count": 9,
      "metadata": {
        "gather": {
          "logged": 1696090195653
        },
        "jupyter": {
          "outputs_hidden": false,
          "source_hidden": false
        },
        "nteract": {
          "transient": {
            "deleting": false
          }
        }
      }
    },
    {
      "cell_type": "markdown",
      "source": [
        "## Run Details\n",
        "\n",
        "OPTIONAL: Write about the different models trained and their performance. Why do you think some models did better than others?\n",
        "\n",
        "TODO: In the cell below, use the `RunDetails` widget to show the different experiments."
      ],
      "metadata": {}
    },
    {
      "cell_type": "code",
      "source": [
        "from azureml.widgets import RunDetails\n",
        "RunDetails(remote_run).show()"
      ],
      "outputs": [
        {
          "output_type": "display_data",
          "data": {
            "text/plain": "_AutoMLWidget(widget_settings={'childWidgetDisplay': 'popup', 'send_telemetry': False, 'log_level': 'INFO', 's…",
            "application/vnd.jupyter.widget-view+json": {
              "version_major": 2,
              "version_minor": 0,
              "model_id": "a3f93e2ad011460eb49cb1856ac264f3"
            }
          },
          "metadata": {}
        },
        {
          "output_type": "display_data",
          "data": {
            "application/aml.mini.widget.v1": "{\"status\": \"Completed\", \"workbench_run_details_uri\": \"https://ml.azure.com/runs/AutoML_979f9db3-ed3f-4ab4-8b4a-532c929e983a?wsid=/subscriptions/d7f39349-a66b-446e-aba6-0053c2cf1c11/resourcegroups/aml-quickstarts-242066/workspaces/quick-starts-ws-242066&tid=660b3398-b80e-49d2-bc5b-ac1dc93b5254\", \"run_id\": \"AutoML_979f9db3-ed3f-4ab4-8b4a-532c929e983a\", \"run_properties\": {\"run_id\": \"AutoML_979f9db3-ed3f-4ab4-8b4a-532c929e983a\", \"created_utc\": \"2023-09-30T16:09:54.246655Z\", \"properties\": {\"num_iterations\": \"1000\", \"training_type\": \"TrainFull\", \"acquisition_function\": \"EI\", \"primary_metric\": \"AUC_weighted\", \"train_split\": \"0\", \"acquisition_parameter\": \"0\", \"num_cross_validation\": null, \"target\": \"cluster-udacity\", \"AMLSettingsJsonString\": \"{\\\"path\\\":null,\\\"name\\\":\\\"automl_experiment\\\",\\\"subscription_id\\\":\\\"d7f39349-a66b-446e-aba6-0053c2cf1c11\\\",\\\"resource_group\\\":\\\"aml-quickstarts-242066\\\",\\\"workspace_name\\\":\\\"quick-starts-ws-242066\\\",\\\"region\\\":\\\"southcentralus\\\",\\\"compute_target\\\":\\\"cluster-udacity\\\",\\\"spark_service\\\":null,\\\"azure_service\\\":\\\"remote\\\",\\\"many_models\\\":false,\\\"pipeline_fetch_max_batch_size\\\":1,\\\"enable_batch_run\\\":true,\\\"enable_parallel_run\\\":false,\\\"num_procs\\\":null,\\\"enable_run_restructure\\\":false,\\\"start_auxiliary_runs_before_parent_complete\\\":false,\\\"enable_code_generation\\\":true,\\\"iterations\\\":1000,\\\"primary_metric\\\":\\\"AUC_weighted\\\",\\\"task_type\\\":\\\"classification\\\",\\\"positive_label\\\":null,\\\"data_script\\\":null,\\\"test_size\\\":0.0,\\\"test_include_predictions_only\\\":false,\\\"validation_size\\\":0.0,\\\"n_cross_validations\\\":null,\\\"y_min\\\":null,\\\"y_max\\\":null,\\\"num_classes\\\":null,\\\"featurization\\\":\\\"auto\\\",\\\"_ignore_package_version_incompatibilities\\\":false,\\\"is_timeseries\\\":false,\\\"max_cores_per_iteration\\\":1,\\\"max_concurrent_iterations\\\":5,\\\"iteration_timeout_minutes\\\":null,\\\"mem_in_mb\\\":null,\\\"enforce_time_on_windows\\\":false,\\\"experiment_timeout_minutes\\\":20,\\\"experiment_exit_score\\\":null,\\\"partition_column_names\\\":null,\\\"whitelist_models\\\":null,\\\"blacklist_algos\\\":[\\\"TensorFlowLinearClassifier\\\",\\\"TensorFlowDNN\\\"],\\\"supported_models\\\":[\\\"LogisticRegression\\\",\\\"MultinomialNaiveBayes\\\",\\\"TensorFlowLinearClassifier\\\",\\\"BernoulliNaiveBayes\\\",\\\"RandomForest\\\",\\\"LightGBM\\\",\\\"SGD\\\",\\\"DecisionTree\\\",\\\"XGBoostClassifier\\\",\\\"KNN\\\",\\\"TabnetClassifier\\\",\\\"ExtremeRandomTrees\\\",\\\"GradientBoosting\\\",\\\"LinearSVM\\\",\\\"AveragedPerceptronClassifier\\\",\\\"TensorFlowDNN\\\",\\\"SVM\\\"],\\\"private_models\\\":[],\\\"auto_blacklist\\\":true,\\\"blacklist_samples_reached\\\":false,\\\"exclude_nan_labels\\\":true,\\\"verbosity\\\":20,\\\"_debug_log\\\":\\\"azureml_automl.log\\\",\\\"show_warnings\\\":false,\\\"model_explainability\\\":true,\\\"service_url\\\":null,\\\"sdk_url\\\":null,\\\"sdk_packages\\\":null,\\\"enable_onnx_compatible_models\\\":false,\\\"enable_split_onnx_featurizer_estimator_models\\\":false,\\\"vm_type\\\":\\\"STANDARD_D2_V2\\\",\\\"telemetry_verbosity\\\":20,\\\"send_telemetry\\\":true,\\\"enable_dnn\\\":false,\\\"scenario\\\":\\\"AutoML\\\",\\\"environment_label\\\":null,\\\"save_mlflow\\\":false,\\\"enable_categorical_indicators\\\":false,\\\"force_text_dnn\\\":false,\\\"enable_feature_sweeping\\\":true,\\\"enable_early_stopping\\\":true,\\\"early_stopping_n_iters\\\":10,\\\"arguments\\\":null,\\\"dataset_id\\\":\\\"386f569b-55e5-476a-b65d-2f5a5a0b3a51\\\",\\\"hyperdrive_config\\\":null,\\\"validation_dataset_id\\\":null,\\\"run_source\\\":null,\\\"metrics\\\":null,\\\"enable_metric_confidence\\\":false,\\\"enable_ensembling\\\":true,\\\"enable_stack_ensembling\\\":true,\\\"ensemble_iterations\\\":15,\\\"enable_tf\\\":false,\\\"enable_subsampling\\\":null,\\\"subsample_seed\\\":null,\\\"enable_nimbusml\\\":false,\\\"enable_streaming\\\":false,\\\"force_streaming\\\":false,\\\"track_child_runs\\\":true,\\\"n_best_runs\\\":1,\\\"allowed_private_models\\\":[],\\\"label_column_name\\\":\\\"left\\\",\\\"weight_column_name\\\":null,\\\"cv_split_column_names\\\":null,\\\"enable_local_managed\\\":false,\\\"_local_managed_run_id\\\":null,\\\"cost_mode\\\":1,\\\"lag_length\\\":0,\\\"metric_operation\\\":\\\"maximize\\\",\\\"preprocess\\\":true}\", \"DataPrepJsonString\": \"{\\\\\\\"training_data\\\\\\\": {\\\\\\\"datasetId\\\\\\\": \\\\\\\"386f569b-55e5-476a-b65d-2f5a5a0b3a51\\\\\\\"}, \\\\\\\"datasets\\\\\\\": 0}\", \"EnableSubsampling\": null, \"runTemplate\": \"AutoML\", \"azureml.runsource\": \"automl\", \"display_task_type\": \"classification\", \"dependencies_versions\": \"{\\\"azureml-dataprep-native\\\": \\\"38.0.0\\\", \\\"azureml-dataprep\\\": \\\"4.10.8\\\", \\\"azureml-dataprep-rslex\\\": \\\"2.17.12\\\", \\\"azureml-train-automl-runtime\\\": \\\"1.51.0.post2\\\", \\\"azureml-train-automl-client\\\": \\\"1.51.0.post1\\\", \\\"azureml-training-tabular\\\": \\\"1.51.0.post1\\\", \\\"azureml-automl-runtime\\\": \\\"1.51.0.post1\\\", \\\"azureml-automl-core\\\": \\\"1.51.0.post1\\\", \\\"azureml-mlflow\\\": \\\"1.51.0\\\", \\\"azureml-datadrift\\\": \\\"1.51.0\\\", \\\"azureml-pipeline\\\": \\\"1.51.0\\\", \\\"azureml-contrib-dataset\\\": \\\"1.51.0\\\", \\\"azureml-contrib-notebook\\\": \\\"1.51.0\\\", \\\"azureml-accel-models\\\": \\\"1.51.0\\\", \\\"azureml-automl-dnn-nlp\\\": \\\"1.51.0\\\", \\\"azureml-pipeline-core\\\": \\\"1.51.0\\\", \\\"azureml-responsibleai\\\": \\\"1.51.0\\\", \\\"azureml-contrib-automl-pipeline-steps\\\": \\\"1.51.0\\\", \\\"azureml-pipeline-steps\\\": \\\"1.51.0\\\", \\\"azureml-core\\\": \\\"1.51.0\\\", \\\"azureml-contrib-reinforcementlearning\\\": \\\"1.51.0\\\", \\\"azureml-contrib-server\\\": \\\"1.51.0\\\", \\\"azureml-opendatasets\\\": \\\"1.51.0\\\", \\\"azureml-contrib-services\\\": \\\"1.51.0\\\", \\\"azureml-telemetry\\\": \\\"1.51.0\\\", \\\"azureml-train-restclients-hyperdrive\\\": \\\"1.51.0\\\", \\\"azureml-interpret\\\": \\\"1.51.0\\\", \\\"azureml-train-core\\\": \\\"1.51.0\\\", \\\"azureml-tensorboard\\\": \\\"1.51.0\\\", \\\"azureml-train\\\": \\\"1.51.0\\\", \\\"azureml-contrib-pipeline-steps\\\": \\\"1.51.0\\\", \\\"azureml-explain-model\\\": \\\"1.51.0\\\", \\\"azureml-cli-common\\\": \\\"1.51.0\\\", \\\"azureml-widgets\\\": \\\"1.51.0\\\", \\\"azureml-train-automl\\\": \\\"1.51.0\\\", \\\"azureml-defaults\\\": \\\"1.51.0\\\", \\\"azureml-contrib-fairness\\\": \\\"1.51.0\\\", \\\"azureml-sdk\\\": \\\"1.51.0\\\", \\\"azureml-dataset-runtime\\\": \\\"1.51.0\\\", \\\"azureml-inference-server-http\\\": \\\"0.8.4\\\"}\", \"_aml_system_scenario_identification\": \"Remote.Parent\", \"ClientType\": \"SDK\", \"PlatformVersion\": \"DPV1\", \"environment_cpu_name\": \"AzureML-AutoML\", \"environment_cpu_label\": \"prod\", \"environment_gpu_name\": \"AzureML-AutoML-GPU\", \"environment_gpu_label\": \"prod\", \"root_attribution\": \"automl\", \"attribution\": \"AutoML\", \"Orchestrator\": \"AutoML\", \"CancelUri\": \"https://southcentralus.api.azureml.ms/jasmine/v1.0/subscriptions/d7f39349-a66b-446e-aba6-0053c2cf1c11/resourceGroups/aml-quickstarts-242066/providers/Microsoft.MachineLearningServices/workspaces/quick-starts-ws-242066/experimentids/97a7d825-4271-4b06-a0b0-13a316936862/cancel/AutoML_979f9db3-ed3f-4ab4-8b4a-532c929e983a\", \"ClientSdkVersion\": null, \"snapshotId\": \"00000000-0000-0000-0000-000000000000\", \"SetupRunId\": \"AutoML_979f9db3-ed3f-4ab4-8b4a-532c929e983a_setup\", \"SetupRunContainerId\": \"dcid.AutoML_979f9db3-ed3f-4ab4-8b4a-532c929e983a_setup\", \"FeaturizationRunJsonPath\": \"featurizer_container.json\", \"FeaturizationRunId\": \"AutoML_979f9db3-ed3f-4ab4-8b4a-532c929e983a_featurize\", \"ProblemInfoJsonString\": \"{\\\"dataset_num_categorical\\\": 0, \\\"is_sparse\\\": true, \\\"subsampling\\\": false, \\\"has_extra_col\\\": true, \\\"dataset_classes\\\": 2, \\\"dataset_features\\\": 40, \\\"dataset_samples\\\": 14999, \\\"single_frequency_class_detected\\\": false}\", \"ModelExplainRunId\": \"AutoML_979f9db3-ed3f-4ab4-8b4a-532c929e983a_ModelExplain\"}, \"tags\": {\"model_explain_run\": \"best_run\", \"_aml_system_automl_run_workspace_id\": \"0fb57879-80ce-48b3-a3fe-56e3549beaf3\", \"_aml_system_azureml.automlComponent\": \"AutoML\", \"pipeline_id_000\": \"5dfac790c5c209f98a1da2dc1c7fb76f0397324f;c7af0367625be6ac5c2fecbfc72ed444cb7a2111;51ae05309834b29f71340af1008fc94fbd8213f4;ce2643edf3d450b10c86c7d034a9bc952dc282d3;039a99c3d5147edeb525249e2660628be3e8b83f;a3dadd95854bf6116ab454844302b51d417d78b7;1dfdf370ba770047b14bfa59c40920815defcdab;294650ec23bc3d067a4972de7ceb12f6e97260fa;1e38ae92baee19b18f211a8b14c16015d5ee3dc3;a7434e890cabef86b0ce4ae71fb633e1e92b854d;dd46719e1e1ca3df6e6826afb96bf9be8390e6e2;208056285bd1883d5bd7d4e4e996a1c71c4b0033;681a59302459aec2cc115ddbc14e1d28f4b3b8df;5bcf69d12307c5f0246b0d33ab19666443595ac9;c74787cd2f0507b852a1ac70d504d83ac9bdec83;6f4a466f84f725a47910c1dff062a1bb46df2a21;79ebb3b8c385e3190e3dd4c1fa28b74730528045;dea7fdbaedc77258dbfe31dbfed41e768ca38939;a72eb56f3d4aadb7b7f0149ba6e5f05657a95ca1;9610149fbcf43017aa810a290e9c04cbe6fa8684;5dcd9bc8a74634130a855a68c1bf956ce7160f98;ee365d2bc711bc6838929328cc4ff4b890fbc6c3;f9c4839cd35f7fe03bcc11d87a99d82f63f333dc;3fe9ace0255a98a01a321c2b4c6ab86f6c1db8e5;dfc631bbb8f3be228d228210719dafe9e4a19b00;dedb4e7fbce67b82718487c01101fe3948a134a2;04efdcbcea3a83f7bc3f54f3ca025d3d2d1a5480;4e4d6f3297be08ed821d25077987ec45b0b59169;f66e49d78de06e5b84b0100cf0cc40c64cb1c736;76d4b2aa1a3d07557c689f4cd2c5b31fa5359e5d;ba29499a4ce25a499a8fbd5b7ff1bc8581607dff;927fbe69f48689cd086753fc017e3c727ff92f46;98ccfc0d6cde229568a981eb23f41fe31e6dc96e;1aabf0c93b8acdfc5f6f3cb631d40cb8861904dd;eab66511029484a56abf6cb19bf3aaa9087ab023;771e8d9c2aadffeb6cee3fd723d9b4a73dcfe355;be55e026a638ac5b0e371686cd17469ae97246c4;94acd6c2996b13f991d6c78d9470f9a9899a17a7;__AutoML_Ensemble__;__AutoML_Stack_Ensemble__\", \"score_000\": \"0.994566323629634;0.9935284028485479;0.9723600905965114;0.9754616166394077;0.9743161311346866;0.9847178570812867;0.9803181782238951;0.9915409758193746;0.9705489170665249;0.9807343606632705;0.9883683312474041;0.9709308804280572;0.9892392465193617;0.9453116250921584;0.9861766162486273;0.9716806657934369;0.9679965081865823;0.9791767388118459;0.993156170604636;0.9846356219241641;0.9701377357280503;0.9866751082114781;0.9709950851917859;0.9930456043466321;0.9848226306903847;0.979822161804018;0.9823039982340456;0.9803287956695269;0.9871003024299808;0.9873605306607148;0.980048091705732;0.9701972667541012;0.9931221917620864;0.9838957932134327;NaN;NaN;NaN;NaN;0.9947772335754368;0.9943876743712382\", \"predicted_cost_000\": \"0;0;0.5;0.5;0.5;0.5;0.5;0.5;0.5;0.5;0.5;0.5;0.5;0.5;0.5;0.5;0.5;0.5;0.5;0.5;1.7382329811605464;0.41362969774332375;0.3150102152612655;1.8861939700747437;0.2410637737456628;1.437784981443355;0.44275371051020757;0.19981085900361603;2.105219856170911;0.7750187314893636;0.21110083227829485;0.3048342721623732;0.4484841174117422;2.0526226544325796;1.2000307922442812;0.5442575579004921;0.33308218917974625;1.588567360444069;0;0\", \"fit_time_000\": \"0.40323966666666666;2.2126576666666664;0.22974933333333333;0.199979;0.08912966666666666;0.336756;2.3456689999999996;0.280071;0.600261;7.285369666666667;0.37256833333333333;0.5658120000000001;0.4797646666666666;0.281309;0.549362;0.08484366666666666;0.16473466666666667;4.212402666666666;3.728996;0.38746533333333333;0.1997536666666667;0.3683643333333333;0.17198366666666667;1.5048693333333334;0.36621166666666666;0.275191;1.0129726666666665;0.08051100000000001;0.20474666666666666;0.20211833333333332;1.0343253333333333;0.6123803333333334;1.0515673333333333;1.0053893333333335;NaN;NaN;NaN;NaN;31;35\", \"training_percent_000\": \"100;100;100;100;100;100;100;100;100;100;100;100;100;100;100;100;100;100;100;100;100;100;100;100;100;100;100;100;100;100;100;100;100;100;100;100;100;100;100;100\", \"iteration_000\": \"0;1;2;3;4;5;6;7;16;17;18;19;8;9;12;10;13;11;14;15;20;21;23;22;24;26;25;27;28;29;30;32;31;35;37;36;34;33;38;39\", \"run_preprocessor_000\": \"MaxAbsScaler;MaxAbsScaler;MaxAbsScaler;MaxAbsScaler;StandardScalerWrapper;SparseNormalizer;SparseNormalizer;StandardScalerWrapper;MaxAbsScaler;StandardScalerWrapper;StandardScalerWrapper;MaxAbsScaler;SparseNormalizer;MaxAbsScaler;StandardScalerWrapper;SparseNormalizer;StandardScalerWrapper;MaxAbsScaler;StandardScalerWrapper;MaxAbsScaler;MaxAbsScaler;StandardScalerWrapper;MaxAbsScaler;StandardScalerWrapper;SparseNormalizer;MaxAbsScaler;StandardScalerWrapper;StandardScalerWrapper;MaxAbsScaler;MaxAbsScaler;SparseNormalizer;StandardScalerWrapper;StandardScalerWrapper;MaxAbsScaler;;;StandardScalerWrapper;MaxAbsScaler;;\", \"run_algorithm_000\": \"LightGBM;XGBoostClassifier;ExtremeRandomTrees;RandomForest;LightGBM;XGBoostClassifier;RandomForest;XGBoostClassifier;LogisticRegression;ExtremeRandomTrees;XGBoostClassifier;ExtremeRandomTrees;XGBoostClassifier;RandomForest;XGBoostClassifier;LightGBM;ExtremeRandomTrees;ExtremeRandomTrees;RandomForest;LightGBM;LogisticRegression;XGBoostClassifier;RandomForest;XGBoostClassifier;XGBoostClassifier;LightGBM;LightGBM;LightGBM;LightGBM;LightGBM;LightGBM;LogisticRegression;XGBoostClassifier;LightGBM;;;XGBoostClassifier;RandomForest;VotingEnsemble;StackEnsemble\", \"dynamic_allowlisting_iterations\": \"<25>;<30>;<35>;\", \"_aml_system_azureml.automl_early_exit_message\": \"No scores improved over last 10 iterations, so experiment stopped early. This early stopping behavior can be disabled by setting enable_early_stopping = False in AutoMLConfig for notebook/python SDK runs.\", \"automl_best_child_run_id\": \"AutoML_979f9db3-ed3f-4ab4-8b4a-532c929e983a_38\", \"model_explain_best_run_child_id\": \"AutoML_979f9db3-ed3f-4ab4-8b4a-532c929e983a_38\"}, \"end_time_utc\": \"2023-09-30T16:32:07.173248Z\", \"status\": \"Completed\", \"log_files\": {}, \"log_groups\": [], \"run_duration\": \"0:22:12\", \"run_number\": \"1696090194\", \"run_queued_details\": {\"status\": \"Completed\", \"details\": null}}, \"child_runs\": [{\"run_id\": \"AutoML_979f9db3-ed3f-4ab4-8b4a-532c929e983a_setup\", \"run_number\": 1696090207, \"metric\": null, \"status\": \"Completed\", \"run_type\": \"azureml.scriptrun\", \"training_percent\": null, \"start_time\": \"2023-09-30T16:15:20.567143Z\", \"end_time\": \"2023-09-30T16:18:13.704607Z\", \"created_time\": \"2023-09-30T16:10:07.213114Z\", \"created_time_dt\": \"2023-09-30T16:10:07.213114Z\", \"duration\": \"0:08:06\", \"iteration\": null, \"goal\": null, \"run_name\": \"Completed\", \"run_properties\": null}, {\"run_id\": \"AutoML_979f9db3-ed3f-4ab4-8b4a-532c929e983a_featurize\", \"run_number\": 1696090694, \"metric\": null, \"status\": \"Completed\", \"run_type\": \"automl.featurization\", \"training_percent\": null, \"start_time\": \"2023-09-30T16:18:14.424858Z\", \"end_time\": \"2023-09-30T16:19:56.174291Z\", \"created_time\": \"2023-09-30T16:18:14.001277Z\", \"created_time_dt\": \"2023-09-30T16:18:14.001277Z\", \"duration\": \"0:01:42\", \"iteration\": null, \"goal\": null, \"run_name\": \"Completed\", \"run_properties\": null}, {\"run_id\": \"AutoML_979f9db3-ed3f-4ab4-8b4a-532c929e983a_0\", \"run_number\": 1696090797, \"metric\": null, \"status\": \"Completed\", \"run_type\": null, \"training_percent\": \"100\", \"start_time\": \"2023-09-30T16:20:26.514629Z\", \"end_time\": \"2023-09-30T16:20:42.141358Z\", \"created_time\": \"2023-09-30T16:19:57.80247Z\", \"created_time_dt\": \"2023-09-30T16:19:57.80247Z\", \"duration\": \"0:00:44\", \"iteration\": \"0\", \"goal\": \"AUC_weighted_max\", \"run_name\": \"MaxAbsScaler, LightGBM\", \"run_properties\": \"copy=True\", \"primary_metric\": 0.99456632, \"best_metric\": 0.99456632}, {\"run_id\": \"AutoML_979f9db3-ed3f-4ab4-8b4a-532c929e983a_1\", \"run_number\": 1696090798, \"metric\": null, \"status\": \"Completed\", \"run_type\": null, \"training_percent\": \"100\", \"start_time\": \"2023-09-30T16:20:42.951346Z\", \"end_time\": \"2023-09-30T16:21:04.036234Z\", \"created_time\": \"2023-09-30T16:19:58.38948Z\", \"created_time_dt\": \"2023-09-30T16:19:58.38948Z\", \"duration\": \"0:01:05\", \"iteration\": \"1\", \"goal\": \"AUC_weighted_max\", \"run_name\": \"MaxAbsScaler, XGBoostClassifier\", \"run_properties\": \"copy=True\", \"primary_metric\": 0.9935284, \"best_metric\": 0.99456632}, {\"run_id\": \"AutoML_979f9db3-ed3f-4ab4-8b4a-532c929e983a_worker_0\", \"run_number\": 1696090799, \"metric\": null, \"status\": \"Completed\", \"run_type\": \"azureml.scriptrun\", \"training_percent\": null, \"start_time\": \"2023-09-30T16:20:14.397248Z\", \"end_time\": \"2023-09-30T16:21:40.014547Z\", \"created_time\": \"2023-09-30T16:19:59.884356Z\", \"created_time_dt\": \"2023-09-30T16:19:59.884356Z\", \"duration\": \"0:01:40\", \"iteration\": null, \"goal\": null, \"run_name\": \"Completed\", \"run_properties\": null}, {\"run_id\": \"AutoML_979f9db3-ed3f-4ab4-8b4a-532c929e983a_4\", \"run_number\": 1696090800, \"metric\": null, \"status\": \"Completed\", \"run_type\": null, \"training_percent\": \"100\", \"start_time\": \"2023-09-30T16:21:58.011148Z\", \"end_time\": \"2023-09-30T16:22:12.038817Z\", \"created_time\": \"2023-09-30T16:20:00.056427Z\", \"created_time_dt\": \"2023-09-30T16:20:00.056427Z\", \"duration\": \"0:02:11\", \"iteration\": \"4\", \"goal\": \"AUC_weighted_max\", \"run_name\": \"StandardScalerWrapper, LightGBM\", \"run_properties\": \"copy=True, with_mean=False, with_std=True\", \"primary_metric\": 0.97431613, \"best_metric\": 0.99456632}, {\"run_id\": \"AutoML_979f9db3-ed3f-4ab4-8b4a-532c929e983a_worker_1\", \"run_number\": 1696090801, \"metric\": null, \"status\": \"Completed\", \"run_type\": \"azureml.scriptrun\", \"training_percent\": null, \"start_time\": \"2023-09-30T16:21:45.470194Z\", \"end_time\": \"2023-09-30T16:23:11.582786Z\", \"created_time\": \"2023-09-30T16:20:01.712469Z\", \"created_time_dt\": \"2023-09-30T16:20:01.712469Z\", \"duration\": \"0:03:09\", \"iteration\": null, \"goal\": null, \"run_name\": \"Completed\", \"run_properties\": null}, {\"run_id\": \"AutoML_979f9db3-ed3f-4ab4-8b4a-532c929e983a_9\", \"run_number\": 1696090802, \"metric\": null, \"status\": \"Completed\", \"run_type\": null, \"training_percent\": \"100\", \"start_time\": \"2023-09-30T16:25:40.950493Z\", \"end_time\": \"2023-09-30T16:25:54.051595Z\", \"created_time\": \"2023-09-30T16:20:02.478572Z\", \"created_time_dt\": \"2023-09-30T16:20:02.478572Z\", \"duration\": \"0:05:51\", \"iteration\": \"9\", \"goal\": \"AUC_weighted_max\", \"run_name\": \"MaxAbsScaler, RandomForest\", \"run_properties\": \"copy=True\", \"primary_metric\": 0.94531163, \"best_metric\": 0.99456632}, {\"run_id\": \"AutoML_979f9db3-ed3f-4ab4-8b4a-532c929e983a_worker_2\", \"run_number\": 1696090803, \"metric\": null, \"status\": \"Completed\", \"run_type\": \"azureml.scriptrun\", \"training_percent\": null, \"start_time\": \"2023-09-30T16:22:57.799997Z\", \"end_time\": \"2023-09-30T16:26:48.140867Z\", \"created_time\": \"2023-09-30T16:20:03.808179Z\", \"created_time_dt\": \"2023-09-30T16:20:03.808179Z\", \"duration\": \"0:06:44\", \"iteration\": null, \"goal\": null, \"run_name\": \"Completed\", \"run_properties\": null}, {\"run_id\": \"AutoML_979f9db3-ed3f-4ab4-8b4a-532c929e983a_13\", \"run_number\": 1696090804, \"metric\": null, \"status\": \"Completed\", \"run_type\": null, \"training_percent\": \"100\", \"start_time\": \"2023-09-30T16:25:55.576664Z\", \"end_time\": \"2023-09-30T16:26:07.814609Z\", \"created_time\": \"2023-09-30T16:20:04.428758Z\", \"created_time_dt\": \"2023-09-30T16:20:04.428758Z\", \"duration\": \"0:06:03\", \"iteration\": \"13\", \"goal\": \"AUC_weighted_max\", \"run_name\": \"StandardScalerWrapper, ExtremeRandomTrees\", \"run_properties\": \"copy=True, with_mean=False, with_std=False\", \"primary_metric\": 0.96799651, \"best_metric\": 0.99456632}, {\"run_id\": \"AutoML_979f9db3-ed3f-4ab4-8b4a-532c929e983a_worker_3\", \"run_number\": 1696090805, \"metric\": null, \"status\": \"Completed\", \"run_type\": \"azureml.scriptrun\", \"training_percent\": null, \"start_time\": \"2023-09-30T16:22:58.678443Z\", \"end_time\": \"2023-09-30T16:27:02.449176Z\", \"created_time\": \"2023-09-30T16:20:05.827385Z\", \"created_time_dt\": \"2023-09-30T16:20:05.827385Z\", \"duration\": \"0:06:56\", \"iteration\": null, \"goal\": null, \"run_name\": \"Completed\", \"run_properties\": null}, {\"run_id\": \"AutoML_979f9db3-ed3f-4ab4-8b4a-532c929e983a_16\", \"run_number\": 1696090806, \"metric\": null, \"status\": \"Completed\", \"run_type\": null, \"training_percent\": \"100\", \"start_time\": \"2023-09-30T16:23:28.58913Z\", \"end_time\": \"2023-09-30T16:23:44.748995Z\", \"created_time\": \"2023-09-30T16:20:06.010446Z\", \"created_time_dt\": \"2023-09-30T16:20:06.010446Z\", \"duration\": \"0:03:38\", \"iteration\": \"16\", \"goal\": \"AUC_weighted_max\", \"run_name\": \"MaxAbsScaler, LogisticRegression\", \"run_properties\": \"copy=True\", \"primary_metric\": 0.97054892, \"best_metric\": 0.99456632}, {\"run_id\": \"AutoML_979f9db3-ed3f-4ab4-8b4a-532c929e983a_worker_4\", \"run_number\": 1696090807, \"metric\": null, \"status\": \"Completed\", \"run_type\": \"azureml.scriptrun\", \"training_percent\": null, \"start_time\": \"2023-09-30T16:23:16.288251Z\", \"end_time\": \"2023-09-30T16:25:08.113585Z\", \"created_time\": \"2023-09-30T16:20:07.71401Z\", \"created_time_dt\": \"2023-09-30T16:20:07.71401Z\", \"duration\": \"0:05:00\", \"iteration\": null, \"goal\": null, \"run_name\": \"Completed\", \"run_properties\": null}, {\"run_id\": \"AutoML_979f9db3-ed3f-4ab4-8b4a-532c929e983a_20\", \"run_number\": 1696091170, \"metric\": null, \"status\": \"Completed\", \"run_type\": \"azureml.scriptrun\", \"training_percent\": \"100\", \"start_time\": \"2023-09-30T16:26:25.723871Z\", \"end_time\": \"2023-09-30T16:27:00.635356Z\", \"created_time\": \"2023-09-30T16:26:10.949181Z\", \"created_time_dt\": \"2023-09-30T16:26:10.949181Z\", \"duration\": \"0:00:49\", \"iteration\": \"20\", \"goal\": \"AUC_weighted_max\", \"run_name\": \"MaxAbsScaler, LogisticRegression\", \"run_properties\": \"copy=True\", \"primary_metric\": 0.97013774, \"best_metric\": 0.99456632}, {\"run_id\": \"AutoML_979f9db3-ed3f-4ab4-8b4a-532c929e983a_23\", \"run_number\": 1696091215, \"metric\": null, \"status\": \"Completed\", \"run_type\": \"azureml.scriptrun\", \"training_percent\": \"100\", \"start_time\": \"2023-09-30T16:27:08.090531Z\", \"end_time\": \"2023-09-30T16:27:42.798664Z\", \"created_time\": \"2023-09-30T16:26:55.008381Z\", \"created_time_dt\": \"2023-09-30T16:26:55.008381Z\", \"duration\": \"0:00:47\", \"iteration\": \"23\", \"goal\": \"AUC_weighted_max\", \"run_name\": \"MaxAbsScaler, RandomForest\", \"run_properties\": \"copy=True\", \"primary_metric\": 0.97099509, \"best_metric\": 0.99456632}, {\"run_id\": \"AutoML_979f9db3-ed3f-4ab4-8b4a-532c929e983a_24\", \"run_number\": 1696091223, \"metric\": null, \"status\": \"Completed\", \"run_type\": \"azureml.scriptrun\", \"training_percent\": \"100\", \"start_time\": \"2023-09-30T16:27:35.992494Z\", \"end_time\": \"2023-09-30T16:28:11.986854Z\", \"created_time\": \"2023-09-30T16:27:03.210693Z\", \"created_time_dt\": \"2023-09-30T16:27:03.210693Z\", \"duration\": \"0:01:08\", \"iteration\": \"24\", \"goal\": \"AUC_weighted_max\", \"run_name\": \"SparseNormalizer, XGBoostClassifier\", \"run_properties\": \"copy=True, norm='max'\", \"primary_metric\": 0.98482263, \"best_metric\": 0.99456632}, {\"run_id\": \"AutoML_979f9db3-ed3f-4ab4-8b4a-532c929e983a_26\", \"run_number\": 1696091253, \"metric\": null, \"status\": \"Completed\", \"run_type\": \"azureml.scriptrun\", \"training_percent\": \"100\", \"start_time\": \"2023-09-30T16:27:47.763474Z\", \"end_time\": \"2023-09-30T16:28:23.692637Z\", \"created_time\": \"2023-09-30T16:27:33.793474Z\", \"created_time_dt\": \"2023-09-30T16:27:33.793474Z\", \"duration\": \"0:00:49\", \"iteration\": \"26\", \"goal\": \"AUC_weighted_max\", \"run_name\": \"MaxAbsScaler, LightGBM\", \"run_properties\": \"copy=True\", \"primary_metric\": 0.97982216, \"best_metric\": 0.99456632}, {\"run_id\": \"AutoML_979f9db3-ed3f-4ab4-8b4a-532c929e983a_27\", \"run_number\": 1696091264, \"metric\": null, \"status\": \"Completed\", \"run_type\": \"azureml.scriptrun\", \"training_percent\": \"100\", \"start_time\": \"2023-09-30T16:28:18.066763Z\", \"end_time\": \"2023-09-30T16:28:52.329861Z\", \"created_time\": \"2023-09-30T16:27:44.492357Z\", \"created_time_dt\": \"2023-09-30T16:27:44.492357Z\", \"duration\": \"0:01:07\", \"iteration\": \"27\", \"goal\": \"AUC_weighted_max\", \"run_name\": \"StandardScalerWrapper, LightGBM\", \"run_properties\": \"copy=True, with_mean=False, with_std=True\", \"primary_metric\": 0.9803288, \"best_metric\": 0.99456632}, {\"run_id\": \"AutoML_979f9db3-ed3f-4ab4-8b4a-532c929e983a_28\", \"run_number\": 1696091267, \"metric\": null, \"status\": \"Completed\", \"run_type\": \"azureml.scriptrun\", \"training_percent\": \"100\", \"start_time\": \"2023-09-30T16:28:30.469012Z\", \"end_time\": \"2023-09-30T16:29:05.980339Z\", \"created_time\": \"2023-09-30T16:27:47.281864Z\", \"created_time_dt\": \"2023-09-30T16:27:47.281864Z\", \"duration\": \"0:01:18\", \"iteration\": \"28\", \"goal\": \"AUC_weighted_max\", \"run_name\": \"MaxAbsScaler, LightGBM\", \"run_properties\": \"copy=True\", \"primary_metric\": 0.9871003, \"best_metric\": 0.99456632}, {\"run_id\": \"AutoML_979f9db3-ed3f-4ab4-8b4a-532c929e983a_29\", \"run_number\": 1696091293, \"metric\": null, \"status\": \"Completed\", \"run_type\": \"azureml.scriptrun\", \"training_percent\": \"100\", \"start_time\": \"2023-09-30T16:28:32.918418Z\", \"end_time\": \"2023-09-30T16:29:07.343419Z\", \"created_time\": \"2023-09-30T16:28:13.4455Z\", \"created_time_dt\": \"2023-09-30T16:28:13.4455Z\", \"duration\": \"0:00:53\", \"iteration\": \"29\", \"goal\": \"AUC_weighted_max\", \"run_name\": \"MaxAbsScaler, LightGBM\", \"run_properties\": \"copy=True\", \"primary_metric\": 0.98736053, \"best_metric\": 0.99456632}, {\"run_id\": \"AutoML_979f9db3-ed3f-4ab4-8b4a-532c929e983a_30\", \"run_number\": 1696091305, \"metric\": null, \"status\": \"Completed\", \"run_type\": \"azureml.scriptrun\", \"training_percent\": \"100\", \"start_time\": \"2023-09-30T16:28:57.578137Z\", \"end_time\": \"2023-09-30T16:29:35.516812Z\", \"created_time\": \"2023-09-30T16:28:25.663136Z\", \"created_time_dt\": \"2023-09-30T16:28:25.663136Z\", \"duration\": \"0:01:09\", \"iteration\": \"30\", \"goal\": \"AUC_weighted_max\", \"run_name\": \"SparseNormalizer, LightGBM\", \"run_properties\": \"copy=True, norm='l1'\", \"primary_metric\": 0.98004809, \"best_metric\": 0.99456632}, {\"run_id\": \"AutoML_979f9db3-ed3f-4ab4-8b4a-532c929e983a_31\", \"run_number\": 1696091309, \"metric\": null, \"status\": \"Completed\", \"run_type\": \"azureml.scriptrun\", \"training_percent\": \"100\", \"start_time\": \"2023-09-30T16:29:09.725604Z\", \"end_time\": \"2023-09-30T16:29:49.531753Z\", \"created_time\": \"2023-09-30T16:28:29.621405Z\", \"created_time_dt\": \"2023-09-30T16:28:29.621405Z\", \"duration\": \"0:01:19\", \"iteration\": \"31\", \"goal\": \"AUC_weighted_max\", \"run_name\": \"StandardScalerWrapper, XGBoostClassifier\", \"run_properties\": \"copy=True, with_mean=False, with_std=False\", \"primary_metric\": 0.99312219, \"best_metric\": 0.99456632}, {\"run_id\": \"AutoML_979f9db3-ed3f-4ab4-8b4a-532c929e983a_32\", \"run_number\": 1696091333, \"metric\": null, \"status\": \"Completed\", \"run_type\": \"azureml.scriptrun\", \"training_percent\": \"100\", \"start_time\": \"2023-09-30T16:29:12.714496Z\", \"end_time\": \"2023-09-30T16:29:49.37651Z\", \"created_time\": \"2023-09-30T16:28:53.60838Z\", \"created_time_dt\": \"2023-09-30T16:28:53.60838Z\", \"duration\": \"0:00:55\", \"iteration\": \"32\", \"goal\": \"AUC_weighted_max\", \"run_name\": \"StandardScalerWrapper, LogisticRegression\", \"run_properties\": \"copy=True, with_mean=False, with_std=True\", \"primary_metric\": 0.97019727, \"best_metric\": 0.99456632}, {\"run_id\": \"AutoML_979f9db3-ed3f-4ab4-8b4a-532c929e983a_33\", \"run_number\": 1696091347, \"metric\": null, \"status\": \"Canceled\", \"run_type\": \"azureml.scriptrun\", \"training_percent\": \"100\", \"start_time\": \"2023-09-30T16:29:40.13918Z\", \"end_time\": \"2023-09-30T16:30:40.373426Z\", \"created_time\": \"2023-09-30T16:29:07.274562Z\", \"created_time_dt\": \"2023-09-30T16:29:07.274562Z\", \"duration\": \"0:01:33\", \"iteration\": \"33\", \"goal\": null, \"run_name\": \"MaxAbsScaler, RandomForest\", \"run_properties\": null}, {\"run_id\": \"AutoML_979f9db3-ed3f-4ab4-8b4a-532c929e983a_34\", \"run_number\": 1696091349, \"metric\": null, \"status\": \"Canceled\", \"run_type\": \"azureml.scriptrun\", \"training_percent\": \"100\", \"start_time\": \"2023-09-30T16:29:55.350979Z\", \"end_time\": \"2023-09-30T16:30:40.052069Z\", \"created_time\": \"2023-09-30T16:29:09.328706Z\", \"created_time_dt\": \"2023-09-30T16:29:09.328706Z\", \"duration\": \"0:01:30\", \"iteration\": \"34\", \"goal\": null, \"run_name\": \"StandardScalerWrapper, XGBoostClassifier\", \"run_properties\": null}, {\"run_id\": \"AutoML_979f9db3-ed3f-4ab4-8b4a-532c929e983a_35\", \"run_number\": 1696091377, \"metric\": null, \"status\": \"Completed\", \"run_type\": \"azureml.scriptrun\", \"training_percent\": \"100\", \"start_time\": \"2023-09-30T16:29:55.405186Z\", \"end_time\": \"2023-09-30T16:30:33.415331Z\", \"created_time\": \"2023-09-30T16:29:37.518585Z\", \"created_time_dt\": \"2023-09-30T16:29:37.518585Z\", \"duration\": \"0:00:55\", \"iteration\": \"35\", \"goal\": \"AUC_weighted_max\", \"run_name\": \"MaxAbsScaler, LightGBM\", \"run_properties\": \"copy=True\", \"primary_metric\": 0.98389579, \"best_metric\": 0.99456632}, {\"run_id\": \"AutoML_979f9db3-ed3f-4ab4-8b4a-532c929e983a_37\", \"run_number\": 1696091390, \"metric\": null, \"status\": \"Canceled\", \"run_type\": \"azureml.scriptrun\", \"training_percent\": \"100\", \"start_time\": \"2023-09-30T16:30:34.049879Z\", \"end_time\": \"2023-09-30T16:30:37.025458Z\", \"created_time\": \"2023-09-30T16:29:50.793102Z\", \"created_time_dt\": \"2023-09-30T16:29:50.793102Z\", \"duration\": \"0:00:46\", \"iteration\": \"37\", \"goal\": null, \"run_name\": \"Canceled\", \"run_properties\": null}, {\"run_id\": \"AutoML_979f9db3-ed3f-4ab4-8b4a-532c929e983a_39\", \"run_number\": 1696091441, \"metric\": null, \"status\": \"Completed\", \"run_type\": \"azureml.scriptrun\", \"training_percent\": \"100\", \"start_time\": \"2023-09-30T16:30:51.99082Z\", \"end_time\": \"2023-09-30T16:32:05.887306Z\", \"created_time\": \"2023-09-30T16:30:41.135653Z\", \"created_time_dt\": \"2023-09-30T16:30:41.135653Z\", \"duration\": \"0:01:24\", \"iteration\": \"39\", \"goal\": \"AUC_weighted_max\", \"run_name\": \"StackEnsemble\", \"run_properties\": \"base_learners=[('0', Pipeline(memory=None, steps=[('maxabsscaler', MaxAbsScaler(copy=True\", \"primary_metric\": 0.99438767, \"best_metric\": 0.99456632}], \"children_metrics\": {\"categories\": [0], \"series\": {\"AUC_macro\": [{\"categories\": [\"0\", \"1\", \"4\", \"9\", \"13\", \"16\", \"20\", \"23\", \"24\", \"26\", \"27\", \"28\", \"29\", \"30\", \"31\", \"32\", \"35\", \"39\"], \"mode\": \"markers\", \"name\": \"AUC_macro\", \"stepped\": false, \"type\": \"scatter\", \"data\": [0.9945663236296339, 0.9935284319729832, 0.9743161311346866, 0.9453116250921584, 0.9679965081865823, 0.9705489170665248, 0.9701377357280503, 0.9709950851917858, 0.9848226306903847, 0.979822161804018, 0.9803287956695269, 0.9871003024299808, 0.9873605306607148, 0.980048091705732, 0.9931221917620864, 0.9701972667541012, 0.9838957932134327, 0.9943876743712382]}, {\"categories\": [\"0\", \"1\", \"4\", \"9\", \"13\", \"16\", \"20\", \"23\", \"24\", \"26\", \"27\", \"28\", \"29\", \"30\", \"31\", \"32\", \"35\", \"39\"], \"mode\": \"lines\", \"name\": \"AUC_macro_max\", \"stepped\": true, \"type\": \"scatter\", \"data\": [0.9945663236296339, 0.9945663236296339, 0.9945663236296339, 0.9945663236296339, 0.9945663236296339, 0.9945663236296339, 0.9945663236296339, 0.9945663236296339, 0.9945663236296339, 0.9945663236296339, 0.9945663236296339, 0.9945663236296339, 0.9945663236296339, 0.9945663236296339, 0.9945663236296339, 0.9945663236296339, 0.9945663236296339, 0.9945663236296339]}], \"AUC_micro\": [{\"categories\": [\"0\", \"1\", \"4\", \"9\", \"13\", \"16\", \"20\", \"23\", \"24\", \"26\", \"27\", \"28\", \"29\", \"30\", \"31\", \"32\", \"35\", \"39\"], \"mode\": \"markers\", \"name\": \"AUC_micro\", \"stepped\": false, \"type\": \"scatter\", \"data\": [0.9969327719209146, 0.9963702178273534, 0.9829158664372853, 0.9477422459698518, 0.9664447241959785, 0.9726892315401642, 0.9807427579180663, 0.97973667574942, 0.9919779914201028, 0.9879439826468087, 0.9773692939615536, 0.99274787898237, 0.9927732617998822, 0.9879061394751908, 0.9960461558254199, 0.9807347368917587, 0.9906246563649203, 0.9947552190297141]}, {\"categories\": [\"0\", \"1\", \"4\", \"9\", \"13\", \"16\", \"20\", \"23\", \"24\", \"26\", \"27\", \"28\", \"29\", \"30\", \"31\", \"32\", \"35\", \"39\"], \"mode\": \"lines\", \"name\": \"AUC_micro_max\", \"stepped\": true, \"type\": \"scatter\", \"data\": [0.9969327719209146, 0.9969327719209146, 0.9969327719209146, 0.9969327719209146, 0.9969327719209146, 0.9969327719209146, 0.9969327719209146, 0.9969327719209146, 0.9969327719209146, 0.9969327719209146, 0.9969327719209146, 0.9969327719209146, 0.9969327719209146, 0.9969327719209146, 0.9969327719209146, 0.9969327719209146, 0.9969327719209146, 0.9969327719209146]}], \"norm_macro_recall\": [{\"categories\": [\"0\", \"1\", \"4\", \"9\", \"13\", \"16\", \"20\", \"23\", \"24\", \"26\", \"27\", \"28\", \"29\", \"30\", \"31\", \"32\", \"35\", \"39\"], \"mode\": \"markers\", \"name\": \"norm_macro_recall\", \"stepped\": false, \"type\": \"scatter\", \"data\": [0.9643597681021614, 0.9655278371743693, 0.8443356290563379, 0.765300473500364, 0.6449093572581268, 0.842289921872626, 0.8671310445578108, 0.8501306893710666, 0.9111322036551227, 0.8796892753973204, 0.8131429397008572, 0.907246651155693, 0.9063683024931121, 0.8954146574537658, 0.9460916522969955, 0.8675797396065409, 0.8964461245352634, 0.9383608209700336]}, {\"categories\": [\"0\", \"1\", \"4\", \"9\", \"13\", \"16\", \"20\", \"23\", \"24\", \"26\", \"27\", \"28\", \"29\", \"30\", \"31\", \"32\", \"35\", \"39\"], \"mode\": \"lines\", \"name\": \"norm_macro_recall_max\", \"stepped\": true, \"type\": \"scatter\", \"data\": [0.9643597681021614, 0.9655278371743693, 0.9655278371743693, 0.9655278371743693, 0.9655278371743693, 0.9655278371743693, 0.9655278371743693, 0.9655278371743693, 0.9655278371743693, 0.9655278371743693, 0.9655278371743693, 0.9655278371743693, 0.9655278371743693, 0.9655278371743693, 0.9655278371743693, 0.9655278371743693, 0.9655278371743693, 0.9655278371743693]}], \"recall_score_macro\": [{\"categories\": [\"0\", \"1\", \"4\", \"9\", \"13\", \"16\", \"20\", \"23\", \"24\", \"26\", \"27\", \"28\", \"29\", \"30\", \"31\", \"32\", \"35\", \"39\"], \"mode\": \"markers\", \"name\": \"recall_score_macro\", \"stepped\": false, \"type\": \"scatter\", \"data\": [0.9821798840510807, 0.9827639185871847, 0.922167814528169, 0.882650236750182, 0.8224546786290633, 0.921144960936313, 0.9335655222789055, 0.9250653446855331, 0.9555661018275613, 0.9398446376986603, 0.9065714698504287, 0.9536233255778465, 0.953184151246556, 0.9477073287268829, 0.9730458261484977, 0.9337898698032703, 0.9482230622676316, 0.9691804104850168]}, {\"categories\": [\"0\", \"1\", \"4\", \"9\", \"13\", \"16\", \"20\", \"23\", \"24\", \"26\", \"27\", \"28\", \"29\", \"30\", \"31\", \"32\", \"35\", \"39\"], \"mode\": \"lines\", \"name\": \"recall_score_macro_max\", \"stepped\": true, \"type\": \"scatter\", \"data\": [0.9821798840510807, 0.9827639185871847, 0.9827639185871847, 0.9827639185871847, 0.9827639185871847, 0.9827639185871847, 0.9827639185871847, 0.9827639185871847, 0.9827639185871847, 0.9827639185871847, 0.9827639185871847, 0.9827639185871847, 0.9827639185871847, 0.9827639185871847, 0.9827639185871847, 0.9827639185871847, 0.9827639185871847, 0.9827639185871847]}], \"recall_score_micro\": [{\"categories\": [\"0\", \"1\", \"4\", \"9\", \"13\", \"16\", \"20\", \"23\", \"24\", \"26\", \"27\", \"28\", \"29\", \"30\", \"31\", \"32\", \"35\", \"39\"], \"mode\": \"markers\", \"name\": \"recall_score_micro\", \"stepped\": false, \"type\": \"scatter\", \"data\": [0.9889992131759686, 0.989132599853304, 0.9585305594452224, 0.8684582249783289, 0.9129274254850971, 0.9170612655864505, 0.9490633460025338, 0.9359287057411482, 0.9752650796826031, 0.9649310128692404, 0.953530026005201, 0.974331652997266, 0.9736649996666, 0.9675312529172501, 0.9838656131226245, 0.9492633993465359, 0.9687312395812496, 0.983865826498633]}, {\"categories\": [\"0\", \"1\", \"4\", \"9\", \"13\", \"16\", \"20\", \"23\", \"24\", \"26\", \"27\", \"28\", \"29\", \"30\", \"31\", \"32\", \"35\", \"39\"], \"mode\": \"lines\", \"name\": \"recall_score_micro_max\", \"stepped\": true, \"type\": \"scatter\", \"data\": [0.9889992131759686, 0.989132599853304, 0.989132599853304, 0.989132599853304, 0.989132599853304, 0.989132599853304, 0.989132599853304, 0.989132599853304, 0.989132599853304, 0.989132599853304, 0.989132599853304, 0.989132599853304, 0.989132599853304, 0.989132599853304, 0.989132599853304, 0.989132599853304, 0.989132599853304, 0.989132599853304]}], \"average_precision_score_weighted\": [{\"categories\": [\"0\", \"1\", \"4\", \"9\", \"13\", \"16\", \"20\", \"23\", \"24\", \"26\", \"27\", \"28\", \"29\", \"30\", \"31\", \"32\", \"35\", \"39\"], \"mode\": \"markers\", \"name\": \"average_precision_score_weighted\", \"stepped\": false, \"type\": \"scatter\", \"data\": [0.9960110773042806, 0.9952350424823496, 0.9808989605257795, 0.95541062127971, 0.9742201576043729, 0.9745528763128873, 0.9757313726360932, 0.9776366073579207, 0.9878986297946438, 0.9850381634134164, 0.9845443045799728, 0.9903480330248637, 0.9904702533906967, 0.9849882787958798, 0.9948887334424835, 0.9756486554192182, 0.9877307746956984, 0.9957612268833035]}, {\"categories\": [\"0\", \"1\", \"4\", \"9\", \"13\", \"16\", \"20\", \"23\", \"24\", \"26\", \"27\", \"28\", \"29\", \"30\", \"31\", \"32\", \"35\", \"39\"], \"mode\": \"lines\", \"name\": \"average_precision_score_weighted_max\", \"stepped\": true, \"type\": \"scatter\", \"data\": [0.9960110773042806, 0.9960110773042806, 0.9960110773042806, 0.9960110773042806, 0.9960110773042806, 0.9960110773042806, 0.9960110773042806, 0.9960110773042806, 0.9960110773042806, 0.9960110773042806, 0.9960110773042806, 0.9960110773042806, 0.9960110773042806, 0.9960110773042806, 0.9960110773042806, 0.9960110773042806, 0.9960110773042806, 0.9960110773042806]}], \"precision_score_micro\": [{\"categories\": [\"0\", \"1\", \"4\", \"9\", \"13\", \"16\", \"20\", \"23\", \"24\", \"26\", \"27\", \"28\", \"29\", \"30\", \"31\", \"32\", \"35\", \"39\"], \"mode\": \"markers\", \"name\": \"precision_score_micro\", \"stepped\": false, \"type\": \"scatter\", \"data\": [0.9889992131759686, 0.989132599853304, 0.9585305594452224, 0.8684582249783289, 0.9129274254850971, 0.9170612655864505, 0.9490633460025338, 0.9359287057411482, 0.9752650796826031, 0.9649310128692404, 0.953530026005201, 0.974331652997266, 0.9736649996666, 0.9675312529172501, 0.9838656131226245, 0.9492633993465359, 0.9687312395812496, 0.983865826498633]}, {\"categories\": [\"0\", \"1\", \"4\", \"9\", \"13\", \"16\", \"20\", \"23\", \"24\", \"26\", \"27\", \"28\", \"29\", \"30\", \"31\", \"32\", \"35\", \"39\"], \"mode\": \"lines\", \"name\": \"precision_score_micro_max\", \"stepped\": true, \"type\": \"scatter\", \"data\": [0.9889992131759686, 0.989132599853304, 0.989132599853304, 0.989132599853304, 0.989132599853304, 0.989132599853304, 0.989132599853304, 0.989132599853304, 0.989132599853304, 0.989132599853304, 0.989132599853304, 0.989132599853304, 0.989132599853304, 0.989132599853304, 0.989132599853304, 0.989132599853304, 0.989132599853304, 0.989132599853304]}], \"AUC_weighted\": [{\"categories\": [\"0\", \"1\", \"4\", \"9\", \"13\", \"16\", \"20\", \"23\", \"24\", \"26\", \"27\", \"28\", \"29\", \"30\", \"31\", \"32\", \"35\", \"39\"], \"mode\": \"markers\", \"name\": \"AUC_weighted\", \"stepped\": false, \"type\": \"scatter\", \"data\": [0.994566323629634, 0.9935284028485479, 0.9743161311346866, 0.9453116250921584, 0.9679965081865823, 0.9705489170665249, 0.9701377357280503, 0.9709950851917859, 0.9848226306903847, 0.979822161804018, 0.9803287956695269, 0.9871003024299808, 0.9873605306607148, 0.980048091705732, 0.9931221917620864, 0.9701972667541012, 0.9838957932134327, 0.9943876743712382]}, {\"categories\": [\"0\", \"1\", \"4\", \"9\", \"13\", \"16\", \"20\", \"23\", \"24\", \"26\", \"27\", \"28\", \"29\", \"30\", \"31\", \"32\", \"35\", \"39\"], \"mode\": \"lines\", \"name\": \"AUC_weighted_max\", \"stepped\": true, \"type\": \"scatter\", \"data\": [0.994566323629634, 0.994566323629634, 0.994566323629634, 0.994566323629634, 0.994566323629634, 0.994566323629634, 0.994566323629634, 0.994566323629634, 0.994566323629634, 0.994566323629634, 0.994566323629634, 0.994566323629634, 0.994566323629634, 0.994566323629634, 0.994566323629634, 0.994566323629634, 0.994566323629634, 0.994566323629634]}], \"f1_score_macro\": [{\"categories\": [\"0\", \"1\", \"4\", \"9\", \"13\", \"16\", \"20\", \"23\", \"24\", \"26\", \"27\", \"28\", \"29\", \"30\", \"31\", \"32\", \"35\", \"39\"], \"mode\": \"markers\", \"name\": \"f1_score_macro\", \"stepped\": false, \"type\": \"scatter\", \"data\": [0.9847539334360141, 0.9849574735094437, 0.9403138506034509, 0.8377430383968801, 0.86299436642563, 0.8929299287115674, 0.9303220619241781, 0.9141240696637629, 0.9651948927628494, 0.9504868141911849, 0.9317462332528845, 0.9638245343194779, 0.9629304362357004, 0.9545750349991312, 0.9775564680312581, 0.930593435787431, 0.9561384382733644, 0.9773851736638356]}, {\"categories\": [\"0\", \"1\", \"4\", \"9\", \"13\", \"16\", \"20\", \"23\", \"24\", \"26\", \"27\", \"28\", \"29\", \"30\", \"31\", \"32\", \"35\", \"39\"], \"mode\": \"lines\", \"name\": \"f1_score_macro_max\", \"stepped\": true, \"type\": \"scatter\", \"data\": [0.9847539334360141, 0.9849574735094437, 0.9849574735094437, 0.9849574735094437, 0.9849574735094437, 0.9849574735094437, 0.9849574735094437, 0.9849574735094437, 0.9849574735094437, 0.9849574735094437, 0.9849574735094437, 0.9849574735094437, 0.9849574735094437, 0.9849574735094437, 0.9849574735094437, 0.9849574735094437, 0.9849574735094437, 0.9849574735094437]}], \"weighted_accuracy\": [{\"categories\": [\"0\", \"1\", \"4\", \"9\", \"13\", \"16\", \"20\", \"23\", \"24\", \"26\", \"27\", \"28\", \"29\", \"30\", \"31\", \"32\", \"35\", \"39\"], \"mode\": \"markers\", \"name\": \"weighted_accuracy\", \"stepped\": false, \"type\": \"scatter\", \"data\": [0.9928767556519172, 0.9927582983225954, 0.9792362599189893, 0.8603923545179318, 0.9644030768944082, 0.9147433976052728, 0.957889933396543, 0.9421224495864228, 0.9864780241503865, 0.9792162205712996, 0.9802378349922359, 0.9861267549015391, 0.9853288631475539, 0.9788180478738089, 0.9900231408764472, 0.9580743910189217, 0.9804160406492027, 0.9922515312582578]}, {\"categories\": [\"0\", \"1\", \"4\", \"9\", \"13\", \"16\", \"20\", \"23\", \"24\", \"26\", \"27\", \"28\", \"29\", \"30\", \"31\", \"32\", \"35\", \"39\"], \"mode\": \"lines\", \"name\": \"weighted_accuracy_max\", \"stepped\": true, \"type\": \"scatter\", \"data\": [0.9928767556519172, 0.9928767556519172, 0.9928767556519172, 0.9928767556519172, 0.9928767556519172, 0.9928767556519172, 0.9928767556519172, 0.9928767556519172, 0.9928767556519172, 0.9928767556519172, 0.9928767556519172, 0.9928767556519172, 0.9928767556519172, 0.9928767556519172, 0.9928767556519172, 0.9928767556519172, 0.9928767556519172, 0.9928767556519172]}], \"accuracy\": [{\"categories\": [\"0\", \"1\", \"4\", \"9\", \"13\", \"16\", \"20\", \"23\", \"24\", \"26\", \"27\", \"28\", \"29\", \"30\", \"31\", \"32\", \"35\", \"39\"], \"mode\": \"markers\", \"name\": \"accuracy\", \"stepped\": false, \"type\": \"scatter\", \"data\": [0.9889992131759686, 0.989132599853304, 0.9585305594452224, 0.8684582249783289, 0.9129274254850971, 0.9170612655864505, 0.9490633460025338, 0.9359287057411482, 0.9752650796826031, 0.9649310128692404, 0.953530026005201, 0.974331652997266, 0.9736649996666, 0.9675312529172501, 0.9838656131226245, 0.9492633993465359, 0.9687312395812496, 0.983865826498633]}, {\"categories\": [\"0\", \"1\", \"4\", \"9\", \"13\", \"16\", \"20\", \"23\", \"24\", \"26\", \"27\", \"28\", \"29\", \"30\", \"31\", \"32\", \"35\", \"39\"], \"mode\": \"lines\", \"name\": \"accuracy_max\", \"stepped\": true, \"type\": \"scatter\", \"data\": [0.9889992131759686, 0.989132599853304, 0.989132599853304, 0.989132599853304, 0.989132599853304, 0.989132599853304, 0.989132599853304, 0.989132599853304, 0.989132599853304, 0.989132599853304, 0.989132599853304, 0.989132599853304, 0.989132599853304, 0.989132599853304, 0.989132599853304, 0.989132599853304, 0.989132599853304, 0.989132599853304]}], \"average_precision_score_macro\": [{\"categories\": [\"0\", \"1\", \"4\", \"9\", \"13\", \"16\", \"20\", \"23\", \"24\", \"26\", \"27\", \"28\", \"29\", \"30\", \"31\", \"32\", \"35\", \"39\"], \"mode\": \"markers\", \"name\": \"average_precision_score_macro\", \"stepped\": false, \"type\": \"scatter\", \"data\": [0.994041493995721, 0.993129908199014, 0.9719605534697638, 0.9298312565444876, 0.9602133457001569, 0.9587358913246086, 0.9620157740149483, 0.9664399247014018, 0.9832126039287576, 0.977515825492968, 0.9780121409260936, 0.9852223663595717, 0.9858246580778287, 0.9775802465480116, 0.9922611667042984, 0.9618969839031203, 0.9816688540116422, 0.9938243254797235]}, {\"categories\": [\"0\", \"1\", \"4\", \"9\", \"13\", \"16\", \"20\", \"23\", \"24\", \"26\", \"27\", \"28\", \"29\", \"30\", \"31\", \"32\", \"35\", \"39\"], \"mode\": \"lines\", \"name\": \"average_precision_score_macro_max\", \"stepped\": true, \"type\": \"scatter\", \"data\": [0.994041493995721, 0.994041493995721, 0.994041493995721, 0.994041493995721, 0.994041493995721, 0.994041493995721, 0.994041493995721, 0.994041493995721, 0.994041493995721, 0.994041493995721, 0.994041493995721, 0.994041493995721, 0.994041493995721, 0.994041493995721, 0.994041493995721, 0.994041493995721, 0.994041493995721, 0.994041493995721]}], \"precision_score_weighted\": [{\"categories\": [\"0\", \"1\", \"4\", \"9\", \"13\", \"16\", \"20\", \"23\", \"24\", \"26\", \"27\", \"28\", \"29\", \"30\", \"31\", \"32\", \"35\", \"39\"], \"mode\": \"markers\", \"name\": \"precision_score_weighted\", \"stepped\": false, \"type\": \"scatter\", \"data\": [0.9889783084484249, 0.9891116432966541, 0.9589287863971573, 0.8954252217283755, 0.9190102031709816, 0.9271829506419351, 0.9495329390111765, 0.9385972887153606, 0.9752965577491534, 0.9647820526158739, 0.9551415849613688, 0.974379009179455, 0.973666657514244, 0.9673171898724796, 0.9838311739930669, 0.9497260699892195, 0.968566782580849, 0.9839892116379234]}, {\"categories\": [\"0\", \"1\", \"4\", \"9\", \"13\", \"16\", \"20\", \"23\", \"24\", \"26\", \"27\", \"28\", \"29\", \"30\", \"31\", \"32\", \"35\", \"39\"], \"mode\": \"lines\", \"name\": \"precision_score_weighted_max\", \"stepped\": true, \"type\": \"scatter\", \"data\": [0.9889783084484249, 0.9891116432966541, 0.9891116432966541, 0.9891116432966541, 0.9891116432966541, 0.9891116432966541, 0.9891116432966541, 0.9891116432966541, 0.9891116432966541, 0.9891116432966541, 0.9891116432966541, 0.9891116432966541, 0.9891116432966541, 0.9891116432966541, 0.9891116432966541, 0.9891116432966541, 0.9891116432966541, 0.9891116432966541]}], \"matthews_correlation\": [{\"categories\": [\"0\", \"1\", \"4\", \"9\", \"13\", \"16\", \"20\", \"23\", \"24\", \"26\", \"27\", \"28\", \"29\", \"30\", \"31\", \"32\", \"35\", \"39\"], \"mode\": \"markers\", \"name\": \"matthews_correlation\", \"stepped\": false, \"type\": \"scatter\", \"data\": [0.9695626629998161, 0.9699577547503776, 0.8837787952907886, 0.6950358580542915, 0.7523535255229098, 0.7928885643601014, 0.8607673975233073, 0.8295695724474778, 0.931175157501893, 0.9019794489208608, 0.8700437113766065, 0.9285349687612694, 0.9266665684139497, 0.9095565252882661, 0.9552826350747647, 0.8613082677325297, 0.9128301980676841, 0.9553580144036214]}, {\"categories\": [\"0\", \"1\", \"4\", \"9\", \"13\", \"16\", \"20\", \"23\", \"24\", \"26\", \"27\", \"28\", \"29\", \"30\", \"31\", \"32\", \"35\", \"39\"], \"mode\": \"lines\", \"name\": \"matthews_correlation_max\", \"stepped\": true, \"type\": \"scatter\", \"data\": [0.9695626629998161, 0.9699577547503776, 0.9699577547503776, 0.9699577547503776, 0.9699577547503776, 0.9699577547503776, 0.9699577547503776, 0.9699577547503776, 0.9699577547503776, 0.9699577547503776, 0.9699577547503776, 0.9699577547503776, 0.9699577547503776, 0.9699577547503776, 0.9699577547503776, 0.9699577547503776, 0.9699577547503776, 0.9699577547503776]}], \"f1_score_micro\": [{\"categories\": [\"0\", \"1\", \"4\", \"9\", \"13\", \"16\", \"20\", \"23\", \"24\", \"26\", \"27\", \"28\", \"29\", \"30\", \"31\", \"32\", \"35\", \"39\"], \"mode\": \"markers\", \"name\": \"f1_score_micro\", \"stepped\": false, \"type\": \"scatter\", \"data\": [0.9889992131759686, 0.989132599853304, 0.9585305594452224, 0.8684582249783289, 0.9129274254850971, 0.9170612655864506, 0.949063346002534, 0.9359287057411482, 0.9752650796826031, 0.9649310128692404, 0.953530026005201, 0.974331652997266, 0.9736649996666, 0.9675312529172501, 0.9838656131226245, 0.9492633993465359, 0.9687312395812496, 0.983865826498633]}, {\"categories\": [\"0\", \"1\", \"4\", \"9\", \"13\", \"16\", \"20\", \"23\", \"24\", \"26\", \"27\", \"28\", \"29\", \"30\", \"31\", \"32\", \"35\", \"39\"], \"mode\": \"lines\", \"name\": \"f1_score_micro_max\", \"stepped\": true, \"type\": \"scatter\", \"data\": [0.9889992131759686, 0.989132599853304, 0.989132599853304, 0.989132599853304, 0.989132599853304, 0.989132599853304, 0.989132599853304, 0.989132599853304, 0.989132599853304, 0.989132599853304, 0.989132599853304, 0.989132599853304, 0.989132599853304, 0.989132599853304, 0.989132599853304, 0.989132599853304, 0.989132599853304, 0.989132599853304]}], \"balanced_accuracy\": [{\"categories\": [\"0\", \"1\", \"4\", \"9\", \"13\", \"16\", \"20\", \"23\", \"24\", \"26\", \"27\", \"28\", \"29\", \"30\", \"31\", \"32\", \"35\", \"39\"], \"mode\": \"markers\", \"name\": \"balanced_accuracy\", \"stepped\": false, \"type\": \"scatter\", \"data\": [0.9821798840510807, 0.9827639185871847, 0.922167814528169, 0.882650236750182, 0.8224546786290633, 0.921144960936313, 0.9335655222789055, 0.9250653446855331, 0.9555661018275613, 0.9398446376986603, 0.9065714698504287, 0.9536233255778465, 0.953184151246556, 0.9477073287268829, 0.9730458261484977, 0.9337898698032703, 0.9482230622676316, 0.9691804104850168]}, {\"categories\": [\"0\", \"1\", \"4\", \"9\", \"13\", \"16\", \"20\", \"23\", \"24\", \"26\", \"27\", \"28\", \"29\", \"30\", \"31\", \"32\", \"35\", \"39\"], \"mode\": \"lines\", \"name\": \"balanced_accuracy_max\", \"stepped\": true, \"type\": \"scatter\", \"data\": [0.9821798840510807, 0.9827639185871847, 0.9827639185871847, 0.9827639185871847, 0.9827639185871847, 0.9827639185871847, 0.9827639185871847, 0.9827639185871847, 0.9827639185871847, 0.9827639185871847, 0.9827639185871847, 0.9827639185871847, 0.9827639185871847, 0.9827639185871847, 0.9827639185871847, 0.9827639185871847, 0.9827639185871847, 0.9827639185871847]}], \"recall_score_weighted\": [{\"categories\": [\"0\", \"1\", \"4\", \"9\", \"13\", \"16\", \"20\", \"23\", \"24\", \"26\", \"27\", \"28\", \"29\", \"30\", \"31\", \"32\", \"35\", \"39\"], \"mode\": \"markers\", \"name\": \"recall_score_weighted\", \"stepped\": false, \"type\": \"scatter\", \"data\": [0.9889992131759686, 0.989132599853304, 0.9585305594452224, 0.8684582249783289, 0.9129274254850971, 0.9170612655864505, 0.9490633460025338, 0.9359287057411482, 0.9752650796826031, 0.9649310128692404, 0.953530026005201, 0.974331652997266, 0.9736649996666, 0.9675312529172501, 0.9838656131226245, 0.9492633993465359, 0.9687312395812496, 0.983865826498633]}, {\"categories\": [\"0\", \"1\", \"4\", \"9\", \"13\", \"16\", \"20\", \"23\", \"24\", \"26\", \"27\", \"28\", \"29\", \"30\", \"31\", \"32\", \"35\", \"39\"], \"mode\": \"lines\", \"name\": \"recall_score_weighted_max\", \"stepped\": true, \"type\": \"scatter\", \"data\": [0.9889992131759686, 0.989132599853304, 0.989132599853304, 0.989132599853304, 0.989132599853304, 0.989132599853304, 0.989132599853304, 0.989132599853304, 0.989132599853304, 0.989132599853304, 0.989132599853304, 0.989132599853304, 0.989132599853304, 0.989132599853304, 0.989132599853304, 0.989132599853304, 0.989132599853304, 0.989132599853304]}], \"f1_score_weighted\": [{\"categories\": [\"0\", \"1\", \"4\", \"9\", \"13\", \"16\", \"20\", \"23\", \"24\", \"26\", \"27\", \"28\", \"29\", \"30\", \"31\", \"32\", \"35\", \"39\"], \"mode\": \"markers\", \"name\": \"f1_score_weighted\", \"stepped\": false, \"type\": \"scatter\", \"data\": [0.9889689500566347, 0.9891066097202459, 0.9575850195763568, 0.8747057079696673, 0.906330275602412, 0.9195554254164579, 0.9492534871300172, 0.9367831008785559, 0.974996151314309, 0.9644914487457393, 0.9519575869528577, 0.9740335859684376, 0.9733734408379409, 0.9672768644964291, 0.9837869417805548, 0.9494507235284009, 0.9684477876095617, 0.9837133849207581]}, {\"categories\": [\"0\", \"1\", \"4\", \"9\", \"13\", \"16\", \"20\", \"23\", \"24\", \"26\", \"27\", \"28\", \"29\", \"30\", \"31\", \"32\", \"35\", \"39\"], \"mode\": \"lines\", \"name\": \"f1_score_weighted_max\", \"stepped\": true, \"type\": \"scatter\", \"data\": [0.9889689500566347, 0.9891066097202459, 0.9891066097202459, 0.9891066097202459, 0.9891066097202459, 0.9891066097202459, 0.9891066097202459, 0.9891066097202459, 0.9891066097202459, 0.9891066097202459, 0.9891066097202459, 0.9891066097202459, 0.9891066097202459, 0.9891066097202459, 0.9891066097202459, 0.9891066097202459, 0.9891066097202459, 0.9891066097202459]}], \"average_precision_score_micro\": [{\"categories\": [\"0\", \"1\", \"4\", \"9\", \"13\", \"16\", \"20\", \"23\", \"24\", \"26\", \"27\", \"28\", \"29\", \"30\", \"31\", \"32\", \"35\", \"39\"], \"mode\": \"markers\", \"name\": \"average_precision_score_micro\", \"stepped\": false, \"type\": \"scatter\", \"data\": [0.9968335393133317, 0.9960726533670318, 0.9816690289946163, 0.9482280019341287, 0.9660093981540894, 0.9725623006280477, 0.9800098647964074, 0.9787282003652056, 0.9907411036695596, 0.9873719884370812, 0.976121115669196, 0.9925821753182049, 0.9922838774714497, 0.9871482676746318, 0.9959360315731849, 0.9799482812219836, 0.9899976846596461, 0.994443196529915]}, {\"categories\": [\"0\", \"1\", \"4\", \"9\", \"13\", \"16\", \"20\", \"23\", \"24\", \"26\", \"27\", \"28\", \"29\", \"30\", \"31\", \"32\", \"35\", \"39\"], \"mode\": \"lines\", \"name\": \"average_precision_score_micro_max\", \"stepped\": true, \"type\": \"scatter\", \"data\": [0.9968335393133317, 0.9968335393133317, 0.9968335393133317, 0.9968335393133317, 0.9968335393133317, 0.9968335393133317, 0.9968335393133317, 0.9968335393133317, 0.9968335393133317, 0.9968335393133317, 0.9968335393133317, 0.9968335393133317, 0.9968335393133317, 0.9968335393133317, 0.9968335393133317, 0.9968335393133317, 0.9968335393133317, 0.9968335393133317]}], \"log_loss\": [{\"categories\": [\"0\", \"1\", \"4\", \"9\", \"13\", \"16\", \"20\", \"23\", \"24\", \"26\", \"27\", \"28\", \"29\", \"30\", \"31\", \"32\", \"35\", \"39\"], \"mode\": \"markers\", \"name\": \"log_loss\", \"stepped\": false, \"type\": \"scatter\", \"data\": [0.04890272402343158, 0.05166290321240921, 0.1762321984813979, 0.3483783162129977, 0.2989636259757415, 0.2100362650276798, 0.17282323245996023, 0.23488834988990037, 0.1043116627899644, 0.12409356280369936, 0.30485836363433144, 0.09519490712284269, 0.09520172144686272, 0.11914949509032098, 0.06035199856260338, 0.17260497249476014, 0.10912079471261915, 0.13768873422259256]}, {\"categories\": [\"0\", \"1\", \"4\", \"9\", \"13\", \"16\", \"20\", \"23\", \"24\", \"26\", \"27\", \"28\", \"29\", \"30\", \"31\", \"32\", \"35\", \"39\"], \"mode\": \"lines\", \"name\": \"log_loss_min\", \"stepped\": true, \"type\": \"scatter\", \"data\": [0.04890272402343158, 0.04890272402343158, 0.04890272402343158, 0.04890272402343158, 0.04890272402343158, 0.04890272402343158, 0.04890272402343158, 0.04890272402343158, 0.04890272402343158, 0.04890272402343158, 0.04890272402343158, 0.04890272402343158, 0.04890272402343158, 0.04890272402343158, 0.04890272402343158, 0.04890272402343158, 0.04890272402343158, 0.04890272402343158]}], \"precision_score_macro\": [{\"categories\": [\"0\", \"1\", \"4\", \"9\", \"13\", \"16\", \"20\", \"23\", \"24\", \"26\", \"27\", \"28\", \"29\", \"30\", \"31\", \"32\", \"35\", \"39\"], \"mode\": \"markers\", \"name\": \"precision_score_macro\", \"stepped\": false, \"type\": \"scatter\", \"data\": [0.987398019708321, 0.9872056550838617, 0.962532951323967, 0.8156118557728839, 0.9389251722789971, 0.8731954432178742, 0.9272329679670049, 0.9048096228720838, 0.9758316797155974, 0.9624174945402197, 0.9654823119332678, 0.9751619910336219, 0.9737097110093659, 0.961961527766421, 0.9822840997544251, 0.9275489174183797, 0.964760271388803, 0.9863426136256171]}, {\"categories\": [\"0\", \"1\", \"4\", \"9\", \"13\", \"16\", \"20\", \"23\", \"24\", \"26\", \"27\", \"28\", \"29\", \"30\", \"31\", \"32\", \"35\", \"39\"], \"mode\": \"lines\", \"name\": \"precision_score_macro_max\", \"stepped\": true, \"type\": \"scatter\", \"data\": [0.987398019708321, 0.987398019708321, 0.987398019708321, 0.987398019708321, 0.987398019708321, 0.987398019708321, 0.987398019708321, 0.987398019708321, 0.987398019708321, 0.987398019708321, 0.987398019708321, 0.987398019708321, 0.987398019708321, 0.987398019708321, 0.987398019708321, 0.987398019708321, 0.987398019708321, 0.987398019708321]}]}, \"metricName\": null, \"primaryMetricName\": \"AUC_weighted\", \"showLegend\": false}, \"run_metrics\": [{\"name\": \"experiment_status\", \"run_id\": \"AutoML_979f9db3-ed3f-4ab4-8b4a-532c929e983a\", \"categories\": [0, 1, 2, 3, 4, 5, 6, 7, 8, 9, 10, 11, 12, 13], \"series\": [{\"data\": [\"DatasetEvaluation\", \"FeaturesGeneration\", \"DatasetFeaturization\", \"DatasetFeaturizationCompleted\", \"DatasetCrossValidationSplit\", \"ModelSelection\", \"BestRunExplainModel\", \"ModelExplanationDataSetSetup\", \"PickSurrogateModel\", \"EngineeredFeatureExplanations\", \"EngineeredFeatureExplanations\", \"RawFeaturesExplanations\", \"RawFeaturesExplanations\", \"BestRunExplainModel\"]}]}, {\"name\": \"experiment_status_description\", \"run_id\": \"AutoML_979f9db3-ed3f-4ab4-8b4a-532c929e983a\", \"categories\": [0, 1, 2, 3, 4, 5, 6, 7, 8, 9, 10, 11, 12, 13], \"series\": [{\"data\": [\"Gathering dataset statistics.\", \"Generating features for the dataset.\", \"Beginning to fit featurizers and featurize the dataset.\", \"Completed fit featurizers and featurizing the dataset.\", \"Generating individually featurized CV splits.\", \"Beginning model selection.\", \"Best run model explanations started\", \"Model explanations data setup completed\", \"Choosing LightGBM as the surrogate model for explanations\", \"Computation of engineered features started\", \"Computation of engineered features completed\", \"Computation of raw features started\", \"Computation of raw features completed\", \"Best run model explanations completed\"]}]}, {\"name\": \"average_precision_score_micro\", \"run_id\": \"AutoML_979f9db3-ed3f-4ab4-8b4a-532c929e983a\", \"categories\": [0], \"series\": [{\"data\": [0.9969246201941963]}]}, {\"name\": \"AUC_micro\", \"run_id\": \"AutoML_979f9db3-ed3f-4ab4-8b4a-532c929e983a\", \"categories\": [0], \"series\": [{\"data\": [0.9970711053836195]}]}, {\"name\": \"precision_score_micro\", \"run_id\": \"AutoML_979f9db3-ed3f-4ab4-8b4a-532c929e983a\", \"categories\": [0], \"series\": [{\"data\": [0.987665853170634]}]}, {\"name\": \"log_loss\", \"run_id\": \"AutoML_979f9db3-ed3f-4ab4-8b4a-532c929e983a\", \"categories\": [0], \"series\": [{\"data\": [0.050894683742108905]}]}, {\"name\": \"precision_score_weighted\", \"run_id\": \"AutoML_979f9db3-ed3f-4ab4-8b4a-532c929e983a\", \"categories\": [0], \"series\": [{\"data\": [0.9876481411498078]}]}, {\"name\": \"balanced_accuracy\", \"run_id\": \"AutoML_979f9db3-ed3f-4ab4-8b4a-532c929e983a\", \"categories\": [0], \"series\": [{\"data\": [0.9791087922403822]}]}, {\"name\": \"AUC_macro\", \"run_id\": \"AutoML_979f9db3-ed3f-4ab4-8b4a-532c929e983a\", \"categories\": [0], \"series\": [{\"data\": [0.9947772335754368]}]}, {\"name\": \"recall_score_macro\", \"run_id\": \"AutoML_979f9db3-ed3f-4ab4-8b4a-532c929e983a\", \"categories\": [0], \"series\": [{\"data\": [0.9791087922403822]}]}, {\"name\": \"weighted_accuracy\", \"run_id\": \"AutoML_979f9db3-ed3f-4ab4-8b4a-532c929e983a\", \"categories\": [0], \"series\": [{\"data\": [0.9925376254158368]}]}, {\"name\": \"f1_score_macro\", \"run_id\": \"AutoML_979f9db3-ed3f-4ab4-8b4a-532c929e983a\", \"categories\": [0], \"series\": [{\"data\": [0.9828775286847286]}]}, {\"name\": \"average_precision_score_weighted\", \"run_id\": \"AutoML_979f9db3-ed3f-4ab4-8b4a-532c929e983a\", \"categories\": [0], \"series\": [{\"data\": [0.9960623506821248]}]}, {\"name\": \"matthews_correlation\", \"run_id\": \"AutoML_979f9db3-ed3f-4ab4-8b4a-532c929e983a\", \"categories\": [0], \"series\": [{\"data\": [0.9658670595095336]}]}, {\"name\": \"recall_score_weighted\", \"run_id\": \"AutoML_979f9db3-ed3f-4ab4-8b4a-532c929e983a\", \"categories\": [0], \"series\": [{\"data\": [0.987665853170634]}]}, {\"name\": \"accuracy\", \"run_id\": \"AutoML_979f9db3-ed3f-4ab4-8b4a-532c929e983a\", \"categories\": [0], \"series\": [{\"data\": [0.987665853170634]}]}, {\"name\": \"precision_score_macro\", \"run_id\": \"AutoML_979f9db3-ed3f-4ab4-8b4a-532c929e983a\", \"categories\": [0], \"series\": [{\"data\": [0.9867893696581485]}]}, {\"name\": \"norm_macro_recall\", \"run_id\": \"AutoML_979f9db3-ed3f-4ab4-8b4a-532c929e983a\", \"categories\": [0], \"series\": [{\"data\": [0.9582175844807642]}]}, {\"name\": \"f1_score_weighted\", \"run_id\": \"AutoML_979f9db3-ed3f-4ab4-8b4a-532c929e983a\", \"categories\": [0], \"series\": [{\"data\": [0.987616416761122]}]}, {\"name\": \"average_precision_score_macro\", \"run_id\": \"AutoML_979f9db3-ed3f-4ab4-8b4a-532c929e983a\", \"categories\": [0], \"series\": [{\"data\": [0.9941716976070808]}]}, {\"name\": \"recall_score_micro\", \"run_id\": \"AutoML_979f9db3-ed3f-4ab4-8b4a-532c929e983a\", \"categories\": [0], \"series\": [{\"data\": [0.987665853170634]}]}, {\"name\": \"AUC_weighted\", \"run_id\": \"AutoML_979f9db3-ed3f-4ab4-8b4a-532c929e983a\", \"categories\": [0], \"series\": [{\"data\": [0.9947772335754368]}]}, {\"name\": \"f1_score_micro\", \"run_id\": \"AutoML_979f9db3-ed3f-4ab4-8b4a-532c929e983a\", \"categories\": [0], \"series\": [{\"data\": [0.987665853170634]}]}], \"run_logs\": \"\\nRun is completed.\", \"graph\": {}, \"widget_settings\": {\"childWidgetDisplay\": \"popup\", \"send_telemetry\": false, \"log_level\": \"INFO\", \"sdk_version\": \"1.51.0\"}, \"loading\": false}"
          },
          "metadata": {}
        }
      ],
      "execution_count": 10,
      "metadata": {
        "gather": {
          "logged": 1696090244113
        },
        "jupyter": {
          "outputs_hidden": false,
          "source_hidden": false
        },
        "nteract": {
          "transient": {
            "deleting": false
          }
        }
      }
    },
    {
      "cell_type": "code",
      "source": [
        "remote_run.wait_for_completion(show_output=True)"
      ],
      "outputs": [
        {
          "output_type": "display_data",
          "data": {
            "text/html": "<table style=\"width:100%\"><tr><th>Experiment</th><th>Id</th><th>Type</th><th>Status</th><th>Details Page</th><th>Docs Page</th></tr><tr><td>automl_experiment</td><td>AutoML_979f9db3-ed3f-4ab4-8b4a-532c929e983a</td><td>automl</td><td>NotStarted</td><td><a href=\"https://ml.azure.com/runs/AutoML_979f9db3-ed3f-4ab4-8b4a-532c929e983a?wsid=/subscriptions/d7f39349-a66b-446e-aba6-0053c2cf1c11/resourcegroups/aml-quickstarts-242066/workspaces/quick-starts-ws-242066&amp;tid=660b3398-b80e-49d2-bc5b-ac1dc93b5254\" target=\"_blank\" rel=\"noopener\">Link to Azure Machine Learning studio</a></td><td><a href=\"https://docs.microsoft.com/en-us/python/api/overview/azure/ml/intro?view=azure-ml-py\" target=\"_blank\" rel=\"noopener\">Link to Documentation</a></td></tr></table>"
          },
          "metadata": {}
        },
        {
          "output_type": "stream",
          "name": "stdout",
          "text": "\nCurrent status: FeaturesGeneration. Generating features for the dataset.\nCurrent status: DatasetFeaturization. Beginning to fit featurizers and featurize the dataset.\nCurrent status: DatasetCrossValidationSplit. Generating individually featurized CV splits.\nCurrent status: ModelSelection. Beginning model selection.\n\n********************************************************************************************\nDATA GUARDRAILS: \n\nTYPE:         Cross validation\nSTATUS:       DONE\nDESCRIPTION:  In order to accurately evaluate the model(s) trained by AutoML, we leverage a dataset that the model is not trained on. Hence, if the user doesn't provide an explicit validation dataset, a part of the training dataset is used to achieve this. For smaller datasets (fewer than 20,000 samples), cross-validation is leveraged, else a single hold-out set is split from the training data to serve as the validation dataset. Hence, for your input data we leverage cross-validation with 10 folds, if the number of training samples are fewer than 1000, and 3 folds in all other cases.\n              Learn more about cross validation: https://aka.ms/AutomatedMLCrossValidation\nDETAILS:      \n+------------------------------+\n|Number of folds               |\n+==============================+\n|3                             |\n+------------------------------+\n\n********************************************************************************************\n\nTYPE:         Class balancing detection\nSTATUS:       PASSED\nDESCRIPTION:  Your inputs were analyzed, and all classes are balanced in your training data.\n              Learn more about imbalanced data: https://aka.ms/AutomatedMLImbalancedData\n\n********************************************************************************************\n\nTYPE:         Missing feature values imputation\nSTATUS:       PASSED\nDESCRIPTION:  No feature missing values were detected in the training data.\n              Learn more about missing value imputation: https://aka.ms/AutomatedMLFeaturization\n\n********************************************************************************************\n\nTYPE:         High cardinality feature detection\nSTATUS:       PASSED\nDESCRIPTION:  Your inputs were analyzed, and no high cardinality features were detected.\n              Learn more about high cardinality feature handling: https://aka.ms/AutomatedMLFeaturization\n\n********************************************************************************************\n\n********************************************************************************************\nITER: The iteration being evaluated.\nPIPELINE: A summary description of the pipeline being evaluated.\nDURATION: Time taken for the current iteration.\nMETRIC: The result of computing score on the fitted pipeline.\nBEST: The best observed score thus far.\n********************************************************************************************\n\n ITER   PIPELINE                                       DURATION            METRIC      BEST\n    0   MaxAbsScaler LightGBM                          0:00:16             0.9946    0.9946\n    1   MaxAbsScaler XGBoostClassifier                 0:00:21             0.9935    0.9946\n    2   MaxAbsScaler ExtremeRandomTrees                0:00:12             0.9724    0.9946\n    3   MaxAbsScaler RandomForest                      0:00:12             0.9755    0.9946\n    4   StandardScalerWrapper LightGBM                 0:00:14             0.9743    0.9946\n    5   SparseNormalizer XGBoostClassifier             0:00:13             0.9847    0.9946\n    6   SparseNormalizer RandomForest                  0:00:22             0.9803    0.9946\n    7   StandardScalerWrapper XGBoostClassifier        0:00:13             0.9915    0.9946\n    8   SparseNormalizer XGBoostClassifier             0:00:16             0.9892    0.9946\n   12   StandardScalerWrapper XGBoostClassifier        0:00:17             0.9862    0.9946\n    9   MaxAbsScaler RandomForest                      0:00:13             0.9453    0.9946\n   10   SparseNormalizer LightGBM                      0:00:12             0.9717    0.9946\n   13   StandardScalerWrapper ExtremeRandomTrees       0:00:12             0.9680    0.9946\n   16   MaxAbsScaler LogisticRegression                0:00:16             0.9705    0.9946\n   17   StandardScalerWrapper ExtremeRandomTrees       0:00:43             0.9807    0.9946\n   11   MaxAbsScaler ExtremeRandomTrees                0:00:30             0.9792    0.9946\n   14   StandardScalerWrapper RandomForest             0:00:29             0.9932    0.9946\n   18   StandardScalerWrapper XGBoostClassifier        0:00:14             0.9884    0.9946\n   19   MaxAbsScaler ExtremeRandomTrees                0:00:14             0.9709    0.9946\n   15   MaxAbsScaler LightGBM                          0:00:14             0.9846    0.9946\n   20   MaxAbsScaler LogisticRegression                0:00:35             0.9701    0.9946\n   21   StandardScalerWrapper XGBoostClassifier        0:00:36             0.9867    0.9946\n   22   StandardScalerWrapper XGBoostClassifier        0:00:41             0.9930    0.9946\n   23   MaxAbsScaler RandomForest                      0:00:35             0.9710    0.9946\n   24   SparseNormalizer XGBoostClassifier             0:00:36             0.9848    0.9946\n   26   MaxAbsScaler LightGBM                          0:00:36             0.9798    0.9946\n   25   StandardScalerWrapper LightGBM                 0:00:38             0.9823    0.9946\n   27   StandardScalerWrapper LightGBM                 0:00:34             0.9803    0.9946\n   28   MaxAbsScaler LightGBM                          0:00:36             0.9871    0.9946\n   29   MaxAbsScaler LightGBM                          0:00:34             0.9874    0.9946\n   30   SparseNormalizer LightGBM                      0:00:38             0.9800    0.9946\n   31   StandardScalerWrapper XGBoostClassifier        0:00:40             0.9931    0.9946\n   32   StandardScalerWrapper LogisticRegression       0:00:37             0.9702    0.9946\n   35   MaxAbsScaler LightGBM                          0:00:38             0.9839    0.9946\n   37                                                  0:00:03                nan    0.9946\n   33   MaxAbsScaler RandomForest                      0:01:00                nan    0.9946\n   34   StandardScalerWrapper XGBoostClassifier        0:00:45                nan    0.9946\n   36                                                  0:00:04                nan    0.9946\nERROR: {\n    \"additional_properties\": {\n        \"statusCode\": 400\n    },\n    \"error\": {\n        \"additional_properties\": {\n            \"debugInfo\": null\n        },\n        \"code\": \"UserError\",\n        \"severity\": null,\n        \"message\": \"Unexpected User Error\",\n        \"message_format\": null,\n        \"message_parameters\": null,\n        \"reference_code\": null,\n        \"details_uri\": null,\n        \"target\": null,\n        \"details\": [],\n        \"inner_error\": null,\n        \"additional_info\": null\n    },\n    \"correlation\": {\n        \"operation\": \"614d7f99d8e3e2d47d0d7f20f7d69a8d\",\n        \"request\": \"7aaae6d9779f1c8e\"\n    },\n    \"environment\": \"southcentralus\",\n    \"location\": \"southcentralus\",\n    \"time\": {},\n    \"component_name\": \"GlobalJobDispatcher\"\n}\n   38    VotingEnsemble                                0:01:13             0.9948    0.9948\n   39    StackEnsemble                                 0:01:14             0.9944    0.9948\n"
        },
        {
          "output_type": "execute_result",
          "execution_count": 11,
          "data": {
            "text/plain": "{'runId': 'AutoML_979f9db3-ed3f-4ab4-8b4a-532c929e983a',\n 'target': 'cluster-udacity',\n 'status': 'Completed',\n 'startTimeUtc': '2023-09-30T16:10:09.076571Z',\n 'endTimeUtc': '2023-09-30T16:32:07.173248Z',\n 'services': {},\n 'warnings': [{'source': 'JasmineService',\n   'message': 'No scores improved over last 10 iterations, so experiment stopped early. This early stopping behavior can be disabled by setting enable_early_stopping = False in AutoMLConfig for notebook/python SDK runs.'}],\n 'properties': {'num_iterations': '1000',\n  'training_type': 'TrainFull',\n  'acquisition_function': 'EI',\n  'primary_metric': 'AUC_weighted',\n  'train_split': '0',\n  'acquisition_parameter': '0',\n  'num_cross_validation': None,\n  'target': 'cluster-udacity',\n  'AMLSettingsJsonString': '{\"path\":null,\"name\":\"automl_experiment\",\"subscription_id\":\"d7f39349-a66b-446e-aba6-0053c2cf1c11\",\"resource_group\":\"aml-quickstarts-242066\",\"workspace_name\":\"quick-starts-ws-242066\",\"region\":\"southcentralus\",\"compute_target\":\"cluster-udacity\",\"spark_service\":null,\"azure_service\":\"remote\",\"many_models\":false,\"pipeline_fetch_max_batch_size\":1,\"enable_batch_run\":true,\"enable_parallel_run\":false,\"num_procs\":null,\"enable_run_restructure\":false,\"start_auxiliary_runs_before_parent_complete\":false,\"enable_code_generation\":true,\"iterations\":1000,\"primary_metric\":\"AUC_weighted\",\"task_type\":\"classification\",\"positive_label\":null,\"data_script\":null,\"test_size\":0.0,\"test_include_predictions_only\":false,\"validation_size\":0.0,\"n_cross_validations\":null,\"y_min\":null,\"y_max\":null,\"num_classes\":null,\"featurization\":\"auto\",\"_ignore_package_version_incompatibilities\":false,\"is_timeseries\":false,\"max_cores_per_iteration\":1,\"max_concurrent_iterations\":5,\"iteration_timeout_minutes\":null,\"mem_in_mb\":null,\"enforce_time_on_windows\":false,\"experiment_timeout_minutes\":20,\"experiment_exit_score\":null,\"partition_column_names\":null,\"whitelist_models\":null,\"blacklist_algos\":[\"TensorFlowLinearClassifier\",\"TensorFlowDNN\"],\"supported_models\":[\"LogisticRegression\",\"MultinomialNaiveBayes\",\"TensorFlowLinearClassifier\",\"BernoulliNaiveBayes\",\"RandomForest\",\"LightGBM\",\"SGD\",\"DecisionTree\",\"XGBoostClassifier\",\"KNN\",\"TabnetClassifier\",\"ExtremeRandomTrees\",\"GradientBoosting\",\"LinearSVM\",\"AveragedPerceptronClassifier\",\"TensorFlowDNN\",\"SVM\"],\"private_models\":[],\"auto_blacklist\":true,\"blacklist_samples_reached\":false,\"exclude_nan_labels\":true,\"verbosity\":20,\"_debug_log\":\"azureml_automl.log\",\"show_warnings\":false,\"model_explainability\":true,\"service_url\":null,\"sdk_url\":null,\"sdk_packages\":null,\"enable_onnx_compatible_models\":false,\"enable_split_onnx_featurizer_estimator_models\":false,\"vm_type\":\"STANDARD_D2_V2\",\"telemetry_verbosity\":20,\"send_telemetry\":true,\"enable_dnn\":false,\"scenario\":\"AutoML\",\"environment_label\":null,\"save_mlflow\":false,\"enable_categorical_indicators\":false,\"force_text_dnn\":false,\"enable_feature_sweeping\":true,\"enable_early_stopping\":true,\"early_stopping_n_iters\":10,\"arguments\":null,\"dataset_id\":\"386f569b-55e5-476a-b65d-2f5a5a0b3a51\",\"hyperdrive_config\":null,\"validation_dataset_id\":null,\"run_source\":null,\"metrics\":null,\"enable_metric_confidence\":false,\"enable_ensembling\":true,\"enable_stack_ensembling\":true,\"ensemble_iterations\":15,\"enable_tf\":false,\"enable_subsampling\":null,\"subsample_seed\":null,\"enable_nimbusml\":false,\"enable_streaming\":false,\"force_streaming\":false,\"track_child_runs\":true,\"n_best_runs\":1,\"allowed_private_models\":[],\"label_column_name\":\"left\",\"weight_column_name\":null,\"cv_split_column_names\":null,\"enable_local_managed\":false,\"_local_managed_run_id\":null,\"cost_mode\":1,\"lag_length\":0,\"metric_operation\":\"maximize\",\"preprocess\":true}',\n  'DataPrepJsonString': '{\\\\\"training_data\\\\\": {\\\\\"datasetId\\\\\": \\\\\"386f569b-55e5-476a-b65d-2f5a5a0b3a51\\\\\"}, \\\\\"datasets\\\\\": 0}',\n  'EnableSubsampling': None,\n  'runTemplate': 'AutoML',\n  'azureml.runsource': 'automl',\n  'display_task_type': 'classification',\n  'dependencies_versions': '{\"azureml-dataprep-native\": \"38.0.0\", \"azureml-dataprep\": \"4.10.8\", \"azureml-dataprep-rslex\": \"2.17.12\", \"azureml-train-automl-runtime\": \"1.51.0.post2\", \"azureml-train-automl-client\": \"1.51.0.post1\", \"azureml-training-tabular\": \"1.51.0.post1\", \"azureml-automl-runtime\": \"1.51.0.post1\", \"azureml-automl-core\": \"1.51.0.post1\", \"azureml-mlflow\": \"1.51.0\", \"azureml-datadrift\": \"1.51.0\", \"azureml-pipeline\": \"1.51.0\", \"azureml-contrib-dataset\": \"1.51.0\", \"azureml-contrib-notebook\": \"1.51.0\", \"azureml-accel-models\": \"1.51.0\", \"azureml-automl-dnn-nlp\": \"1.51.0\", \"azureml-pipeline-core\": \"1.51.0\", \"azureml-responsibleai\": \"1.51.0\", \"azureml-contrib-automl-pipeline-steps\": \"1.51.0\", \"azureml-pipeline-steps\": \"1.51.0\", \"azureml-core\": \"1.51.0\", \"azureml-contrib-reinforcementlearning\": \"1.51.0\", \"azureml-contrib-server\": \"1.51.0\", \"azureml-opendatasets\": \"1.51.0\", \"azureml-contrib-services\": \"1.51.0\", \"azureml-telemetry\": \"1.51.0\", \"azureml-train-restclients-hyperdrive\": \"1.51.0\", \"azureml-interpret\": \"1.51.0\", \"azureml-train-core\": \"1.51.0\", \"azureml-tensorboard\": \"1.51.0\", \"azureml-train\": \"1.51.0\", \"azureml-contrib-pipeline-steps\": \"1.51.0\", \"azureml-explain-model\": \"1.51.0\", \"azureml-cli-common\": \"1.51.0\", \"azureml-widgets\": \"1.51.0\", \"azureml-train-automl\": \"1.51.0\", \"azureml-defaults\": \"1.51.0\", \"azureml-contrib-fairness\": \"1.51.0\", \"azureml-sdk\": \"1.51.0\", \"azureml-dataset-runtime\": \"1.51.0\", \"azureml-inference-server-http\": \"0.8.4\"}',\n  '_aml_system_scenario_identification': 'Remote.Parent',\n  'ClientType': 'SDK',\n  'PlatformVersion': 'DPV1',\n  'environment_cpu_name': 'AzureML-AutoML',\n  'environment_cpu_label': 'prod',\n  'environment_gpu_name': 'AzureML-AutoML-GPU',\n  'environment_gpu_label': 'prod',\n  'root_attribution': 'automl',\n  'attribution': 'AutoML',\n  'Orchestrator': 'AutoML',\n  'CancelUri': 'https://southcentralus.api.azureml.ms/jasmine/v1.0/subscriptions/d7f39349-a66b-446e-aba6-0053c2cf1c11/resourceGroups/aml-quickstarts-242066/providers/Microsoft.MachineLearningServices/workspaces/quick-starts-ws-242066/experimentids/97a7d825-4271-4b06-a0b0-13a316936862/cancel/AutoML_979f9db3-ed3f-4ab4-8b4a-532c929e983a',\n  'ClientSdkVersion': None,\n  'snapshotId': '00000000-0000-0000-0000-000000000000',\n  'SetupRunId': 'AutoML_979f9db3-ed3f-4ab4-8b4a-532c929e983a_setup',\n  'SetupRunContainerId': 'dcid.AutoML_979f9db3-ed3f-4ab4-8b4a-532c929e983a_setup',\n  'FeaturizationRunJsonPath': 'featurizer_container.json',\n  'FeaturizationRunId': 'AutoML_979f9db3-ed3f-4ab4-8b4a-532c929e983a_featurize',\n  'ProblemInfoJsonString': '{\"dataset_num_categorical\": 0, \"is_sparse\": true, \"subsampling\": false, \"has_extra_col\": true, \"dataset_classes\": 2, \"dataset_features\": 40, \"dataset_samples\": 14999, \"single_frequency_class_detected\": false}',\n  'ModelExplainRunId': 'AutoML_979f9db3-ed3f-4ab4-8b4a-532c929e983a_ModelExplain'},\n 'inputDatasets': [{'dataset': {'id': '386f569b-55e5-476a-b65d-2f5a5a0b3a51'}, 'consumptionDetails': {'type': 'RunInput', 'inputName': 'training_data', 'mechanism': 'Direct'}}],\n 'outputDatasets': [],\n 'logFiles': {},\n 'submittedBy': 'ODL_User 242066'}"
          },
          "metadata": {}
        }
      ],
      "execution_count": 11,
      "metadata": {
        "gather": {
          "logged": 1696091546967
        }
      }
    },
    {
      "cell_type": "markdown",
      "source": [
        "## Best Model\n",
        "\n",
        "TODO: In the cell below, get the best model from the automl experiments and display all the properties of the model.\n",
        "\n"
      ],
      "metadata": {}
    },
    {
      "cell_type": "code",
      "source": [
        "best_run, fitted_model = remote_run.get_output()\n",
        "print(best_run)\n",
        "print(fitted_model)\n",
        "print(remote_run.get_metrics())"
      ],
      "outputs": [],
      "execution_count": null,
      "metadata": {
        "gather": {
          "logged": 1598431425670
        },
        "jupyter": {
          "outputs_hidden": false,
          "source_hidden": false
        },
        "nteract": {
          "transient": {
            "deleting": false
          }
        }
      }
    },
    {
      "cell_type": "code",
      "source": [
        "# Save the best model\n",
        "model = remote_run.register_model(model_name='HR-best-automl-model')\n",
        "print(model.name, model.id, model.version, sep='\\t')"
      ],
      "outputs": [],
      "execution_count": null,
      "metadata": {
        "gather": {
          "logged": 1598431426111
        },
        "jupyter": {
          "outputs_hidden": false,
          "source_hidden": false
        },
        "nteract": {
          "transient": {
            "deleting": false
          }
        }
      }
    },
    {
      "cell_type": "markdown",
      "source": [
        "## Model Deployment\n",
        "\n",
        "Remember you have to deploy only one of the two models you trained but you still need to register both the models. Perform the steps in the rest of this notebook only if you wish to deploy this model.\n",
        "\n",
        "TODO: In the cell below, register the model, create an inference config and deploy the model as a web service."
      ],
      "metadata": {}
    },
    {
      "cell_type": "code",
      "source": [],
      "outputs": [],
      "execution_count": null,
      "metadata": {
        "gather": {
          "logged": 1598431435189
        },
        "jupyter": {
          "outputs_hidden": false,
          "source_hidden": false
        },
        "nteract": {
          "transient": {
            "deleting": false
          }
        }
      }
    },
    {
      "cell_type": "markdown",
      "source": [
        "TODO: In the cell below, send a request to the web service you deployed to test it."
      ],
      "metadata": {
        "collapsed": true,
        "gather": {
          "logged": 1598431657736
        },
        "jupyter": {
          "outputs_hidden": false,
          "source_hidden": false
        },
        "nteract": {
          "transient": {
            "deleting": false
          }
        }
      }
    },
    {
      "cell_type": "code",
      "source": [
        "# Deploy model\n",
        "from azureml.train.automl.run import AutoMLRun\n",
        "run_id= '' #best run (from the previous cell output)\n",
        "best_run=AutoMLRun(experiment, run_id)\n",
        "best_run"
      ],
      "outputs": [],
      "execution_count": null,
      "metadata": {
        "gather": {
          "logged": 1598432707604
        },
        "jupyter": {
          "outputs_hidden": false,
          "source_hidden": false
        },
        "nteract": {
          "transient": {
            "deleting": false
          }
        }
      }
    },
    {
      "cell_type": "code",
      "source": [
        "# Retrive model by name\n",
        "model = Model(ws, 'HR-best-automl-model')\n"
      ],
      "outputs": [],
      "execution_count": null,
      "metadata": {}
    },
    {
      "cell_type": "markdown",
      "source": [
        "TODO: In the cell below, print the logs of the web service and delete the service"
      ],
      "metadata": {
        "collapsed": true,
        "gather": {
          "logged": 1598432765711
        },
        "jupyter": {
          "outputs_hidden": false,
          "source_hidden": false
        },
        "nteract": {
          "transient": {
            "deleting": false
          }
        }
      }
    },
    {
      "cell_type": "code",
      "source": [],
      "outputs": [],
      "execution_count": null,
      "metadata": {
        "jupyter": {
          "outputs_hidden": false,
          "source_hidden": false
        },
        "nteract": {
          "transient": {
            "deleting": false
          }
        }
      }
    },
    {
      "cell_type": "markdown",
      "source": [
        "Once all the work has been completed, we proceed to delete the cluster."
      ],
      "metadata": {}
    },
    {
      "cell_type": "code",
      "source": [
        "cpu_cluster.delete()"
      ],
      "outputs": [],
      "execution_count": null,
      "metadata": {}
    },
    {
      "cell_type": "code",
      "source": [
        "# Check status of the cluster for deletion \n",
        "cpu_cluster"
      ],
      "outputs": [],
      "execution_count": null,
      "metadata": {}
    },
    {
      "cell_type": "markdown",
      "source": [
        "**Submission Checklist**\n",
        "- I have registered the model.\n",
        "- I have deployed the model with the best accuracy as a webservice.\n",
        "- I have tested the webservice by sending a request to the model endpoint.\n",
        "- I have deleted the webservice and shutdown all the computes that I have used.\n",
        "- I have taken a screenshot showing the model endpoint as active.\n",
        "- The project includes a file containing the environment details.\n"
      ],
      "metadata": {}
    },
    {
      "cell_type": "markdown",
      "source": [],
      "metadata": {}
    }
  ],
  "metadata": {
    "kernel_info": {
      "name": "python38-azureml"
    },
    "kernelspec": {
      "name": "python38-azureml",
      "language": "python",
      "display_name": "Python 3.8 - AzureML"
    },
    "language_info": {
      "name": "python",
      "version": "3.8.5",
      "mimetype": "text/x-python",
      "codemirror_mode": {
        "name": "ipython",
        "version": 3
      },
      "pygments_lexer": "ipython3",
      "nbconvert_exporter": "python",
      "file_extension": ".py"
    },
    "nteract": {
      "version": "nteract-front-end@1.0.0"
    },
    "microsoft": {
      "ms_spell_check": {
        "ms_spell_check_language": "en"
      },
      "host": {
        "AzureML": {
          "notebookHasBeenCompleted": true
        }
      }
    }
  },
  "nbformat": 4,
  "nbformat_minor": 2
}