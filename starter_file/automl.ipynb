{
  "cells": [
    {
      "cell_type": "markdown",
      "metadata": {},
      "source": [
        "# Automated ML\n",
        "\n",
        "TODO: Import Dependencies. In the cell below, import all the dependencies that you will need to complete the project."
      ]
    },
    {
      "cell_type": "code",
      "execution_count": 1,
      "metadata": {
        "gather": {
          "logged": 1696090076195
        },
        "jupyter": {
          "outputs_hidden": false,
          "source_hidden": false
        },
        "nteract": {
          "transient": {
            "deleting": false
          }
        }
      },
      "outputs": [
        {
          "name": "stdout",
          "output_type": "stream",
          "text": [
            "SDK version: 1.51.0\n"
          ]
        }
      ],
      "source": [
        "import logging\n",
        "import os\n",
        "import csv\n",
        "\n",
        "from matplotlib import pyplot as plt\n",
        "import numpy as np\n",
        "import pandas as pd\n",
        "from sklearn import datasets\n",
        "import pkg_resources\n",
        "\n",
        "import azureml.core\n",
        "from azureml.core import Model\n",
        "from azureml.core.experiment import Experiment\n",
        "from azureml.core.workspace import Workspace\n",
        "from azureml.train.automl import AutoMLConfig\n",
        "from azureml.core.dataset import Dataset\n",
        "\n",
        "from azureml.pipeline.steps import AutoMLStep\n",
        "\n",
        "# Check core SDK version number\n",
        "print(\"SDK version:\", azureml.core.VERSION)"
      ]
    },
    {
      "cell_type": "code",
      "execution_count": 13,
      "metadata": {
        "gather": {
          "logged": 1696092001742
        },
        "jupyter": {
          "outputs_hidden": false,
          "source_hidden": false
        },
        "nteract": {
          "transient": {
            "deleting": false
          }
        }
      },
      "outputs": [
        {
          "name": "stdout",
          "output_type": "stream",
          "text": [
            "3.8.5 (default, Sep  4 2020, 07:30:14) \n",
            "[GCC 7.3.0]\n"
          ]
        }
      ],
      "source": [
        "import sys\n",
        "print(sys.version)"
      ]
    },
    {
      "cell_type": "markdown",
      "metadata": {},
      "source": [
        "## Dataset\n",
        "\n",
        "### Overview\n",
        "TODO: In this markdown cell, give an overview of the dataset you are using. Also mention the task you will be performing.\n",
        "\n",
        "\n",
        "TODO: Get data. In the cell below, write code to access the data you will be using in this project. Remember that the dataset needs to be external."
      ]
    },
    {
      "cell_type": "code",
      "execution_count": 2,
      "metadata": {
        "gather": {
          "logged": 1696090077593
        },
        "jupyter": {
          "outputs_hidden": false,
          "source_hidden": false
        },
        "nteract": {
          "transient": {
            "deleting": false
          }
        }
      },
      "outputs": [],
      "source": [
        "ws = Workspace.from_config()\n",
        "\n",
        "# choose a name for experiment\n",
        "experiment_name = 'automl_experiment'\n",
        "project_folder = './pipeline-project'\n",
        "\n",
        "experiment=Experiment(ws, experiment_name)"
      ]
    },
    {
      "cell_type": "code",
      "execution_count": 3,
      "metadata": {
        "gather": {
          "logged": 1696090085793
        }
      },
      "outputs": [
        {
          "data": {
            "text/html": [
              "<div>\n",
              "<style scoped>\n",
              "    .dataframe tbody tr th:only-of-type {\n",
              "        vertical-align: middle;\n",
              "    }\n",
              "\n",
              "    .dataframe tbody tr th {\n",
              "        vertical-align: top;\n",
              "    }\n",
              "\n",
              "    .dataframe thead th {\n",
              "        text-align: right;\n",
              "    }\n",
              "</style>\n",
              "<table border=\"1\" class=\"dataframe\">\n",
              "  <thead>\n",
              "    <tr style=\"text-align: right;\">\n",
              "      <th></th>\n",
              "      <th>satisfaction_level</th>\n",
              "      <th>last_evaluation</th>\n",
              "      <th>number_project</th>\n",
              "      <th>average_montly_hours</th>\n",
              "      <th>time_spend_company</th>\n",
              "      <th>Work_accident</th>\n",
              "      <th>left</th>\n",
              "      <th>promotion_last_5years</th>\n",
              "    </tr>\n",
              "  </thead>\n",
              "  <tbody>\n",
              "    <tr>\n",
              "      <th>count</th>\n",
              "      <td>14999.000000</td>\n",
              "      <td>14999.000000</td>\n",
              "      <td>14999.000000</td>\n",
              "      <td>14999.000000</td>\n",
              "      <td>14999.000000</td>\n",
              "      <td>14999.000000</td>\n",
              "      <td>14999.000000</td>\n",
              "      <td>14999.000000</td>\n",
              "    </tr>\n",
              "    <tr>\n",
              "      <th>mean</th>\n",
              "      <td>0.612834</td>\n",
              "      <td>0.716102</td>\n",
              "      <td>3.803054</td>\n",
              "      <td>201.050337</td>\n",
              "      <td>3.498233</td>\n",
              "      <td>0.144610</td>\n",
              "      <td>0.238083</td>\n",
              "      <td>0.021268</td>\n",
              "    </tr>\n",
              "    <tr>\n",
              "      <th>std</th>\n",
              "      <td>0.248631</td>\n",
              "      <td>0.171169</td>\n",
              "      <td>1.232592</td>\n",
              "      <td>49.943099</td>\n",
              "      <td>1.460136</td>\n",
              "      <td>0.351719</td>\n",
              "      <td>0.425924</td>\n",
              "      <td>0.144281</td>\n",
              "    </tr>\n",
              "    <tr>\n",
              "      <th>min</th>\n",
              "      <td>0.090000</td>\n",
              "      <td>0.360000</td>\n",
              "      <td>2.000000</td>\n",
              "      <td>96.000000</td>\n",
              "      <td>2.000000</td>\n",
              "      <td>0.000000</td>\n",
              "      <td>0.000000</td>\n",
              "      <td>0.000000</td>\n",
              "    </tr>\n",
              "    <tr>\n",
              "      <th>25%</th>\n",
              "      <td>0.440000</td>\n",
              "      <td>0.560000</td>\n",
              "      <td>3.000000</td>\n",
              "      <td>156.000000</td>\n",
              "      <td>3.000000</td>\n",
              "      <td>0.000000</td>\n",
              "      <td>0.000000</td>\n",
              "      <td>0.000000</td>\n",
              "    </tr>\n",
              "    <tr>\n",
              "      <th>50%</th>\n",
              "      <td>0.640000</td>\n",
              "      <td>0.720000</td>\n",
              "      <td>4.000000</td>\n",
              "      <td>200.000000</td>\n",
              "      <td>3.000000</td>\n",
              "      <td>0.000000</td>\n",
              "      <td>0.000000</td>\n",
              "      <td>0.000000</td>\n",
              "    </tr>\n",
              "    <tr>\n",
              "      <th>75%</th>\n",
              "      <td>0.820000</td>\n",
              "      <td>0.870000</td>\n",
              "      <td>5.000000</td>\n",
              "      <td>245.000000</td>\n",
              "      <td>4.000000</td>\n",
              "      <td>0.000000</td>\n",
              "      <td>0.000000</td>\n",
              "      <td>0.000000</td>\n",
              "    </tr>\n",
              "    <tr>\n",
              "      <th>max</th>\n",
              "      <td>1.000000</td>\n",
              "      <td>1.000000</td>\n",
              "      <td>7.000000</td>\n",
              "      <td>310.000000</td>\n",
              "      <td>10.000000</td>\n",
              "      <td>1.000000</td>\n",
              "      <td>1.000000</td>\n",
              "      <td>1.000000</td>\n",
              "    </tr>\n",
              "  </tbody>\n",
              "</table>\n",
              "</div>"
            ],
            "text/plain": [
              "       satisfaction_level  last_evaluation  number_project  \\\n",
              "count        14999.000000     14999.000000    14999.000000   \n",
              "mean             0.612834         0.716102        3.803054   \n",
              "std              0.248631         0.171169        1.232592   \n",
              "min              0.090000         0.360000        2.000000   \n",
              "25%              0.440000         0.560000        3.000000   \n",
              "50%              0.640000         0.720000        4.000000   \n",
              "75%              0.820000         0.870000        5.000000   \n",
              "max              1.000000         1.000000        7.000000   \n",
              "\n",
              "       average_montly_hours  time_spend_company  Work_accident          left  \\\n",
              "count          14999.000000        14999.000000   14999.000000  14999.000000   \n",
              "mean             201.050337            3.498233       0.144610      0.238083   \n",
              "std               49.943099            1.460136       0.351719      0.425924   \n",
              "min               96.000000            2.000000       0.000000      0.000000   \n",
              "25%              156.000000            3.000000       0.000000      0.000000   \n",
              "50%              200.000000            3.000000       0.000000      0.000000   \n",
              "75%              245.000000            4.000000       0.000000      0.000000   \n",
              "max              310.000000           10.000000       1.000000      1.000000   \n",
              "\n",
              "       promotion_last_5years  \n",
              "count           14999.000000  \n",
              "mean                0.021268  \n",
              "std                 0.144281  \n",
              "min                 0.000000  \n",
              "25%                 0.000000  \n",
              "50%                 0.000000  \n",
              "75%                 0.000000  \n",
              "max                 1.000000  "
            ]
          },
          "execution_count": 3,
          "metadata": {},
          "output_type": "execute_result"
        }
      ],
      "source": [
        "#Source of the data: https://raw.githubusercontent.com/aiplanethub/Datasets/master/HR_comma_sep.csv\n",
        "\n",
        "# We first check if the data is already loaded inthe Workspace. Otherwise, create it from the file\n",
        "\n",
        "found = False\n",
        "key = \"HR Dataset\"\n",
        "description_text = \"HR Dataset for capstone project\"\n",
        "\n",
        "if key in ws.datasets.keys(): \n",
        "        found = True\n",
        "        dataset = ws.datasets[key] \n",
        "\n",
        "if not found:\n",
        "        # Create AML Dataset and register it into Workspace\n",
        "        example_data = 'https://raw.githubusercontent.com/aiplanethub/Datasets/master/HR_comma_sep.csv'\n",
        "        dataset = Dataset.Tabular.from_delimited_files(example_data)        \n",
        "        #Register Dataset in Workspace\n",
        "        dataset = dataset.register(workspace=ws,\n",
        "                                   name=key,\n",
        "                                   description=description_text)\n",
        "\n",
        "\n",
        "df = dataset.to_pandas_dataframe()\n",
        "df.describe()"
      ]
    },
    {
      "cell_type": "code",
      "execution_count": 5,
      "metadata": {
        "gather": {
          "logged": 1696090125796
        }
      },
      "outputs": [
        {
          "data": {
            "text/html": [
              "<div>\n",
              "<style scoped>\n",
              "    .dataframe tbody tr th:only-of-type {\n",
              "        vertical-align: middle;\n",
              "    }\n",
              "\n",
              "    .dataframe tbody tr th {\n",
              "        vertical-align: top;\n",
              "    }\n",
              "\n",
              "    .dataframe thead th {\n",
              "        text-align: right;\n",
              "    }\n",
              "</style>\n",
              "<table border=\"1\" class=\"dataframe\">\n",
              "  <thead>\n",
              "    <tr style=\"text-align: right;\">\n",
              "      <th></th>\n",
              "      <th>satisfaction_level</th>\n",
              "      <th>last_evaluation</th>\n",
              "      <th>number_project</th>\n",
              "      <th>average_montly_hours</th>\n",
              "      <th>time_spend_company</th>\n",
              "      <th>Work_accident</th>\n",
              "      <th>left</th>\n",
              "      <th>promotion_last_5years</th>\n",
              "      <th>Department</th>\n",
              "      <th>salary</th>\n",
              "    </tr>\n",
              "  </thead>\n",
              "  <tbody>\n",
              "    <tr>\n",
              "      <th>0</th>\n",
              "      <td>0.38</td>\n",
              "      <td>0.53</td>\n",
              "      <td>2</td>\n",
              "      <td>157</td>\n",
              "      <td>3</td>\n",
              "      <td>0</td>\n",
              "      <td>1</td>\n",
              "      <td>0</td>\n",
              "      <td>sales</td>\n",
              "      <td>low</td>\n",
              "    </tr>\n",
              "    <tr>\n",
              "      <th>1</th>\n",
              "      <td>0.80</td>\n",
              "      <td>0.86</td>\n",
              "      <td>5</td>\n",
              "      <td>262</td>\n",
              "      <td>6</td>\n",
              "      <td>0</td>\n",
              "      <td>1</td>\n",
              "      <td>0</td>\n",
              "      <td>sales</td>\n",
              "      <td>medium</td>\n",
              "    </tr>\n",
              "    <tr>\n",
              "      <th>2</th>\n",
              "      <td>0.11</td>\n",
              "      <td>0.88</td>\n",
              "      <td>7</td>\n",
              "      <td>272</td>\n",
              "      <td>4</td>\n",
              "      <td>0</td>\n",
              "      <td>1</td>\n",
              "      <td>0</td>\n",
              "      <td>sales</td>\n",
              "      <td>medium</td>\n",
              "    </tr>\n",
              "    <tr>\n",
              "      <th>3</th>\n",
              "      <td>0.72</td>\n",
              "      <td>0.87</td>\n",
              "      <td>5</td>\n",
              "      <td>223</td>\n",
              "      <td>5</td>\n",
              "      <td>0</td>\n",
              "      <td>1</td>\n",
              "      <td>0</td>\n",
              "      <td>sales</td>\n",
              "      <td>low</td>\n",
              "    </tr>\n",
              "    <tr>\n",
              "      <th>4</th>\n",
              "      <td>0.37</td>\n",
              "      <td>0.52</td>\n",
              "      <td>2</td>\n",
              "      <td>159</td>\n",
              "      <td>3</td>\n",
              "      <td>0</td>\n",
              "      <td>1</td>\n",
              "      <td>0</td>\n",
              "      <td>sales</td>\n",
              "      <td>low</td>\n",
              "    </tr>\n",
              "  </tbody>\n",
              "</table>\n",
              "</div>"
            ],
            "text/plain": [
              "   satisfaction_level  last_evaluation  number_project  average_montly_hours  \\\n",
              "0                0.38             0.53               2                   157   \n",
              "1                0.80             0.86               5                   262   \n",
              "2                0.11             0.88               7                   272   \n",
              "3                0.72             0.87               5                   223   \n",
              "4                0.37             0.52               2                   159   \n",
              "\n",
              "   time_spend_company  Work_accident  left  promotion_last_5years Department  \\\n",
              "0                   3              0     1                      0      sales   \n",
              "1                   6              0     1                      0      sales   \n",
              "2                   4              0     1                      0      sales   \n",
              "3                   5              0     1                      0      sales   \n",
              "4                   3              0     1                      0      sales   \n",
              "\n",
              "   salary  \n",
              "0     low  \n",
              "1  medium  \n",
              "2  medium  \n",
              "3     low  \n",
              "4     low  "
            ]
          },
          "execution_count": 5,
          "metadata": {},
          "output_type": "execute_result"
        }
      ],
      "source": [
        "df.head()"
      ]
    },
    {
      "cell_type": "code",
      "execution_count": 6,
      "metadata": {
        "gather": {
          "logged": 1696090150076
        },
        "jupyter": {
          "outputs_hidden": false,
          "source_hidden": false
        },
        "nteract": {
          "transient": {
            "deleting": false
          }
        }
      },
      "outputs": [
        {
          "data": {
            "text/html": [
              "<div>\n",
              "<style scoped>\n",
              "    .dataframe tbody tr th:only-of-type {\n",
              "        vertical-align: middle;\n",
              "    }\n",
              "\n",
              "    .dataframe tbody tr th {\n",
              "        vertical-align: top;\n",
              "    }\n",
              "\n",
              "    .dataframe thead th {\n",
              "        text-align: right;\n",
              "    }\n",
              "</style>\n",
              "<table border=\"1\" class=\"dataframe\">\n",
              "  <thead>\n",
              "    <tr style=\"text-align: right;\">\n",
              "      <th></th>\n",
              "      <th>satisfaction_level</th>\n",
              "      <th>last_evaluation</th>\n",
              "      <th>number_project</th>\n",
              "      <th>average_montly_hours</th>\n",
              "      <th>time_spend_company</th>\n",
              "      <th>Work_accident</th>\n",
              "      <th>left</th>\n",
              "      <th>promotion_last_5years</th>\n",
              "      <th>Department</th>\n",
              "      <th>salary</th>\n",
              "    </tr>\n",
              "  </thead>\n",
              "  <tbody>\n",
              "    <tr>\n",
              "      <th>0</th>\n",
              "      <td>0.38</td>\n",
              "      <td>0.53</td>\n",
              "      <td>2</td>\n",
              "      <td>157</td>\n",
              "      <td>3</td>\n",
              "      <td>0</td>\n",
              "      <td>1</td>\n",
              "      <td>0</td>\n",
              "      <td>sales</td>\n",
              "      <td>low</td>\n",
              "    </tr>\n",
              "    <tr>\n",
              "      <th>1</th>\n",
              "      <td>0.80</td>\n",
              "      <td>0.86</td>\n",
              "      <td>5</td>\n",
              "      <td>262</td>\n",
              "      <td>6</td>\n",
              "      <td>0</td>\n",
              "      <td>1</td>\n",
              "      <td>0</td>\n",
              "      <td>sales</td>\n",
              "      <td>medium</td>\n",
              "    </tr>\n",
              "    <tr>\n",
              "      <th>2</th>\n",
              "      <td>0.11</td>\n",
              "      <td>0.88</td>\n",
              "      <td>7</td>\n",
              "      <td>272</td>\n",
              "      <td>4</td>\n",
              "      <td>0</td>\n",
              "      <td>1</td>\n",
              "      <td>0</td>\n",
              "      <td>sales</td>\n",
              "      <td>medium</td>\n",
              "    </tr>\n",
              "    <tr>\n",
              "      <th>3</th>\n",
              "      <td>0.72</td>\n",
              "      <td>0.87</td>\n",
              "      <td>5</td>\n",
              "      <td>223</td>\n",
              "      <td>5</td>\n",
              "      <td>0</td>\n",
              "      <td>1</td>\n",
              "      <td>0</td>\n",
              "      <td>sales</td>\n",
              "      <td>low</td>\n",
              "    </tr>\n",
              "    <tr>\n",
              "      <th>4</th>\n",
              "      <td>0.37</td>\n",
              "      <td>0.52</td>\n",
              "      <td>2</td>\n",
              "      <td>159</td>\n",
              "      <td>3</td>\n",
              "      <td>0</td>\n",
              "      <td>1</td>\n",
              "      <td>0</td>\n",
              "      <td>sales</td>\n",
              "      <td>low</td>\n",
              "    </tr>\n",
              "  </tbody>\n",
              "</table>\n",
              "</div>"
            ],
            "text/plain": [
              "   satisfaction_level  last_evaluation  number_project  average_montly_hours  \\\n",
              "0                0.38             0.53               2                   157   \n",
              "1                0.80             0.86               5                   262   \n",
              "2                0.11             0.88               7                   272   \n",
              "3                0.72             0.87               5                   223   \n",
              "4                0.37             0.52               2                   159   \n",
              "\n",
              "   time_spend_company  Work_accident  left  promotion_last_5years Department  \\\n",
              "0                   3              0     1                      0      sales   \n",
              "1                   6              0     1                      0      sales   \n",
              "2                   4              0     1                      0      sales   \n",
              "3                   5              0     1                      0      sales   \n",
              "4                   3              0     1                      0      sales   \n",
              "\n",
              "   salary  \n",
              "0     low  \n",
              "1  medium  \n",
              "2  medium  \n",
              "3     low  \n",
              "4     low  "
            ]
          },
          "execution_count": 6,
          "metadata": {},
          "output_type": "execute_result"
        }
      ],
      "source": [
        "dataset.take(5).to_pandas_dataframe()"
      ]
    },
    {
      "cell_type": "markdown",
      "metadata": {},
      "source": [
        " ## Cluster creation"
      ]
    },
    {
      "cell_type": "code",
      "execution_count": 7,
      "metadata": {
        "gather": {
          "logged": 1696090168573
        }
      },
      "outputs": [
        {
          "name": "stdout",
          "output_type": "stream",
          "text": [
            "InProgress..\n",
            "SucceededProvisioning operation finished, operation \"Succeeded\"\n",
            "Succeeded\n",
            "AmlCompute wait for completion finished\n",
            "\n",
            "Minimum number of nodes requested have been provisioned\n"
          ]
        }
      ],
      "source": [
        "from azureml.core.compute import ComputeTarget, AmlCompute\n",
        "from azureml.core.compute_target import ComputeTargetException\n",
        "\n",
        "cluster_name = \"cluster-udacity\"\n",
        "\n",
        "try:\n",
        "    cpu_cluster = ComputeTarget(workspace=ws, name=cluster_name)\n",
        "    print('Found existing cluster in the provided workspace, so we use it.')\n",
        "except ComputeTargetException:\n",
        "    comp_config = AmlCompute.provisioning_configuration(vm_size='STANDARD_D2_V2',\n",
        "                                                           max_nodes=3)\n",
        "    cpu_cluster = ComputeTarget.create(ws, cluster_name, comp_config)\n",
        "\n",
        "cpu_cluster.wait_for_completion(show_output=True)"
      ]
    },
    {
      "cell_type": "markdown",
      "metadata": {},
      "source": [
        "## AutoML Configuration\n",
        "\n",
        "TODO: Explain why you chose the automl settings and cofiguration you used below."
      ]
    },
    {
      "cell_type": "code",
      "execution_count": 8,
      "metadata": {
        "gather": {
          "logged": 1696090189422
        },
        "jupyter": {
          "outputs_hidden": false,
          "source_hidden": false
        },
        "nteract": {
          "transient": {
            "deleting": false
          }
        }
      },
      "outputs": [],
      "source": [
        "# TODO: Put your automl settings here\n",
        "automl_settings = {\n",
        "    \"experiment_timeout_minutes\": 20,\n",
        "    \"max_concurrent_iterations\": 5,\n",
        "    \"primary_metric\" : 'AUC_weighted'\n",
        "}\n",
        "\n",
        "# TODO: Put your automl config here\n",
        "automl_config = AutoMLConfig(compute_target=cpu_cluster,\n",
        "                             task = \"classification\",\n",
        "                             training_data=dataset,\n",
        "                             label_column_name=\"left\",   \n",
        "                             path = project_folder,\n",
        "                             enable_early_stopping= True,\n",
        "                             featurization= 'auto',\n",
        "                             debug_log = \"automl_errors.log\",\n",
        "                             **automl_settings\n",
        "                            )"
      ]
    },
    {
      "cell_type": "code",
      "execution_count": 9,
      "metadata": {
        "gather": {
          "logged": 1696090195653
        },
        "jupyter": {
          "outputs_hidden": false,
          "source_hidden": false
        },
        "nteract": {
          "transient": {
            "deleting": false
          }
        }
      },
      "outputs": [
        {
          "name": "stdout",
          "output_type": "stream",
          "text": [
            "Submitting remote run.\n"
          ]
        },
        {
          "data": {
            "text/html": [
              "<table style=\"width:100%\"><tr><th>Experiment</th><th>Id</th><th>Type</th><th>Status</th><th>Details Page</th><th>Docs Page</th></tr><tr><td>automl_experiment</td><td>AutoML_979f9db3-ed3f-4ab4-8b4a-532c929e983a</td><td>automl</td><td>NotStarted</td><td><a href=\"https://ml.azure.com/runs/AutoML_979f9db3-ed3f-4ab4-8b4a-532c929e983a?wsid=/subscriptions/d7f39349-a66b-446e-aba6-0053c2cf1c11/resourcegroups/aml-quickstarts-242066/workspaces/quick-starts-ws-242066&amp;tid=660b3398-b80e-49d2-bc5b-ac1dc93b5254\" target=\"_blank\" rel=\"noopener\">Link to Azure Machine Learning studio</a></td><td><a href=\"https://docs.microsoft.com/en-us/python/api/overview/azure/ml/intro?view=azure-ml-py\" target=\"_blank\" rel=\"noopener\">Link to Documentation</a></td></tr></table>"
            ]
          },
          "metadata": {},
          "output_type": "display_data"
        }
      ],
      "source": [
        "# TODO: Submit your experiment\n",
        "remote_run = experiment.submit(automl_config)"
      ]
    },
    {
      "cell_type": "markdown",
      "metadata": {},
      "source": [
        "## Run Details\n",
        "\n",
        "OPTIONAL: Write about the different models trained and their performance. Why do you think some models did better than others?\n",
        "\n",
        "TODO: In the cell below, use the `RunDetails` widget to show the different experiments."
      ]
    },
    {
      "cell_type": "code",
      "execution_count": 10,
      "metadata": {
        "gather": {
          "logged": 1696090244113
        },
        "jupyter": {
          "outputs_hidden": false,
          "source_hidden": false
        },
        "nteract": {
          "transient": {
            "deleting": false
          }
        }
      },
      "outputs": [
        {
          "data": {
            "application/vnd.jupyter.widget-view+json": {
              "model_id": "a3f93e2ad011460eb49cb1856ac264f3",
              "version_major": 2,
              "version_minor": 0
            },
            "text/plain": [
              "_AutoMLWidget(widget_settings={'childWidgetDisplay': 'popup', 'send_telemetry': False, 'log_level': 'INFO', 's…"
            ]
          },
          "metadata": {},
          "output_type": "display_data"
        },
        {
          "data": {
            "application/aml.mini.widget.v1": "{\"status\": \"Running\", \"workbench_run_details_uri\": \"https://ml.azure.com/runs/AutoML_979f9db3-ed3f-4ab4-8b4a-532c929e983a?wsid=/subscriptions/d7f39349-a66b-446e-aba6-0053c2cf1c11/resourcegroups/aml-quickstarts-242066/workspaces/quick-starts-ws-242066&tid=660b3398-b80e-49d2-bc5b-ac1dc93b5254\", \"run_id\": \"AutoML_979f9db3-ed3f-4ab4-8b4a-532c929e983a\", \"run_properties\": {\"run_id\": \"AutoML_979f9db3-ed3f-4ab4-8b4a-532c929e983a\", \"created_utc\": \"2023-09-30T16:09:54.246655Z\", \"properties\": {\"num_iterations\": \"1000\", \"training_type\": \"TrainFull\", \"acquisition_function\": \"EI\", \"primary_metric\": \"AUC_weighted\", \"train_split\": \"0\", \"acquisition_parameter\": \"0\", \"num_cross_validation\": null, \"target\": \"cluster-udacity\", \"AMLSettingsJsonString\": \"{\\\"path\\\":null,\\\"name\\\":\\\"automl_experiment\\\",\\\"subscription_id\\\":\\\"d7f39349-a66b-446e-aba6-0053c2cf1c11\\\",\\\"resource_group\\\":\\\"aml-quickstarts-242066\\\",\\\"workspace_name\\\":\\\"quick-starts-ws-242066\\\",\\\"region\\\":\\\"southcentralus\\\",\\\"compute_target\\\":\\\"cluster-udacity\\\",\\\"spark_service\\\":null,\\\"azure_service\\\":\\\"remote\\\",\\\"many_models\\\":false,\\\"pipeline_fetch_max_batch_size\\\":1,\\\"enable_batch_run\\\":true,\\\"enable_parallel_run\\\":false,\\\"num_procs\\\":null,\\\"enable_run_restructure\\\":false,\\\"start_auxiliary_runs_before_parent_complete\\\":false,\\\"enable_code_generation\\\":true,\\\"iterations\\\":1000,\\\"primary_metric\\\":\\\"AUC_weighted\\\",\\\"task_type\\\":\\\"classification\\\",\\\"positive_label\\\":null,\\\"data_script\\\":null,\\\"test_size\\\":0.0,\\\"test_include_predictions_only\\\":false,\\\"validation_size\\\":0.0,\\\"n_cross_validations\\\":null,\\\"y_min\\\":null,\\\"y_max\\\":null,\\\"num_classes\\\":null,\\\"featurization\\\":\\\"auto\\\",\\\"_ignore_package_version_incompatibilities\\\":false,\\\"is_timeseries\\\":false,\\\"max_cores_per_iteration\\\":1,\\\"max_concurrent_iterations\\\":5,\\\"iteration_timeout_minutes\\\":null,\\\"mem_in_mb\\\":null,\\\"enforce_time_on_windows\\\":false,\\\"experiment_timeout_minutes\\\":20,\\\"experiment_exit_score\\\":null,\\\"partition_column_names\\\":null,\\\"whitelist_models\\\":null,\\\"blacklist_algos\\\":[\\\"TensorFlowLinearClassifier\\\",\\\"TensorFlowDNN\\\"],\\\"supported_models\\\":[\\\"LogisticRegression\\\",\\\"MultinomialNaiveBayes\\\",\\\"TensorFlowLinearClassifier\\\",\\\"BernoulliNaiveBayes\\\",\\\"RandomForest\\\",\\\"LightGBM\\\",\\\"SGD\\\",\\\"DecisionTree\\\",\\\"XGBoostClassifier\\\",\\\"KNN\\\",\\\"TabnetClassifier\\\",\\\"ExtremeRandomTrees\\\",\\\"GradientBoosting\\\",\\\"LinearSVM\\\",\\\"AveragedPerceptronClassifier\\\",\\\"TensorFlowDNN\\\",\\\"SVM\\\"],\\\"private_models\\\":[],\\\"auto_blacklist\\\":true,\\\"blacklist_samples_reached\\\":false,\\\"exclude_nan_labels\\\":true,\\\"verbosity\\\":20,\\\"_debug_log\\\":\\\"azureml_automl.log\\\",\\\"show_warnings\\\":false,\\\"model_explainability\\\":true,\\\"service_url\\\":null,\\\"sdk_url\\\":null,\\\"sdk_packages\\\":null,\\\"enable_onnx_compatible_models\\\":false,\\\"enable_split_onnx_featurizer_estimator_models\\\":false,\\\"vm_type\\\":\\\"STANDARD_D2_V2\\\",\\\"telemetry_verbosity\\\":20,\\\"send_telemetry\\\":true,\\\"enable_dnn\\\":false,\\\"scenario\\\":\\\"AutoML\\\",\\\"environment_label\\\":null,\\\"save_mlflow\\\":false,\\\"enable_categorical_indicators\\\":false,\\\"force_text_dnn\\\":false,\\\"enable_feature_sweeping\\\":true,\\\"enable_early_stopping\\\":true,\\\"early_stopping_n_iters\\\":10,\\\"arguments\\\":null,\\\"dataset_id\\\":\\\"386f569b-55e5-476a-b65d-2f5a5a0b3a51\\\",\\\"hyperdrive_config\\\":null,\\\"validation_dataset_id\\\":null,\\\"run_source\\\":null,\\\"metrics\\\":null,\\\"enable_metric_confidence\\\":false,\\\"enable_ensembling\\\":true,\\\"enable_stack_ensembling\\\":true,\\\"ensemble_iterations\\\":15,\\\"enable_tf\\\":false,\\\"enable_subsampling\\\":null,\\\"subsample_seed\\\":null,\\\"enable_nimbusml\\\":false,\\\"enable_streaming\\\":false,\\\"force_streaming\\\":false,\\\"track_child_runs\\\":true,\\\"n_best_runs\\\":1,\\\"allowed_private_models\\\":[],\\\"label_column_name\\\":\\\"left\\\",\\\"weight_column_name\\\":null,\\\"cv_split_column_names\\\":null,\\\"enable_local_managed\\\":false,\\\"_local_managed_run_id\\\":null,\\\"cost_mode\\\":1,\\\"lag_length\\\":0,\\\"metric_operation\\\":\\\"maximize\\\",\\\"preprocess\\\":true}\", \"DataPrepJsonString\": \"{\\\\\\\"training_data\\\\\\\": {\\\\\\\"datasetId\\\\\\\": \\\\\\\"386f569b-55e5-476a-b65d-2f5a5a0b3a51\\\\\\\"}, \\\\\\\"datasets\\\\\\\": 0}\", \"EnableSubsampling\": null, \"runTemplate\": \"AutoML\", \"azureml.runsource\": \"automl\", \"display_task_type\": \"classification\", \"dependencies_versions\": \"{\\\"azureml-dataprep-native\\\": \\\"38.0.0\\\", \\\"azureml-dataprep\\\": \\\"4.10.8\\\", \\\"azureml-dataprep-rslex\\\": \\\"2.17.12\\\", \\\"azureml-train-automl-runtime\\\": \\\"1.51.0.post2\\\", \\\"azureml-train-automl-client\\\": \\\"1.51.0.post1\\\", \\\"azureml-training-tabular\\\": \\\"1.51.0.post1\\\", \\\"azureml-automl-runtime\\\": \\\"1.51.0.post1\\\", \\\"azureml-automl-core\\\": \\\"1.51.0.post1\\\", \\\"azureml-mlflow\\\": \\\"1.51.0\\\", \\\"azureml-datadrift\\\": \\\"1.51.0\\\", \\\"azureml-pipeline\\\": \\\"1.51.0\\\", \\\"azureml-contrib-dataset\\\": \\\"1.51.0\\\", \\\"azureml-contrib-notebook\\\": \\\"1.51.0\\\", \\\"azureml-accel-models\\\": \\\"1.51.0\\\", \\\"azureml-automl-dnn-nlp\\\": \\\"1.51.0\\\", \\\"azureml-pipeline-core\\\": \\\"1.51.0\\\", \\\"azureml-responsibleai\\\": \\\"1.51.0\\\", \\\"azureml-contrib-automl-pipeline-steps\\\": \\\"1.51.0\\\", \\\"azureml-pipeline-steps\\\": \\\"1.51.0\\\", \\\"azureml-core\\\": \\\"1.51.0\\\", \\\"azureml-contrib-reinforcementlearning\\\": \\\"1.51.0\\\", \\\"azureml-contrib-server\\\": \\\"1.51.0\\\", \\\"azureml-opendatasets\\\": \\\"1.51.0\\\", \\\"azureml-contrib-services\\\": \\\"1.51.0\\\", \\\"azureml-telemetry\\\": \\\"1.51.0\\\", \\\"azureml-train-restclients-hyperdrive\\\": \\\"1.51.0\\\", \\\"azureml-interpret\\\": \\\"1.51.0\\\", \\\"azureml-train-core\\\": \\\"1.51.0\\\", \\\"azureml-tensorboard\\\": \\\"1.51.0\\\", \\\"azureml-train\\\": \\\"1.51.0\\\", \\\"azureml-contrib-pipeline-steps\\\": \\\"1.51.0\\\", \\\"azureml-explain-model\\\": \\\"1.51.0\\\", \\\"azureml-cli-common\\\": \\\"1.51.0\\\", \\\"azureml-widgets\\\": \\\"1.51.0\\\", \\\"azureml-train-automl\\\": \\\"1.51.0\\\", \\\"azureml-defaults\\\": \\\"1.51.0\\\", \\\"azureml-contrib-fairness\\\": \\\"1.51.0\\\", \\\"azureml-sdk\\\": \\\"1.51.0\\\", \\\"azureml-dataset-runtime\\\": \\\"1.51.0\\\", \\\"azureml-inference-server-http\\\": \\\"0.8.4\\\"}\", \"_aml_system_scenario_identification\": \"Remote.Parent\", \"ClientType\": \"SDK\", \"PlatformVersion\": \"DPV1\", \"environment_cpu_name\": \"AzureML-AutoML\", \"environment_cpu_label\": \"prod\", \"environment_gpu_name\": \"AzureML-AutoML-GPU\", \"environment_gpu_label\": \"prod\", \"root_attribution\": \"automl\", \"attribution\": \"AutoML\", \"Orchestrator\": \"AutoML\", \"CancelUri\": \"https://southcentralus.api.azureml.ms/jasmine/v1.0/subscriptions/d7f39349-a66b-446e-aba6-0053c2cf1c11/resourceGroups/aml-quickstarts-242066/providers/Microsoft.MachineLearningServices/workspaces/quick-starts-ws-242066/experimentids/97a7d825-4271-4b06-a0b0-13a316936862/cancel/AutoML_979f9db3-ed3f-4ab4-8b4a-532c929e983a\", \"ClientSdkVersion\": null, \"snapshotId\": \"00000000-0000-0000-0000-000000000000\", \"SetupRunId\": \"AutoML_979f9db3-ed3f-4ab4-8b4a-532c929e983a_setup\", \"SetupRunContainerId\": \"dcid.AutoML_979f9db3-ed3f-4ab4-8b4a-532c929e983a_setup\", \"FeaturizationRunJsonPath\": \"featurizer_container.json\", \"FeaturizationRunId\": \"AutoML_979f9db3-ed3f-4ab4-8b4a-532c929e983a_featurize\"}, \"tags\": {\"model_explain_run\": \"best_run\", \"_aml_system_automl_run_workspace_id\": \"0fb57879-80ce-48b3-a3fe-56e3549beaf3\", \"_aml_system_azureml.automlComponent\": \"AutoML\"}, \"end_time_utc\": null, \"status\": \"Running\", \"log_files\": {}, \"log_groups\": [], \"run_duration\": \"0:08:55\", \"run_number\": \"1696090194\", \"run_queued_details\": {\"status\": \"Running\", \"details\": null}}, \"child_runs\": [{\"run_id\": \"AutoML_979f9db3-ed3f-4ab4-8b4a-532c929e983a_setup\", \"run_number\": 1696090207, \"metric\": null, \"status\": \"Completed\", \"run_type\": \"azureml.scriptrun\", \"training_percent\": null, \"start_time\": \"2023-09-30T16:15:20.567143Z\", \"end_time\": \"2023-09-30T16:18:13.704607Z\", \"created_time\": \"2023-09-30T16:10:07.213114Z\", \"created_time_dt\": \"2023-09-30T16:10:07.213114Z\", \"duration\": \"0:08:06\", \"iteration\": null, \"goal\": null, \"run_name\": \"Completed\", \"run_properties\": null}, {\"run_id\": \"AutoML_979f9db3-ed3f-4ab4-8b4a-532c929e983a_featurize\", \"run_number\": 1696090694, \"metric\": null, \"status\": \"Running\", \"run_type\": \"automl.featurization\", \"training_percent\": null, \"start_time\": \"2023-09-30T16:18:14.424858Z\", \"end_time\": \"\", \"created_time\": \"2023-09-30T16:18:14.001277Z\", \"created_time_dt\": \"2023-09-30T16:18:14.001277Z\", \"duration\": \"0:00:36\", \"iteration\": null, \"goal\": null, \"run_name\": \"Running\", \"run_properties\": null}], \"children_metrics\": {\"categories\": null, \"series\": null, \"metricName\": null}, \"run_metrics\": [{\"name\": \"experiment_status\", \"run_id\": \"AutoML_979f9db3-ed3f-4ab4-8b4a-532c929e983a\", \"categories\": [0, 1, 2], \"series\": [{\"data\": [\"DatasetEvaluation\", \"FeaturesGeneration\", \"DatasetFeaturization\"]}]}, {\"name\": \"experiment_status_description\", \"run_id\": \"AutoML_979f9db3-ed3f-4ab4-8b4a-532c929e983a\", \"categories\": [0, 1, 2], \"series\": [{\"data\": [\"Gathering dataset statistics.\", \"Generating features for the dataset.\", \"Beginning to fit featurizers and featurize the dataset.\"]}]}], \"run_logs\": \"Your job is submitted in Azure cloud and we are monitoring to get logs...\", \"graph\": {}, \"widget_settings\": {\"childWidgetDisplay\": \"popup\", \"send_telemetry\": false, \"log_level\": \"INFO\", \"sdk_version\": \"1.51.0\"}, \"loading\": false}"
          },
          "metadata": {},
          "output_type": "display_data"
        }
      ],
      "source": [
        "from azureml.widgets import RunDetails\n",
        "RunDetails(remote_run).show()"
      ]
    },
    {
      "cell_type": "code",
      "execution_count": 11,
      "metadata": {},
      "outputs": [
        {
          "data": {
            "text/html": [
              "<table style=\"width:100%\"><tr><th>Experiment</th><th>Id</th><th>Type</th><th>Status</th><th>Details Page</th><th>Docs Page</th></tr><tr><td>automl_experiment</td><td>AutoML_979f9db3-ed3f-4ab4-8b4a-532c929e983a</td><td>automl</td><td>NotStarted</td><td><a href=\"https://ml.azure.com/runs/AutoML_979f9db3-ed3f-4ab4-8b4a-532c929e983a?wsid=/subscriptions/d7f39349-a66b-446e-aba6-0053c2cf1c11/resourcegroups/aml-quickstarts-242066/workspaces/quick-starts-ws-242066&amp;tid=660b3398-b80e-49d2-bc5b-ac1dc93b5254\" target=\"_blank\" rel=\"noopener\">Link to Azure Machine Learning studio</a></td><td><a href=\"https://docs.microsoft.com/en-us/python/api/overview/azure/ml/intro?view=azure-ml-py\" target=\"_blank\" rel=\"noopener\">Link to Documentation</a></td></tr></table>"
            ]
          },
          "metadata": {},
          "output_type": "display_data"
        },
        {
          "name": "stdout",
          "output_type": "stream",
          "text": [
            "\n",
            "Current status: FeaturesGeneration. Generating features for the dataset.\n",
            "Current status: DatasetFeaturization. Beginning to fit featurizers and featurize the dataset.\n",
            "Current status: DatasetCrossValidationSplit. Generating individually featurized CV splits.\n"
          ]
        }
      ],
      "source": [
        "remote_run.wait_for_completion(show_output=True)"
      ]
    },
    {
      "cell_type": "markdown",
      "metadata": {},
      "source": [
        "## Best Model\n",
        "\n",
        "TODO: In the cell below, get the best model from the automl experiments and display all the properties of the model.\n",
        "\n"
      ]
    },
    {
      "cell_type": "code",
      "execution_count": 12,
      "metadata": {
        "gather": {
          "logged": 1696091944864
        },
        "jupyter": {
          "outputs_hidden": false,
          "source_hidden": false
        },
        "nteract": {
          "transient": {
            "deleting": false
          }
        }
      },
      "outputs": [
        {
          "name": "stderr",
          "output_type": "stream",
          "text": [
            "WARNING:root:The version of the SDK does not match the version the model was trained on.\n",
            "WARNING:root:The consistency in the result may not be guaranteed.\n",
            "WARNING:root:Package:azureml-automl-core, training version:1.52.0.post1, current version:1.51.0.post1\n",
            "Package:azureml-automl-runtime, training version:1.52.0.post1, current version:1.51.0.post1\n",
            "Package:azureml-core, training version:1.52.0, current version:1.51.0\n",
            "Package:azureml-dataprep, training version:4.11.4, current version:4.10.8\n",
            "Package:azureml-dataprep-rslex, training version:2.18.4, current version:2.17.12\n",
            "Package:azureml-dataset-runtime, training version:1.52.0, current version:1.51.0\n",
            "Package:azureml-defaults, training version:1.52.0, current version:1.51.0\n",
            "Package:azureml-interpret, training version:1.52.0, current version:1.51.0\n",
            "Package:azureml-mlflow, training version:1.52.0, current version:1.51.0\n",
            "Package:azureml-pipeline-core, training version:1.52.0, current version:1.51.0\n",
            "Package:azureml-responsibleai, training version:1.52.0, current version:1.51.0\n",
            "Package:azureml-telemetry, training version:1.52.0, current version:1.51.0\n",
            "Package:azureml-train-automl-client, training version:1.52.0, current version:1.51.0.post1\n",
            "Package:azureml-train-automl-runtime, training version:1.52.0, current version:1.51.0.post2\n",
            "Package:azureml-train-core, training version:1.52.0, current version:1.51.0\n",
            "Package:azureml-train-restclients-hyperdrive, training version:1.52.0, current version:1.51.0\n",
            "Package:azureml-training-tabular, training version:1.52.0, current version:1.51.0.post1\n",
            "WARNING:root:Please ensure the version of your local conda dependencies match the version on which your model was trained in order to properly retrieve your model.\n"
          ]
        },
        {
          "name": "stdout",
          "output_type": "stream",
          "text": [
            "Run(Experiment: automl_experiment,\n",
            "Id: AutoML_979f9db3-ed3f-4ab4-8b4a-532c929e983a_38,\n",
            "Type: azureml.scriptrun,\n",
            "Status: Completed)\n",
            "Pipeline(memory=None,\n",
            "         steps=[('datatransformer',\n",
            "                 DataTransformer(enable_dnn=False, enable_feature_sweeping=True, feature_sweeping_config={}, feature_sweeping_timeout=86400, featurization_config=None, force_text_dnn=False, is_cross_validation=True, is_onnx_compatible=False, observer=None, task='classification', working_dir='/mnt/batch/tasks/shared/LS_root/mount...\n",
            "                 PreFittedSoftVotingClassifier(classification_labels=array([0, 1]), estimators=[('0', Pipeline(memory=None, steps=[('maxabsscaler', MaxAbsScaler(copy=True)), ('lightgbmclassifier', LightGBMClassifier(min_data_in_leaf=20, n_jobs=1, problem_info=ProblemInfo(gpu_training_param_dict={'processing_unit_type': 'cpu'}), random_state=None))], verbose=False)), ('1', Pipeline(memory=None, steps=[('maxabsscaler', MaxAbsScaler(copy=True)), ('xgboostclassifier', XGBoostClassifier(n_jobs=1, problem_info=ProblemInfo(gpu_training_param_dict={'processing_unit_type': 'cpu'}), random_state=0, tree_method='auto'))], verbose=False)), ('14', Pipeline(memory=None, steps=[('standardscalerwrapper', StandardScalerWrapper(copy=True, with_mean=False, with_std=False)), ('randomforestclassifier', RandomForestClassifier(bootstrap=True, ccp_alpha=0.0, class_weight=None, criterion='gini', max_depth=None, max_features='auto', max_leaf_nodes=None, max_samples=None, min_impurity_decrease=0.0, min_impurity_split=None, min_samples_leaf=1, min_samples_split=2, min_weight_fraction_leaf=0.0, n_estimators=100, n_jobs=1, oob_score=False, random_state=None, verbose=0, warm_start=False))], verbose=False)), ('31', Pipeline(memory=None, steps=[('standardscalerwrapper', StandardScalerWrapper(copy=True, with_mean=False, with_std=False)), ('xgboostclassifier', XGBoostClassifier(booster='gbtree', colsample_bytree=0.9, eta=0.3, gamma=0, max_depth=6, max_leaves=0, n_estimators=50, n_jobs=1, objective='reg:logistic', problem_info=ProblemInfo(gpu_training_param_dict={'processing_unit_type': 'cpu'}), random_state=0, reg_alpha=1.1458333333333335, reg_lambda=0.4166666666666667, subsample=0.5, tree_method='auto'))], verbose=False)), ('22', Pipeline(memory=None, steps=[('standardscalerwrapper', StandardScalerWrapper(copy=True, with_mean=False, with_std=False)), ('xgboostclassifier', XGBoostClassifier(booster='gbtree', colsample_bytree=0.7, eta=0.3, gamma=0, max_depth=5, max_leaves=0, n_estimators=100, n_jobs=1, objective='reg:logistic', problem_info=ProblemInfo(gpu_training_param_dict={'processing_unit_type': 'cpu'}), random_state=0, reg_alpha=1.5625, reg_lambda=2.1875, subsample=0.7, tree_method='auto'))], verbose=False)), ('7', Pipeline(memory=None, steps=[('standardscalerwrapper', StandardScalerWrapper(copy=True, with_mean=False, with_std=False)), ('xgboostclassifier', XGBoostClassifier(booster='gbtree', colsample_bytree=0.5, eta=0.3, gamma=0, max_depth=10, max_leaves=255, n_estimators=10, n_jobs=1, objective='reg:logistic', problem_info=ProblemInfo(gpu_training_param_dict={'processing_unit_type': 'cpu'}), random_state=0, reg_alpha=0, reg_lambda=0.10416666666666667, subsample=0.7, tree_method='auto'))], verbose=False)), ('8', Pipeline(memory=None, steps=[('sparsenormalizer', Normalizer(copy=True, norm='max')), ('xgboostclassifier', XGBoostClassifier(booster='gbtree', colsample_bytree=0.8, eta=0.3, gamma=0.1, max_depth=10, max_leaves=63, n_estimators=10, n_jobs=1, objective='reg:logistic', problem_info=ProblemInfo(gpu_training_param_dict={'processing_unit_type': 'cpu'}), random_state=0, reg_alpha=1.25, reg_lambda=0.7291666666666667, subsample=1, tree_method='auto'))], verbose=False))], flatten_transform=None, weights=[0.6, 0.06666666666666667, 0.06666666666666667, 0.06666666666666667, 0.06666666666666667, 0.06666666666666667, 0.06666666666666667]))],\n",
            "         verbose=False)\n",
            "{'experiment_status': ['DatasetEvaluation', 'FeaturesGeneration', 'DatasetFeaturization', 'DatasetFeaturizationCompleted', 'DatasetCrossValidationSplit', 'ModelSelection', 'BestRunExplainModel', 'ModelExplanationDataSetSetup', 'PickSurrogateModel', 'EngineeredFeatureExplanations', 'EngineeredFeatureExplanations', 'RawFeaturesExplanations', 'RawFeaturesExplanations', 'BestRunExplainModel'], 'experiment_status_description': ['Gathering dataset statistics.', 'Generating features for the dataset.', 'Beginning to fit featurizers and featurize the dataset.', 'Completed fit featurizers and featurizing the dataset.', 'Generating individually featurized CV splits.', 'Beginning model selection.', 'Best run model explanations started', 'Model explanations data setup completed', 'Choosing LightGBM as the surrogate model for explanations', 'Computation of engineered features started', 'Computation of engineered features completed', 'Computation of raw features started', 'Computation of raw features completed', 'Best run model explanations completed'], 'average_precision_score_micro': 0.9969246201941963, 'AUC_micro': 0.9970711053836195, 'precision_score_micro': 0.987665853170634, 'log_loss': 0.050894683742108905, 'precision_score_weighted': 0.9876481411498078, 'balanced_accuracy': 0.9791087922403822, 'AUC_macro': 0.9947772335754368, 'recall_score_macro': 0.9791087922403822, 'weighted_accuracy': 0.9925376254158368, 'f1_score_macro': 0.9828775286847286, 'average_precision_score_weighted': 0.9960623506821248, 'matthews_correlation': 0.9658670595095336, 'recall_score_weighted': 0.987665853170634, 'accuracy': 0.987665853170634, 'precision_score_macro': 0.9867893696581485, 'norm_macro_recall': 0.9582175844807642, 'f1_score_weighted': 0.987616416761122, 'average_precision_score_macro': 0.9941716976070808, 'recall_score_micro': 0.987665853170634, 'AUC_weighted': 0.9947772335754368, 'f1_score_micro': 0.987665853170634}\n"
          ]
        }
      ],
      "source": [
        "best_run, fitted_model = remote_run.get_output()\n",
        "print(best_run)\n",
        "print(fitted_model)\n",
        "print(remote_run.get_metrics())"
      ]
    },
    {
      "cell_type": "code",
      "execution_count": 30,
      "metadata": {
        "gather": {
          "logged": 1696094856727
        },
        "jupyter": {
          "outputs_hidden": false,
          "source_hidden": false
        },
        "nteract": {
          "transient": {
            "deleting": false
          }
        }
      },
      "outputs": [
        {
          "name": "stdout",
          "output_type": "stream",
          "text": [
            "f1_score_micro 0.987665853170634\n",
            "matthews_correlation 0.9658670595095336\n",
            "precision_score_macro 0.9867893696581485\n",
            "accuracy 0.987665853170634\n",
            "AUC_weighted 0.9947772335754368\n",
            "recall_score_weighted 0.987665853170634\n",
            "average_precision_score_macro 0.9941716976070808\n",
            "f1_score_macro 0.9828775286847286\n",
            "weighted_accuracy 0.9925376254158368\n",
            "recall_score_micro 0.987665853170634\n",
            "recall_score_macro 0.9791087922403822\n",
            "log_loss 0.050894683742108905\n",
            "precision_score_weighted 0.9876481411498078\n",
            "balanced_accuracy 0.9791087922403822\n",
            "f1_score_weighted 0.987616416761122\n",
            "precision_score_micro 0.987665853170634\n",
            "AUC_micro 0.9970711053836195\n",
            "norm_macro_recall 0.9582175844807642\n",
            "average_precision_score_micro 0.9969246201941963\n",
            "average_precision_score_weighted 0.9960623506821248\n",
            "AUC_macro 0.9947772335754368\n",
            "accuracy_table aml://artifactId/ExperimentRun/dcid.AutoML_979f9db3-ed3f-4ab4-8b4a-532c929e983a_38/accuracy_table\n",
            "confusion_matrix aml://artifactId/ExperimentRun/dcid.AutoML_979f9db3-ed3f-4ab4-8b4a-532c929e983a_38/confusion_matrix\n",
            "\n",
            "AUC_weighted of Best run\n",
            "0.9947772335754368\n",
            "Run(Experiment: automl_experiment,\n",
            "Id: AutoML_979f9db3-ed3f-4ab4-8b4a-532c929e983a_38,\n",
            "Type: azureml.scriptrun,\n",
            "Status: Completed)\n",
            "AutoML979f9db3e38\tAutoML979f9db3e38:2\t2\n"
          ]
        }
      ],
      "source": [
        "# Metric in best run\n",
        "best_run_metrics = best_run.get_metrics()\n",
        "\n",
        "for metric_name in best_run_metrics:\n",
        "    metric = best_run_metrics[metric_name]\n",
        "    print(metric_name, metric)\n",
        "    \n",
        "print('\\nAUC_weighted of Best run',best_run_metrics['AUC_weighted'],sep='\\n')\n",
        "print(best_run)\n",
        "\n",
        "model_name = best_run.properties['model_name']\n",
        "model_name#Register the model\n",
        "model = remote_run.register_model(model_name=model_name)\n",
        "print(model.name, model.id, model.version, sep='\\t')"
      ]
    },
    {
      "cell_type": "code",
      "execution_count": 14,
      "metadata": {
        "gather": {
          "logged": 1696092035590
        },
        "jupyter": {
          "outputs_hidden": false,
          "source_hidden": false
        },
        "nteract": {
          "transient": {
            "deleting": false
          }
        }
      },
      "outputs": [
        {
          "name": "stdout",
          "output_type": "stream",
          "text": [
            "HR-best-automl-model\tHR-best-automl-model:1\t1\n"
          ]
        }
      ],
      "source": [
        "# Save the best model\n",
        "model = remote_run.register_model(model_name='HR-best-automl-model')\n",
        "print(model.name, model.id, model.version, sep='\\t')"
      ]
    },
    {
      "cell_type": "markdown",
      "metadata": {},
      "source": [
        "## Model Deployment\n",
        "\n",
        "Remember you have to deploy only one of the two models you trained but you still need to register both the models. Perform the steps in the rest of this notebook only if you wish to deploy this model.\n",
        "\n",
        "TODO: In the cell below, register the model, create an inference config and deploy the model as a web service."
      ]
    },
    {
      "cell_type": "code",
      "execution_count": 15,
      "metadata": {
        "gather": {
          "logged": 1696092086622
        },
        "jupyter": {
          "outputs_hidden": false,
          "source_hidden": false
        },
        "nteract": {
          "transient": {
            "deleting": false
          }
        }
      },
      "outputs": [
        {
          "data": {
            "text/html": [
              "<table style=\"width:100%\"><tr><th>Experiment</th><th>Id</th><th>Type</th><th>Status</th><th>Details Page</th><th>Docs Page</th></tr><tr><td>automl_experiment</td><td>AutoML_979f9db3-ed3f-4ab4-8b4a-532c929e983a_38</td><td>azureml.scriptrun</td><td>Completed</td><td><a href=\"https://ml.azure.com/runs/AutoML_979f9db3-ed3f-4ab4-8b4a-532c929e983a_38?wsid=/subscriptions/d7f39349-a66b-446e-aba6-0053c2cf1c11/resourcegroups/aml-quickstarts-242066/workspaces/quick-starts-ws-242066&amp;tid=660b3398-b80e-49d2-bc5b-ac1dc93b5254\" target=\"_blank\" rel=\"noopener\">Link to Azure Machine Learning studio</a></td><td><a href=\"https://docs.microsoft.com/en-us/python/api/overview/azure/ml/intro?view=azure-ml-py\" target=\"_blank\" rel=\"noopener\">Link to Documentation</a></td></tr></table>"
            ],
            "text/plain": [
              "Run(Experiment: automl_experiment,\n",
              "Id: AutoML_979f9db3-ed3f-4ab4-8b4a-532c929e983a_38,\n",
              "Type: azureml.scriptrun,\n",
              "Status: Completed)"
            ]
          },
          "execution_count": 15,
          "metadata": {},
          "output_type": "execute_result"
        }
      ],
      "source": [
        "# Deploy model\n",
        "from azureml.train.automl.run import AutoMLRun\n",
        "run_id= 'AutoML_979f9db3-ed3f-4ab4-8b4a-532c929e983a_38' #best run (from the previous cell output)\n",
        "best_run=AutoMLRun(experiment, run_id)\n",
        "best_run"
      ]
    },
    {
      "cell_type": "code",
      "execution_count": 20,
      "metadata": {
        "gather": {
          "logged": 1696092459372
        }
      },
      "outputs": [
        {
          "data": {
            "text/plain": [
              "Model(workspace=Workspace.create(name='quick-starts-ws-242066', subscription_id='d7f39349-a66b-446e-aba6-0053c2cf1c11', resource_group='aml-quickstarts-242066'), name=HR-best-automl-model, id=HR-best-automl-model:1, version=1, tags={}, properties={})"
            ]
          },
          "execution_count": 20,
          "metadata": {},
          "output_type": "execute_result"
        }
      ],
      "source": [
        "# Retrive model by name\n",
        "model = Model(ws, 'HR-best-automl-model')\n",
        "model"
      ]
    },
    {
      "cell_type": "code",
      "execution_count": 21,
      "metadata": {
        "gather": {
          "logged": 1696093234664
        },
        "jupyter": {
          "outputs_hidden": false,
          "source_hidden": false
        },
        "nteract": {
          "transient": {
            "deleting": false
          }
        }
      },
      "outputs": [],
      "source": [
        "env = best_run.get_environment()\n",
        "\n",
        "script_file = 'score.py'\n",
        "best_run.download_file('outputs/scoring_file_v_1_0_0.py', script_file)"
      ]
    },
    {
      "cell_type": "code",
      "execution_count": 22,
      "metadata": {
        "gather": {
          "logged": 1696094072050
        },
        "jupyter": {
          "outputs_hidden": false,
          "source_hidden": false
        },
        "nteract": {
          "transient": {
            "deleting": false
          }
        }
      },
      "outputs": [
        {
          "name": "stdout",
          "output_type": "stream",
          "text": [
            "Tips: You can try get_logs(): https://aka.ms/debugimage#dockerlog or local deployment: https://aka.ms/debugimage#debug-locally to debug if deployment takes longer than 10 minutes.\n",
            "Running\n",
            "2023-09-30 17:00:50+00:00 Creating Container Registry if not exists..\n",
            "2023-09-30 17:10:50+00:00 Registering the environment.\n",
            "2023-09-30 17:10:51+00:00 Use the existing image.\n",
            "2023-09-30 17:10:52+00:00 Submitting deployment to compute..\n",
            "2023-09-30 17:10:57+00:00 Checking the status of deployment automl-model-deployment..\n",
            "2023-09-30 17:13:42+00:00 Checking the status of inference endpoint automl-model-deployment.\n",
            "Succeeded\n",
            "ACI service creation operation finished, operation \"Succeeded\"\n",
            "State:  Healthy\n",
            "\n",
            "Scoring URI:  http://bfd454ae-2063-4b1b-a45b-82f097e5a0e7.southcentralus.azurecontainer.io/score\n"
          ]
        }
      ],
      "source": [
        "from azureml.core.model import InferenceConfig\n",
        "from azureml.core.webservice import AciWebservice\n",
        "from azureml.core.webservice import Webservice\n",
        "from azureml.core.model import Model\n",
        "from azureml.core.environment import Environment\n",
        "\n",
        "inference_config = InferenceConfig(entry_script=script_file, environment=env)\n",
        "\n",
        "deployment_config = AciWebservice.deploy_configuration(cpu_cores = 1, \n",
        "                                                       memory_gb = 1)\n",
        "\n",
        "deploy_service_name= 'automl-model-deployment'\n",
        "service = Model.deploy(ws,deploy_service_name,  [model], inference_config, deployment_config)\n",
        "\n",
        "service.wait_for_deployment(show_output = True)\n",
        "\n",
        "scoring_uri = service.scoring_uri\n",
        "\n",
        "print(\"State: \",service.state)\n",
        "print(\"\\nScoring URI: \", scoring_uri)"
      ]
    },
    {
      "cell_type": "code",
      "execution_count": 24,
      "metadata": {
        "gather": {
          "logged": 1696094083940
        },
        "jupyter": {
          "outputs_hidden": false,
          "source_hidden": false
        },
        "nteract": {
          "transient": {
            "deleting": false
          }
        }
      },
      "outputs": [],
      "source": [
        "#Enable application insights\n",
        "service.update(enable_app_insights=True)"
      ]
    },
    {
      "cell_type": "markdown",
      "metadata": {
        "collapsed": true,
        "gather": {
          "logged": 1598432765711
        },
        "jupyter": {
          "outputs_hidden": false,
          "source_hidden": false
        },
        "nteract": {
          "transient": {
            "deleting": false
          }
        }
      },
      "source": [
        "TODO: In the cell below, print the logs of the web service and delete the service"
      ]
    },
    {
      "cell_type": "code",
      "execution_count": 28,
      "metadata": {
        "gather": {
          "logged": 1696094758259
        },
        "jupyter": {
          "outputs_hidden": false,
          "source_hidden": false
        },
        "nteract": {
          "transient": {
            "deleting": false
          }
        }
      },
      "outputs": [
        {
          "name": "stdout",
          "output_type": "stream",
          "text": [
            "{\"data\": [{\"satisfaction_level\": 0.63, \"last_evaluation\": 0.66, \"number_project\": 4, \"average_montly_hours\": 157, \"time_spend_company\": 2, \"Work_accident\": 0, \"promotion_last_5years\": 0, \"Department\": \"support\", \"salary\": \"medium\"}, {\"satisfaction_level\": 0.86, \"last_evaluation\": 0.85, \"number_project\": 5, \"average_montly_hours\": 267, \"time_spend_company\": 5, \"Work_accident\": 0, \"promotion_last_5years\": 0, \"Department\": \"sales\", \"salary\": \"medium\"}]}\n",
            "{\"result\": [0, 0]}\n"
          ]
        }
      ],
      "source": [
        "import json\n",
        "data_sample = df.sample(2)\n",
        "y_true = data_sample.pop('left')\n",
        "sample_json = json.dumps({'data':data_sample.to_dict(orient='records')})\n",
        "print(sample_json)\n",
        "output = service.run(sample_json)\n",
        "print(output)"
      ]
    },
    {
      "cell_type": "markdown",
      "metadata": {},
      "source": [
        "Another way to test the model endpoint is using the scoring URI and the key. This information is included in the scrpit `endpoint_v2.py` together with the sample data of the previous cell."
      ]
    },
    {
      "cell_type": "code",
      "execution_count": null,
      "metadata": {},
      "outputs": [
        {
          "name": "stdout",
          "output_type": "stream",
          "text": [
            "{'Results': [0, 0]}\r\n"
          ]
        }
      ],
      "source": [
        "!python endpoint_v2.py"
      ]
    },
    {
      "cell_type": "code",
      "execution_count": 23,
      "metadata": {
        "gather": {
          "logged": 1696094073767
        },
        "jupyter": {
          "outputs_hidden": false,
          "source_hidden": false
        },
        "nteract": {
          "transient": {
            "deleting": false
          }
        }
      },
      "outputs": [
        {
          "name": "stdout",
          "output_type": "stream",
          "text": [
            "\n",
            "Service Logs:\n",
            " 2023-09-30T17:13:32,906269300+00:00 - rsyslog/run \n",
            "2023-09-30T17:13:32,913717500+00:00 - gunicorn/run \n",
            "2023-09-30T17:13:32,919853700+00:00 | gunicorn/run | \n",
            "2023-09-30T17:13:32,921847900+00:00 | gunicorn/run | ###############################################\n",
            "2023-09-30T17:13:32,928967600+00:00 | gunicorn/run | AzureML Container Runtime Information\n",
            "2023-09-30T17:13:32,931057600+00:00 | gunicorn/run | ###############################################\n",
            "2023-09-30T17:13:32,936710300+00:00 | gunicorn/run | \n",
            "2023-09-30T17:13:32,944471600+00:00 | gunicorn/run | \n",
            "2023-09-30T17:13:32,947849800+00:00 - nginx/run \n",
            "2023-09-30T17:13:32,954470100+00:00 | gunicorn/run | AzureML image information: openmpi4.1.0-ubuntu20.04, Materializaton Build:20230628.v2\n",
            "2023-09-30T17:13:32,956130700+00:00 | gunicorn/run | \n",
            "2023-09-30T17:13:32,963816600+00:00 | gunicorn/run | \n",
            "2023-09-30T17:13:32,970114400+00:00 | gunicorn/run | PATH environment variable: /azureml-envs/azureml-automl/bin:/opt/miniconda/bin:/usr/local/sbin:/usr/local/bin:/usr/sbin:/usr/bin:/sbin:/bin\n",
            "2023-09-30T17:13:32,974647400+00:00 | gunicorn/run | PYTHONPATH environment variable: \n",
            "2023-09-30T17:13:32,979984000+00:00 | gunicorn/run | \n",
            "2023-09-30T17:13:34,543149300+00:00 | gunicorn/run | CONDAPATH environment variable: /opt/miniconda\n",
            "\n",
            "# conda environments:\n",
            "#\n",
            "                         /azureml-envs/azureml-automl\n",
            "base                     /opt/miniconda\n",
            "\n",
            "2023-09-30T17:13:36,523697530+00:00 | gunicorn/run | \n",
            "2023-09-30T17:13:36,525919334+00:00 | gunicorn/run | Pip Dependencies (before dynamic installation)\n",
            "\n",
            "adal==1.2.7\n",
            "applicationinsights==0.11.10\n",
            "arch==5.3.1\n",
            "argcomplete==2.1.2\n",
            "argon2-cffi==21.3.0\n",
            "argon2-cffi-bindings==21.2.0\n",
            "asttokens==2.2.1\n",
            "attrs==23.1.0\n",
            "azure-common==1.1.28\n",
            "azure-core==1.27.1\n",
            "azure-graphrbac==0.61.1\n",
            "azure-identity==1.13.0\n",
            "azure-mgmt-authorization==3.0.0\n",
            "azure-mgmt-containerregistry==10.1.0\n",
            "azure-mgmt-core==1.4.0\n",
            "azure-mgmt-keyvault==10.2.2\n",
            "azure-mgmt-resource==22.0.0\n",
            "azure-mgmt-storage==21.0.0\n",
            "azure-storage-blob==12.13.0\n",
            "azure-storage-queue==12.6.0\n",
            "azureml-automl-core==1.52.0.post1\n",
            "azureml-automl-runtime==1.52.0.post1\n",
            "azureml-core==1.52.0\n",
            "azureml-dataprep==4.11.4\n",
            "azureml-dataprep-native==38.0.0\n",
            "azureml-dataprep-rslex==2.18.4\n",
            "azureml-dataset-runtime==1.52.0\n",
            "azureml-defaults==1.52.0\n",
            "azureml-inference-server-http==0.8.4\n",
            "azureml-interpret==1.52.0\n",
            "azureml-mlflow==1.52.0\n",
            "azureml-pipeline-core==1.52.0\n",
            "azureml-responsibleai==1.52.0\n",
            "azureml-telemetry==1.52.0\n",
            "azureml-train-automl-client==1.52.0\n",
            "azureml-train-automl-runtime==1.52.0\n",
            "azureml-train-core==1.52.0\n",
            "azureml-train-restclients-hyperdrive==1.52.0\n",
            "azureml-training-tabular==1.52.0\n",
            "backcall==0.2.0\n",
            "backports.tempfile==1.0\n",
            "backports.weakref==1.0.post1\n",
            "bcrypt==4.0.1\n",
            "beautifulsoup4==4.12.2\n",
            "bleach==6.0.0\n",
            "bokeh==2.4.3\n",
            "boto==2.49.0\n",
            "boto3==1.20.19\n",
            "botocore==1.23.19\n",
            "Brotli @ file:///home/conda/feedstock_root/build_artifacts/brotli-split_1687884021435/work\n",
            "cachetools==5.3.1\n",
            "certifi==2023.5.7\n",
            "cffi @ file:///home/conda/feedstock_root/build_artifacts/cffi_1671179356964/work\n",
            "charset-normalizer @ file:///home/conda/feedstock_root/build_artifacts/charset-normalizer_1678108872112/work\n",
            "click==8.1.4\n",
            "cloudpickle @ file:///home/conda/feedstock_root/build_artifacts/cloudpickle_1598400192773/work\n",
            "cmdstanpy==0.9.5\n",
            "contextlib2==21.6.0\n",
            "contourpy==1.1.0\n",
            "convertdate @ file:///home/conda/feedstock_root/build_artifacts/convertdate_1642883757836/work\n",
            "cryptography==41.0.0\n",
            "cycler==0.11.0\n",
            "Cython==0.29.17\n",
            "dask==2023.2.0\n",
            "databricks-cli==0.17.7\n",
            "dataclasses==0.6\n",
            "debugpy==1.6.7\n",
            "decorator==5.1.1\n",
            "defusedxml==0.7.1\n",
            "dice-ml==0.9\n",
            "dill==0.3.6\n",
            "distributed==2023.2.0\n",
            "distro==1.8.0\n",
            "docker==6.1.3\n",
            "dotnetcore2==3.1.23\n",
            "econml==0.14.1\n",
            "entrypoints==0.4\n",
            "ephem==4.1.4\n",
            "erroranalysis==0.4.4\n",
            "executing==1.2.0\n",
            "fairlearn==0.8.0\n",
            "fastjsonschema==2.17.1\n",
            "fbprophet==0.7.1\n",
            "fire==0.5.0\n",
            "Flask==2.2.5\n",
            "Flask-Cors==3.0.10\n",
            "flatbuffers==23.5.26\n",
            "fonttools==4.40.0\n",
            "fsspec==2023.6.0\n",
            "fusepy==3.0.1\n",
            "gensim==3.8.3\n",
            "gitdb==4.0.10\n",
            "GitPython==3.1.31\n",
            "google-api-core==2.11.1\n",
            "google-auth==2.21.0\n",
            "googleapis-common-protos==1.59.1\n",
            "gunicorn==20.1.0\n",
            "h5py==3.9.0\n",
            "holidays @ file:///home/conda/feedstock_root/build_artifacts/holidays_1595448845196/work\n",
            "humanfriendly==10.0\n",
            "idna @ file:///home/conda/feedstock_root/build_artifacts/idna_1663625384323/work\n",
            "importlib-metadata==6.8.0\n",
            "importlib-resources==5.13.0\n",
            "inference-schema==1.5.1\n",
            "interpret-community==0.29.0\n",
            "interpret-core==0.3.2\n",
            "ipykernel==6.8.0\n",
            "ipython==8.12.2\n",
            "ipython-genutils==0.2.0\n",
            "isodate==0.6.1\n",
            "itsdangerous==2.1.2\n",
            "jedi==0.18.2\n",
            "jeepney==0.8.0\n",
            "Jinja2==3.1.2\n",
            "jmespath==0.10.0\n",
            "joblib @ file:///home/conda/feedstock_root/build_artifacts/joblib_1663332044897/work\n",
            "jsonpickle==3.0.1\n",
            "jsonschema==4.18.0\n",
            "jsonschema-specifications==2023.6.1\n",
            "jupyter_client==7.4.9\n",
            "jupyter_core==5.3.1\n",
            "jupyterlab-pygments==0.2.2\n",
            "keras2onnx==1.6.0\n",
            "kiwisolver==1.4.4\n",
            "knack==0.10.1\n",
            "korean-lunar-calendar @ file:///home/conda/feedstock_root/build_artifacts/korean_lunar_calendar_1663341251025/work\n",
            "lightgbm==3.2.1\n",
            "llvmlite==0.38.1\n",
            "locket==1.0.0\n",
            "LunarCalendar==0.0.9\n",
            "MarkupSafe==2.1.2\n",
            "matplotlib==3.7.2\n",
            "matplotlib-inline==0.1.6\n",
            "mistune==3.0.1\n",
            "ml-wrappers==0.4.11\n",
            "mlflow-skinny==2.4.1\n",
            "mltable==1.4.1\n",
            "msal==1.22.0\n",
            "msal-extensions==1.0.0\n",
            "msgpack==1.0.5\n",
            "msrest==0.7.1\n",
            "msrestazure==0.6.4\n",
            "nbclient==0.8.0\n",
            "nbconvert==7.6.0\n",
            "nbformat==5.9.0\n",
            "ndg-httpsclient==0.5.1\n",
            "nest-asyncio==1.5.6\n",
            "networkx==2.5\n",
            "notebook==6.4.9\n",
            "numba==0.55.2\n",
            "numpy==1.22.3\n",
            "oauthlib==3.2.2\n",
            "onnx==1.13.1\n",
            "onnxconverter-common==1.6.0\n",
            "onnxmltools==1.4.1\n",
            "onnxruntime==1.11.1\n",
            "opencensus==0.11.2\n",
            "opencensus-context==0.1.3\n",
            "opencensus-ext-azure==1.1.9\n",
            "packaging==23.0\n",
            "pandas==1.1.5\n",
            "pandocfilters==1.5.0\n",
            "paramiko==3.2.0\n",
            "parso==0.8.3\n",
            "partd==1.4.0\n",
            "pathspec==0.11.1\n",
            "patsy==0.5.3\n",
            "pexpect==4.8.0\n",
            "pickleshare==0.7.5\n",
            "Pillow==10.0.0\n",
            "pkginfo==1.9.6\n",
            "pkgutil_resolve_name==1.3.10\n",
            "platformdirs @ file:///home/conda/feedstock_root/build_artifacts/platformdirs_1688739404342/work\n",
            "pmdarima==1.8.0\n",
            "pooch @ file:///home/conda/feedstock_root/build_artifacts/pooch_1679580333621/work\n",
            "portalocker==2.7.0\n",
            "prometheus-client==0.17.0\n",
            "prompt-toolkit==3.0.39\n",
            "property-cached==1.6.4\n",
            "protobuf==3.20.3\n",
            "psutil @ file:///home/conda/feedstock_root/build_artifacts/psutil_1681775007745/work\n",
            "ptyprocess==0.7.0\n",
            "pure-eval==0.2.2\n",
            "py-cpuinfo==5.0.0\n",
            "pyarrow==9.0.0\n",
            "pyasn1==0.5.0\n",
            "pyasn1-modules==0.3.0\n",
            "pycparser @ file:///home/conda/feedstock_root/build_artifacts/pycparser_1636257122734/work\n",
            "pydantic==1.10.11\n",
            "Pygments==2.15.1\n",
            "PyJWT==2.7.0\n",
            "PyMeeus @ file:///home/conda/feedstock_root/build_artifacts/pymeeus_1670868433998/work\n",
            "PyNaCl==1.5.0\n",
            "pyOpenSSL @ file:///home/conda/feedstock_root/build_artifacts/pyopenssl_1685514481738/work\n",
            "pyparsing==3.0.9\n",
            "PySocks @ file:///home/conda/feedstock_root/build_artifacts/pysocks_1661604839144/work\n",
            "pystan==2.19.1.1\n",
            "python-dateutil @ file:///home/conda/feedstock_root/build_artifacts/python-dateutil_1626286286081/work\n",
            "pytz @ file:///home/conda/feedstock_root/build_artifacts/pytz_1680088766131/work\n",
            "PyYAML==6.0\n",
            "pyzmq==25.1.0\n",
            "raiutils==0.4.0\n",
            "referencing==0.29.1\n",
            "requests @ file:///home/conda/feedstock_root/build_artifacts/requests_1684774241324/work\n",
            "requests-oauthlib==1.3.1\n",
            "responsibleai==0.28.0\n",
            "rpds-py==0.8.8\n",
            "rsa==4.9\n",
            "s3transfer==0.5.2\n",
            "scikit-learn==0.22.1\n",
            "scipy==1.5.3\n",
            "SecretStorage==3.3.3\n",
            "semver==2.13.0\n",
            "Send2Trash==1.8.2\n",
            "setuptools-git==1.2\n",
            "shap==0.41.0\n",
            "six @ file:///home/conda/feedstock_root/build_artifacts/six_1620240208055/work\n",
            "skl2onnx==1.4.9\n",
            "sklearn-pandas==1.7.0\n",
            "slicer==0.0.7\n",
            "smart-open==1.9.0\n",
            "smmap==5.0.0\n",
            "sortedcontainers==2.4.0\n",
            "soupsieve==2.4.1\n",
            "sparse==0.14.0\n",
            "sqlparse==0.4.4\n",
            "stack-data==0.6.2\n",
            "statsmodels==0.11.1\n",
            "tabulate==0.9.0\n",
            "tblib==2.0.0\n",
            "termcolor==2.3.0\n",
            "terminado==0.17.1\n",
            "tinycss2==1.2.1\n",
            "toolz==0.12.0\n",
            "tornado==6.3.2\n",
            "tqdm==4.65.0\n",
            "traitlets==5.9.0\n",
            "typing_extensions @ file:///home/conda/feedstock_root/build_artifacts/typing_extensions_1688315532570/work\n",
            "urllib3==1.26.16\n",
            "wcwidth==0.2.6\n",
            "webencodings==0.5.1\n",
            "websocket-client==1.6.1\n",
            "Werkzeug==2.3.6\n",
            "wrapt==1.12.1\n",
            "xgboost==1.3.3\n",
            "zict==3.0.0\n",
            "zipp==3.15.0\n",
            "\n",
            "2023-09-30T17:13:39,801419565+00:00 | gunicorn/run | \n",
            "2023-09-30T17:13:39,806998075+00:00 | gunicorn/run | ###############################################\n",
            "2023-09-30T17:13:39,820298200+00:00 | gunicorn/run | Checking if the Python package azureml-inference-server-http is installed\n",
            "2023-09-30T17:13:39,828378614+00:00 | gunicorn/run | ###############################################\n",
            "2023-09-30T17:13:39,836612129+00:00 | gunicorn/run | \n",
            "2023-09-30T17:13:46,884316775+00:00 | gunicorn/run | \n",
            "2023-09-30T17:13:46,891415221+00:00 | gunicorn/run | ###############################################\n",
            "2023-09-30T17:13:46,902459893+00:00 | gunicorn/run | AzureML Inference Server\n",
            "2023-09-30T17:13:46,909848741+00:00 | gunicorn/run | ###############################################\n",
            "2023-09-30T17:13:46,914016168+00:00 | gunicorn/run | \n",
            "2023-09-30T17:13:52,507236833+00:00 | gunicorn/run | Starting AzureML Inference Server HTTP.\n",
            "2023-09-30 17:13:53,247 I [76] azmlinfsrv - Loaded logging config from /azureml-envs/azureml-automl/lib/python3.8/site-packages/azureml_inference_server_http/logging.json\n",
            "2023-09-30 17:13:53,912 I [76] gunicorn.error - Starting gunicorn 20.1.0\n",
            "2023-09-30 17:13:53,915 I [76] gunicorn.error - Listening at: http://0.0.0.0:31311 (76)\n",
            "2023-09-30 17:13:53,915 I [76] gunicorn.error - Using worker: sync\n",
            "2023-09-30 17:13:53,928 I [167] gunicorn.error - Booting worker with pid: 167\n",
            "\n",
            "Azure ML Inferencing HTTP server v0.8.4\n",
            "\n",
            "\n",
            "Server Settings\n",
            "---------------\n",
            "Entry Script Name: /var/azureml-app/main.py\n",
            "Model Directory: /var/azureml-app/azureml-models/HR-best-automl-model/1\n",
            "/azureml-envs/azureml-automl/lib/python3.8/site-packages/azureml_inference_server_http/server/config.py:51: FutureWarning: aliases are no longer used by BaseSettings to define which environment variables to read. Instead use the \"env\" field setting. See https://pydantic-docs.helpmanual.io/usage/settings/#environment-variable-names\n",
            "  class AMLInferenceServerConfig(pydantic.BaseSettings):\n",
            "Config File: None\n",
            "Worker Count: 1\n",
            "Worker Timeout (seconds): 300\n",
            "Server Port: 31311\n",
            "Health Port: 31311\n",
            "Application Insights Enabled: false\n",
            "Application Insights Key: None\n",
            "Inferencing HTTP server version: azmlinfsrv/0.8.4\n",
            "CORS for the specified origins: None\n",
            "Create dedicated endpoint for health: None\n",
            "\n",
            "\n",
            "Server Routes\n",
            "---------------\n",
            "Liveness Probe: GET   127.0.0.1:31311/\n",
            "Score:          POST  127.0.0.1:31311/score\n",
            "\n",
            "2023-09-30 17:13:55,672 I [167] azmlinfsrv - AML_FLASK_ONE_COMPATIBILITY is set. Patched Flask to ensure compatibility with Flask 1.\n",
            "Initializing logger\n",
            "2023-09-30 17:13:55,676 I [167] azmlinfsrv - Starting up app insights client\n",
            "2023-09-30 17:13:57,650 I [167] azmlinfsrv.user_script - Found driver script at /var/azureml-app/main.py and the score script at /var/azureml-app/score.py\n",
            "2023-09-30 17:13:57,651 I [167] azmlinfsrv.user_script - run() is decorated with @input_schema. Server will invoke it with the following arguments: data, method.\n",
            "2023-09-30 17:13:57,651 I [167] azmlinfsrv.user_script - Invoking user's init function\n",
            "ERROR:fbprophet.plot:Importing plotly failed. Interactive plots will not work.\n",
            "2023-09-30 17:14:18,204 I [167] azmlinfsrv.user_script - Users's init has completed successfully\n",
            "2023-09-30 17:14:18,285 I [167] azmlinfsrv.swagger - Swaggers are prepared for the following versions: [2, 3, 3.1].\n",
            "2023-09-30 17:14:18,287 I [167] azmlinfsrv - Scoring timeout is set to 60000\n",
            "2023-09-30 17:14:18,294 W [167] azmlinfsrv - x-ms-request-id header has been deprecated and will be removed from future versions of the server. Please use x-ms-client-request-id.\n",
            "2023-09-30 17:14:18,296 I [167] gunicorn.access - 127.0.0.1 - - [30/Sep/2023:17:14:18 +0000] \"GET / HTTP/1.0\" 200 7 \"-\" \"Go-http-client/1.1\"\n",
            "2023-09-30 17:14:18,300 W [167] azmlinfsrv - x-ms-request-id header has been deprecated and will be removed from future versions of the server. Please use x-ms-client-request-id.\n",
            "2023-09-30 17:14:18,301 I [167] gunicorn.access - 127.0.0.1 - - [30/Sep/2023:17:14:18 +0000] \"GET / HTTP/1.0\" 200 7 \"-\" \"Go-http-client/1.1\"\n",
            "2023-09-30 17:14:18,302 W [167] azmlinfsrv - x-ms-request-id header has been deprecated and will be removed from future versions of the server. Please use x-ms-client-request-id.\n",
            "2023-09-30 17:14:18,302 I [167] gunicorn.access - 127.0.0.1 - - [30/Sep/2023:17:14:18 +0000] \"GET / HTTP/1.0\" 200 7 \"-\" \"Go-http-client/1.1\"\n",
            "2023-09-30 17:14:18,303 W [167] azmlinfsrv - x-ms-request-id header has been deprecated and will be removed from future versions of the server. Please use x-ms-client-request-id.\n",
            "2023-09-30 17:14:18,309 I [167] gunicorn.access - 127.0.0.1 - - [30/Sep/2023:17:14:18 +0000] \"GET / HTTP/1.0\" 200 7 \"-\" \"Go-http-client/1.1\"\n",
            "2023-09-30 17:14:18,313 I [167] gunicorn.access - 127.0.0.1 - - [30/Sep/2023:17:14:18 +0000] \"GET / HTTP/1.0\" 200 7 \"-\" \"curl/7.58.0\"\n",
            "2023-09-30 17:14:28,671 W [167] azmlinfsrv - x-ms-request-id header has been deprecated and will be removed from future versions of the server. Please use x-ms-client-request-id.\n",
            "2023-09-30 17:14:28,673 I [167] gunicorn.access - 127.0.0.1 - - [30/Sep/2023:17:14:28 +0000] \"GET / HTTP/1.0\" 200 7 \"-\" \"Go-http-client/1.1\"\n",
            "2023-09-30 17:14:28,697 W [167] azmlinfsrv - x-ms-request-id header has been deprecated and will be removed from future versions of the server. Please use x-ms-client-request-id.\n",
            "2023-09-30 17:14:28,698 I [167] azmlinfsrv - GET /swagger.json 200 1.096ms 3393\n",
            "2023-09-30 17:14:28,699 I [167] gunicorn.access - 127.0.0.1 - - [30/Sep/2023:17:14:28 +0000] \"GET /swagger.json HTTP/1.0\" 200 3393 \"-\" \"Go-http-client/1.1\"\n",
            "2023-09-30 17:14:31,636 W [167] azmlinfsrv - x-ms-request-id header has been deprecated and will be removed from future versions of the server. Please use x-ms-client-request-id.\n",
            "2023-09-30 17:14:31,638 I [167] gunicorn.access - 127.0.0.1 - - [30/Sep/2023:17:14:31 +0000] \"GET / HTTP/1.0\" 200 7 \"-\" \"Go-http-client/1.1\"\n",
            "2023-09-30 17:14:31,655 W [167] azmlinfsrv - x-ms-request-id header has been deprecated and will be removed from future versions of the server. Please use x-ms-client-request-id.\n",
            "2023-09-30 17:14:31,661 I [167] azmlinfsrv - GET /swagger.json 200 7.199ms 3393\n",
            "2023-09-30 17:14:31,663 I [167] gunicorn.access - 127.0.0.1 - - [30/Sep/2023:17:14:31 +0000] \"GET /swagger.json HTTP/1.0\" 200 3393 \"-\" \"Go-http-client/1.1\"\n",
            "\n"
          ]
        }
      ],
      "source": [
        "print(\"\\nService Logs:\\n\",service.get_logs())"
      ]
    },
    {
      "cell_type": "code",
      "execution_count": 31,
      "metadata": {
        "gather": {
          "logged": 1696107319092
        },
        "jupyter": {
          "outputs_hidden": false,
          "source_hidden": false
        },
        "nteract": {
          "transient": {
            "deleting": false
          }
        }
      },
      "outputs": [],
      "source": [
        "#Delete the endpoint\n",
        "service.delete()"
      ]
    },
    {
      "cell_type": "markdown",
      "metadata": {},
      "source": [
        "Once all the work has been completed, we proceed to delete the cluster."
      ]
    },
    {
      "cell_type": "code",
      "execution_count": 32,
      "metadata": {
        "gather": {
          "logged": 1696107319632
        }
      },
      "outputs": [],
      "source": [
        "#Delete the cluster\n",
        "cpu_cluster.delete()"
      ]
    },
    {
      "cell_type": "code",
      "execution_count": 33,
      "metadata": {
        "gather": {
          "logged": 1696107319959
        }
      },
      "outputs": [
        {
          "data": {
            "text/plain": [
              "AmlCompute(workspace=Workspace.create(name='quick-starts-ws-242066', subscription_id='d7f39349-a66b-446e-aba6-0053c2cf1c11', resource_group='aml-quickstarts-242066'), name=cluster-udacity, id=/subscriptions/d7f39349-a66b-446e-aba6-0053c2cf1c11/resourceGroups/aml-quickstarts-242066/providers/Microsoft.MachineLearningServices/workspaces/quick-starts-ws-242066/computes/cluster-udacity, type=AmlCompute, provisioning_state=Deleting, location=southcentralus, tags=None)"
            ]
          },
          "execution_count": 33,
          "metadata": {},
          "output_type": "execute_result"
        },
        {
          "name": "stderr",
          "output_type": "stream",
          "text": [
            "WARNING:urllib3.connectionpool:Retrying (Retry(total=2, connect=2, read=3, redirect=None, status=None)) after connection broken by 'ConnectTimeoutError(<urllib3.connection.HTTPSConnection object at 0x7f9193cb2880>, 'Connection to southcentralus.experiments.azureml.net timed out. (connect timeout=100)')': /history/v1.0/subscriptions/d7f39349-a66b-446e-aba6-0053c2cf1c11/resourceGroups/aml-quickstarts-242066/providers/Microsoft.MachineLearningServices/workspaces/quick-starts-ws-242066/experimentids/97a7d825-4271-4b06-a0b0-13a316936862/runs/AutoML_979f9db3-ed3f-4ab4-8b4a-532c929e983a\n",
            "WARNING:urllib3.connectionpool:Retrying (Retry(total=2, connect=2, read=3, redirect=None, status=None)) after connection broken by 'ConnectTimeoutError(<urllib3.connection.HTTPSConnection object at 0x7f9193c17a00>, 'Connection to southcentralus.experiments.azureml.net timed out. (connect timeout=100)')': /history/v1.0/subscriptions/d7f39349-a66b-446e-aba6-0053c2cf1c11/resourceGroups/aml-quickstarts-242066/providers/Microsoft.MachineLearningServices/workspaces/quick-starts-ws-242066/experimentids/97a7d825-4271-4b06-a0b0-13a316936862/runs/AutoML_979f9db3-ed3f-4ab4-8b4a-532c929e983a\n"
          ]
        }
      ],
      "source": [
        "# Check status of the cluster for deletion \n",
        "cpu_cluster"
      ]
    },
    {
      "cell_type": "markdown",
      "metadata": {},
      "source": [
        "**Submission Checklist**\n",
        "- I have registered the model.\n",
        "- I have deployed the model with the best accuracy as a webservice.\n",
        "- I have tested the webservice by sending a request to the model endpoint.\n",
        "- I have deleted the webservice and shutdown all the computes that I have used.\n",
        "- I have taken a screenshot showing the model endpoint as active.\n",
        "- The project includes a file containing the environment details.\n"
      ]
    },
    {
      "cell_type": "markdown",
      "metadata": {},
      "source": []
    }
  ],
  "metadata": {
    "kernel_info": {
      "name": "python38-azureml"
    },
    "kernelspec": {
      "display_name": "Python 3.8 - AzureML",
      "language": "python",
      "name": "python38-azureml"
    },
    "language_info": {
      "codemirror_mode": {
        "name": "ipython",
        "version": 3
      },
      "file_extension": ".py",
      "mimetype": "text/x-python",
      "name": "python",
      "nbconvert_exporter": "python",
      "pygments_lexer": "ipython3",
      "version": "3.8.5"
    },
    "microsoft": {
      "host": {
        "AzureML": {
          "notebookHasBeenCompleted": true
        }
      },
      "ms_spell_check": {
        "ms_spell_check_language": "en"
      }
    },
    "nteract": {
      "version": "nteract-front-end@1.0.0"
    }
  },
  "nbformat": 4,
  "nbformat_minor": 2
}
